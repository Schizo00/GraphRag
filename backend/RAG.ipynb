{
  "cells": [
    {
      "cell_type": "code",
      "execution_count": 13,
      "metadata": {
        "id": "q8EzdaTJFTbx"
      },
      "outputs": [],
      "source": [
        "from langchain_core.runnables import (\n",
        "    RunnableBranch,\n",
        "    RunnableLambda,\n",
        "    RunnableParallel,\n",
        "    RunnablePassthrough,\n",
        ")"
      ]
    },
    {
      "cell_type": "code",
      "execution_count": 14,
      "metadata": {
        "id": "vKkxxyasFWPh"
      },
      "outputs": [],
      "source": [
        "from langchain_core.prompts import ChatPromptTemplate\n",
        "from langchain_core.prompts.prompt import PromptTemplate"
      ]
    },
    {
      "cell_type": "code",
      "execution_count": 15,
      "metadata": {
        "id": "GCEgNy7LFXS4"
      },
      "outputs": [],
      "source": [
        "from typing import Tuple, List, Optional"
      ]
    },
    {
      "cell_type": "code",
      "execution_count": 16,
      "metadata": {
        "id": "ymZquwggFaNr"
      },
      "outputs": [],
      "source": [
        "from langchain_core.messages import AIMessage, HumanMessage\n",
        "from langchain_core.output_parsers import StrOutputParser"
      ]
    },
    {
      "cell_type": "code",
      "execution_count": 17,
      "metadata": {
        "id": "nitfT-ktFaQQ"
      },
      "outputs": [],
      "source": [
        "from langchain_core.runnables import ConfigurableField"
      ]
    },
    {
      "cell_type": "code",
      "execution_count": 18,
      "metadata": {
        "id": "fzOPupw0FaSy"
      },
      "outputs": [],
      "source": [
        "from yfiles_jupyter_graphs import GraphWidget\n",
        "from neo4j import GraphDatabase\n"
      ]
    },
    {
      "cell_type": "code",
      "execution_count": 19,
      "metadata": {
        "id": "g6kjt1HkFaVZ"
      },
      "outputs": [
        {
          "data": {
            "text/plain": [
              "True"
            ]
          },
          "execution_count": 19,
          "metadata": {},
          "output_type": "execute_result"
        }
      ],
      "source": [
        "import os\n",
        "import json\n",
        "\n",
        "from dotenv import load_dotenv\n",
        "load_dotenv()"
      ]
    },
    {
      "cell_type": "code",
      "execution_count": 20,
      "metadata": {},
      "outputs": [
        {
          "name": "stdout",
          "output_type": "stream",
          "text": [
            "neo4j://localhost:7999\n",
            "neo4j\n",
            "password\n"
          ]
        }
      ],
      "source": [
        "print(os.environ['NEO4J_URI'])\n",
        "print(os.environ['NEO4J_USERNAME'])\n",
        "print(os.environ['NEO4J_PASSWORD'])"
      ]
    },
    {
      "cell_type": "code",
      "execution_count": 21,
      "metadata": {
        "id": "pSgOwI9SFhHr"
      },
      "outputs": [],
      "source": [
        "from langchain_community.vectorstores import Neo4jVector"
      ]
    },
    {
      "cell_type": "code",
      "execution_count": 22,
      "metadata": {
        "id": "lyOvwiijFlQF"
      },
      "outputs": [],
      "source": [
        "with open(\"./config.json\", \"r\") as f:\n",
        "    config = json.load(f)"
      ]
    },
    {
      "cell_type": "code",
      "execution_count": 23,
      "metadata": {
        "id": "zpIPagYu6BAp"
      },
      "outputs": [],
      "source": [
        "from langchain_community.graphs import Neo4jGraph"
      ]
    },
    {
      "cell_type": "code",
      "execution_count": 24,
      "metadata": {
        "id": "0xzi4bRD6Bx9"
      },
      "outputs": [],
      "source": [
        "graph = Neo4jGraph()"
      ]
    },
    {
      "cell_type": "code",
      "execution_count": 25,
      "metadata": {
        "colab": {
          "base_uri": "https://localhost:8080/"
        },
        "id": "XKqtMDVY6WwW",
        "outputId": "c432ea29-28d4-4501-e01e-dececbc2d748"
      },
      "outputs": [],
      "source": [
        "# from langchain.document_loaders import WikipediaLoader\n",
        "# raw_documents = WikipediaLoader(query=\"Elizabeth I\").load()"
      ]
    },
    {
      "cell_type": "code",
      "execution_count": 26,
      "metadata": {},
      "outputs": [],
      "source": [
        "from langchain_community.document_loaders import UnstructuredMarkdownLoader\n",
        "\n",
        "DATA_SOURCE = config['DATA']\n",
        "\n",
        "raw_documents = []\n",
        "\n",
        "for i in os.listdir(DATA_SOURCE):\n",
        "    if i.endswith(\".md\"):\n",
        "        loader = UnstructuredMarkdownLoader(f\"{DATA_SOURCE}/{i}\")\n",
        "        data = loader.load()\n",
        "        raw_documents.append(data[0])"
      ]
    },
    {
      "cell_type": "code",
      "execution_count": 27,
      "metadata": {
        "colab": {
          "base_uri": "https://localhost:8080/"
        },
        "id": "ACWeDt0O7yc2",
        "outputId": "14415b49-96a8-4c23-e8f0-c962afbe1135"
      },
      "outputs": [
        {
          "data": {
            "text/plain": [
              "45"
            ]
          },
          "execution_count": 27,
          "metadata": {},
          "output_type": "execute_result"
        }
      ],
      "source": [
        "len(raw_documents)"
      ]
    },
    {
      "cell_type": "code",
      "execution_count": 28,
      "metadata": {
        "colab": {
          "base_uri": "https://localhost:8080/"
        },
        "id": "skFy3n30732l",
        "outputId": "95a859ac-436a-4de9-e1fa-146aa92c07d0"
      },
      "outputs": [
        {
          "data": {
            "text/plain": [
              "[Document(metadata={'source': './data/0.md'}, page_content='LOLC Technologies Knowledge Base\\n\\nContact: +94 011 500 1121 (076 884 0426)\\n\\nAbout LOLC Technologies\\n\\nLOLC Technologies Limited, a fully owned subsidiary of LOLC Group, incorporated in 2004, is an expert in IT Systems integrations. The company holds ISO 9000, ISO 20000, and ISO 27001 certifications.\\n\\nMission: Facilitating businesses to reach greater heights through innovative and cutting-edge technology solutions. Powering impossibilities by providing tailor-made solutions to clients across the globe.\\n\\nWhat We Are\\n\\nBringing you tomorrows technology today.\\n\\nWhat We Do\\n\\nOur IT Solutions:\\n\\nERP and EPM: Solutions to ease your day-to-day financial and operational activities and increase your business efficiency. [Learn More]\\n\\nMulti-Cloud Technology: Gives organizations more flexibility to optimize performance, control costs, and leverage the best cloud technologies available. [Learn More]\\n\\nService Transformation & Automation: Solutions at your fingertips through the latest real-time systems. [Learn More]\\n\\nGRC, Information Security & Consultancy: Maximize your investments, delivering envisioned benefits with best practices. [Learn More]\\n\\nFinTech: Latest technologies in AI (Artificial Intelligence), cloud computing, block chain, and big data. [Learn More]\\n\\nMIS & Analytics: Custom designed insightful dashboards with relevant business improvement information. [Learn More]\\n\\nManaged Services: Reducing your expenses with improved service quality. [Learn More]\\n\\nDatabase Services: [Learn More]\\n\\nSolutions for Business\\n\\nBanking & Finance\\n\\nTelecommunication\\n\\nLeisure\\n\\nManufacturing\\n\\nConglomerates\\n\\nKey Metrics:\\n\\n500+ Happy Users\\n\\n850+ Projects Done\\n\\n350+ Business Partners\\n\\n12+ Awards Winning\\n\\nCase Studies\\n\\nOur Work Speaks\\n\\nLOLC Technologies Boosts Efficiency Through Innovation (Industrial)\\n\\nThe Pioneering Journey of LOLC Technologies …\\n\\nHUTCH completes implementation of advanced Oracle … (Industrial / Telecommunication)\\n\\nOur Team\\n\\nOur Leadership Team\\n\\nMr. Conrad Dias: Director – LOLC Holdings PLC, Director / CEO – LOLC Finance PLC, Chairman of LOLC Technology Limited. Counts over 25 years of experience in sectors such as Trading, Banking.\\n\\nPrasanna Siriwardena: Deputy CEO - LOLC Technology Services Ltd cum Chief Information Officer - LOLC Holdings, General – IT .\\n\\nChamini Attanayake: Chief Operating Officer. Laying an astounding groundwork in education.\\n\\nOur Clients\\n\\nWhat Our Clients Say\\n\\nLECO: \"It is a pleasure we are writing to recommend LOLC technologies. We have worked with LOLC Technologies hand in hand, to accomplish our daily operations pertaining to IT assistance. In our Journey with them LOLC Tech had always been a reliable partner to us.\"\\n\\nWindforce PLC, Rusiri Cooray, Financial Controller: \"The Financial consolidation has never been so easy. With Oracle FCCS in place, the monthly consolidation has become much easy for us. Thank you LOLC Tech for helping us to get onboard with Oracle FCCS within such a short period.\"\\n\\nNTB: \"The OASYS^ has brought efficeincy in a way to assist our staff to interact with the system easily while maintaining the transpaerncy in all levels. We would like to highlight the asset management module as it adds distinct value addition to the overall solution.\"\\n\\nLOLC Cambodia PLC: \"LOLC Cambodia is using OASYS since 2020 and we are using the automated helpdesk system, workflow management system, incident management system and report builder modules.\"\\n\\nRecent Articles\\n\\nRead Our Latest Articles & Knowledge\\n\\nSep 21, 2022 - STARTUPS: The Pioneering Journey of L...\\n\\nJun 16, 2022 - TECHNOLOGY: LOLC Technologies Boosts Ef...\\n\\nJun 14, 2021 - STARTUPS TECHNOLOGY: Hutch completes successful ...\\n\\nApr 02, 2020 - BUSSINESS STARTUPS: FusionX by LOLC Technology ...\\n\\nJan 30, 2025 - BUSSINESS: LOLC Technologies joins han...\\n\\nJan 15, 2025 - EVENT: Beyond Boundaries: LOLC Tec...\\n\\nJan 07, 2025 - BUSSINESS: LOLC’S Global IT Conference...\\n\\nNov 03, 2024 - BUSSINESS: LOLC Tech and Sanfer partne...\\n\\nJul 30, 2024 - TECHNOLOGY: LOLC Technologies unveils S...'),\n",
              " Document(metadata={'source': './data/1.md'}, page_content='LOLC Technologies Overview\\n\\nContact: +94 011 500 1121 (076 884 0426)\\n\\nLOLC Technologies Limited, a fully owned subsidiary of LOLC Group, incorporated in 2004, specializes in IT Systems integrations. The company holds ISO 9000, ISO 20000, and ISO 27001 certifications.\\n\\nWhat We Offer\\n\\nLOLC Technologies aims to facilitate reaching greater heights in business through innovative and cutting-edge technology solutions, powering impossibilities with tailor-made solutions for businesses and providing solutions to clients across the globe.\\n\\nCore Values\\n\\nBringing you tomorrow\\'s technology today.\\n\\nIT Solutions\\n\\nERP and EPM: Solutions to ease day-to-day financial and operational activities and increase business efficiency. [LEARN MORE]\\n\\nMulti-Cloud Technology: Flexibility to optimize performance, control costs, and leverage the best cloud technologies available. [LEARN MORE]\\n\\nService Transformation & Automation: Real-time solutions at your fingertips. [LEARN MORE]\\n\\nGRC, Information Security & Consultancy: Maximize investments with best practices and desirable profits. [LEARN MORE]\\n\\nFinTech: Latest technologies in AI (Artificial Intelligence), cloud computing, blockchain, and big data. [LEARN MORE]\\n\\nMIS & Analytics: Custom-designed insightful dashboards with relevant business improvement information. [LEARN MORE]\\n\\nManaged Services: Reducing expenses with improved service quality. [LEARN MORE]\\n\\nDatabase Services: [LEARN MORE]\\n\\nIndustries Served\\n\\nBanking & Finance\\n\\nTelecommunication\\n\\nLeisure\\n\\nManufacturing\\n\\nConglomerates\\n\\nStatistics\\n\\n500+ Happy Users\\n\\n850+ Projects Done\\n\\n350+ Business Partners\\n\\n12+ Awards Winning\\n\\nCase Studies\\n\\nLOLC Technologies creates exceptional solutions with expertise and out-of-the-box approaches.\\n\\nLOLC Technologies Boosts Efficiency Through Innovation (Industrial)\\n\\nThe Pioneering Journey of LOLC Technologies …\\n\\nHUTCH completes implementation of advanced Oracle … (Industrial / Telecommunication)\\n\\nLeadership Team\\n\\nMr. Conrad Dias: Director – LOLC Holdings PLC, Director / CEO – LOLC Finance PLC, Chairman of LOLC Technology Limited. Over 25 years of experience in sectors such as Trading, Banking…\\n\\nPrasanna Siriwardena: Deputy CEO - LOLC Technology Services Ltd cum Chief Information Officer - LOLC Holdings, General – IT .\\n\\nChamini Attanayake: Chief Operating Officer. An astounding groundwork in education.\\n\\nClients\\n\\nLECO: \"It is a pleasure we are writing to recommend LOLC technologies. We have worked with LOLC Technologies hand in hand, to accomplish our daily operations pertaining to IT assistance. In our Journey with them LOLC Tech had always been a reliable partner to us.\"\\n\\nWindforce PLC (Rusiri Cooray, Financial Controller): \"The Financial consolidation has never been so easy. With Oracle FCCS in place, the monthly consolidation has become much easy for us. Thank you LOLC Tech for helping us to get onboard with Oracle FCCS within such a short period.\"\\n\\nNTB: \"The OASYS^ has brought efficiency in a way to assist our staff to interact with the system easily while maintaining the transparency in all levels. We would like to highlight the asset management module as it adds distinct value addition to the overall solution.\"\\n\\nLOLC Cambodia PLC: \"LOLC Cambodia is using OASYS since 2020 and we are using the automated helpdesk system, workflow management system, incident management system and report builder modules.\"\\n\\nRecent Articles\\n\\nSep 21, 2022 - STARTUPS: The Pioneering Journey of LOLC... (There are very few companies on the island whose name rings almost synonymous with scale, reliability…) [LEARN MORE]\\n\\nJun 16, 2022 - TECHNOLOGY: LOLC Technologies Boosts Ef... (For LOLC Technologies, their ground-breaking approach to innovation-driven business process reengineering (BPR) has not only changed…) [LEARN MORE]\\n\\nJun 14, 2021 - STARTUPS TECHNOLOGY: Hutch completes successful ... (Hutch, Sri Lanka’s fastest-growing mobile broadband operator, accomplished yet another major milestone in its rapid transformation…) [LEARN MORE]\\n\\nApr 02, 2020 - BUSSINESS STARTUPS: FusionX by LOLC Technology ... (As technology evolves, organizations need to stay ahead of the curve. Entities such as LOLC Technologies…) [LEARN MORE]\\n\\nJan 30, 2025 - BUSSINESS: LOLC Technologies joins han... (From left: Prasanna Siriwardena, Deputy CEO of LOLC Technologies Ltd and CIO of LOLC Holdings PLC;…) [LEARN MORE]\\n\\nJan 15, 2025 - EVENT: Beyond Boundaries: LOLC Tec... (“Talent wins games, but teamwork and intelligence win championships.” – Michael Jordan LOLC Technologies’ recreations club…) [LEARN MORE]\\n\\nJan 07, 2025 - BUSSINESS: LOLC’S Global IT Conference... (Panellists on day 2 discussed the role changes required for CIOs and Heads of IT in…) [LEARN MORE]\\n\\nNov 03, 2024 - BUSSINESS: LOLC Tech and Sanfer partne... (OASYS^, a game-changing innovation by LOLC Technologies, a fully owned subsidiary of LOLC Group, has entered…) [LEARN MORE]\\n\\nJul 30, 2024 - TECHNOLOGY: LOLC Technologies unveils S... (LOLC Technologies has launched an AI-driven chatbot powered by a Large Language Model (LLM). This innovative…) [LEARN MORE]'),\n",
              " Document(metadata={'source': './data/10.md'}, page_content='GRC, Information Security & Consultancy\\n\\nMaximize your investments, delivering envisioned benefits with best practices and desirable profits through our GRC, Information Security, and consultancy solutions.\\n\\nThrough GRC solutions, we at LOLC Technologies provide your company with the capability to manage IT and security risks of your company while reducing costs and meeting company compliance requirements helping you address uncertainties and act with integrity.\\n\\nContact: +94 011 500 1121 (076 884 0426)'),\n",
              " Document(metadata={'source': './data/11.md'}, page_content='LOLC Technologies FinTech Solutions\\n\\nContact\\n\\n+94 011 500 1121 (076 884 0426)\\n\\nOverview\\n\\nLOLC Technologies provides FinTech services and solutions, leveraging the latest technologies in AI (Artificial Intelligence), cloud computing, blockchain, and big data. We guide you through a journey that surpasses traditional financial methods, offering the financial solutions of the future.'),\n",
              " Document(metadata={'source': './data/12.md'}, page_content='LOLC Technologies MIS & Analytics\\n\\nLOLC Technologies designs insightful dashboards with relevant business improvement information. These dashboards facilitate weekly updates and serve as essential business trackers, converting raw data into valuable business analytics.\\n\\nAlgorithms are used to analyze data patterns, providing detailed, reliable, and insightful reports to customers.\\n\\nOur services in MIS and analytics offer:\\n\\nFinancial performance reporting\\n\\nData mining\\n\\nOperational performance reporting\\n\\nTechnical performance reporting\\n\\nMany other options'),\n",
              " Document(metadata={'source': './data/13.md'}, page_content='LOLC Technologies Managed Services\\n\\nContact Information\\n\\n+94 011 500 1121 (076 884 0426)\\n\\nManaged Services Overview\\n\\nAt LOLC Technologies, our managed services aim to reduce your expenses while improving service quality. We provide committed service, delivering efficiency and convenience at every stage and scale. Our solutions and services help you manage the cost of IT infrastructure, especially during uncertain and critical times, with ease and high efficiency.\\n\\nWe guarantee the stability and security of database systems and other technologies handled through our services. This is ensured by the qualified abilities and expertise of our certified engineers, who are experienced in installing and supporting large system installations.'),\n",
              " Document(metadata={'source': './data/14.md'}, page_content='LOLC Technologies Database Services\\n\\n+94 011 500 1121 (076 884 0426)\\n\\nDatabase Services\\n\\nHome/ Services & Solutions/ Database Services\\n\\n[BACK]\\n\\nOur database and cloud services are spread across sectors such as leisure, banking and finance, information technology, and services.'),\n",
              " Document(metadata={'source': './data/15.md'}, page_content='LOLC Technologies Boosts Efficiency Through Innovation\\n\\nFor LOLC Technologies, their ground-breaking approach to innovation-driven business process reengineering (BPR) has not only changed how the LOLC Group executes core functions. It has also uplifted efficiency both locally and globally with the implementation of its paperless document management system and the integration of robotic process automation into the overarching group workflow. The brilliance of LOLC Technologies shines through in its commitment to innovation to drive greater efficiency. A deep commitment to long-term strategic thinking, prioritizing data-driven decision-making and embracing automation in the push for group-encompassing adoption.'),\n",
              " Document(metadata={'source': './data/16.md'}, page_content='The Pioneering Journey of LOLC Technologies …\\n\\nThere are very few companies on the island whose name rings almost synonymous with scale, reliability and diversity. However, the LOLC Group and its assortment of subsidiaries have developed a conglomerate that is truly magnificent to behold, not only for its sheer scale but also in how they have, over time, altered the fabric of how businesses are run in Sri Lanka.\\n\\nContact: +94 011 500 1121 (076 884 0426)'),\n",
              " Document(metadata={'source': './data/17.md'}, page_content='HUTCH completes implementation of advanced Oracle …\\n\\nHUTCH accomplished a major milestone by successfully implementing the latest Oracle Fusion Cloud Enterprise Resource Planning (ERP) system during the COVID pandemic.\\n\\nMost legacy ERP systems are deployed on-premises, but Hutch decided to implement a future-proof Oracle Cloud ERP.\\n\\nThe project was facilitated by CK Hutchison group through CKH-IOD, and spearheaded by LOLC Technologies Limited partnered with EVOSYS Global. Hutch also partnered with PWC-Sri Lanka for expert consultancy services.\\n\\nLalith Fernando, Chief Financial Officer of Hutch, commented, “The implementation of the Oracle Fusion Cloud ERP system will allow us to transform the business to help achieve our goals while adhering to global best practices. The Oracle ERP system offers advanced capabilities, such as AI to automate manual processes, analytics to react to market shifts in real-time, and automatic updates to stay current and gain a competitive advantage.\\n\\nThe successful on-time implementation of this ERP system was impressive as it was executed almost entirely during the COVID pandemic.\\n\\nThe Oracle Fusion modules comprise Oracle Fusion Supply Chain, Oracle Fusion Finance, and Oracle Integration Cloud (OIC). It offers a unified experience allowing best practices, modernized key operations, and automated Finance & Supply Chain business functions integrating core operations and business support systems (OSS/BSS) in a dynamic Telco environment to provide improved decision making and operational efficiencies.\\n\\nThis ERP project is part of Hutch’s merger with Etisalat Lanka, initiated in 2019, and has led to the modernisation of the entire operation from the deployment of an advanced 4G network and the complete digitalisation of its back-office operations. This will enable Hutch to continue to offer the best mobile broadband experience to its customers at the most affordable rates.'),\n",
              " Document(metadata={'source': './data/18.md'}, page_content='LOLC Technologies Startups News\\n\\n+94 011 500 1121 (076 884 0426)\\n\\nServices & Solutions Partners About Join Us Contact\\n\\nHome/ Blog/ Startups\\n\\nLATEST NEWS\\n\\nThe Pioneering Journey of LOLC Technologies\\n\\nSep 21, 2022\\n\\nThere are very few companies on the island whose name rings almost synonymous with scale, reliability…\\n\\nRead More\\n\\nRECENT ARTICLES\\n\\nRead Our Latest Articles & Knowledge\\n\\nSearch for:\\n\\nCategories\\n\\nCase Studies\\n\\nTags\\n\\nEvent Bussiness Startups Technology'),\n",
              " Document(metadata={'source': './data/19.md'}, page_content='The Pioneering Journey of LOLC Technologies\\n\\nThere are very few companies on the island whose name rings almost synonymous with scale, reliability and diversity. However, the LOLC Group and its assortment of subsidiaries have developed a conglomerate that is truly magnificent to behold, not only for its sheer scale but also in how they have, over time, altered the fabric of how businesses are run in Sri Lanka.\\n\\nContact: +94 011 500 1121 (076 884 0426)\\n\\nServices & Solutions Partners About Join Us Contact NEWS Home/ Blog/ The Pioneering Journey of LOLC Technologies BACK NEWS'),\n",
              " Document(metadata={'source': './data/2.md'}, page_content='LOLC Technologies Services & Solutions\\n\\nOUR SKILLS: We Make Things Possible\\n\\nWe provide high-quality and reliable business solutions and technology-related services with strong strategic partnerships developed with some of the world’s most renowned information technology solution providers, such as Oracle, Microsoft, and AirWatch. Our global reach has extended to around 20 countries around the world, of which Myanmar, Dubai, Philippines, Malawi, Kazakhstan, Nepal, and Cambodia act as our channel partners.\\n\\nWe have pioneered cutting-edge technology-driven business solutions for business ventures in diverse industries by optimizing and automating their core business processes and operations. We have attained significant reputation on a global basis within the industry by bringing you the products and services of future today.\\n\\nWHAT WE DO: Our IT Solutions\\n\\nfusion X\\n\\nA next generation exponential cloud financial suite.\\n\\n[LEARN MORE]\\n\\nOASYS^\\n\\nService Transformation and Automation solution\\n\\n[LEARN MORE]\\n\\niPay\\n\\nPay Simply live Simply payment platform\\n\\n[LEARN MORE]\\n\\nOYES\\n\\nMaking everyday is a payday\\n\\n[LEARN MORE]\\n\\nWHAT WE DO: We Provide Solutions for business\\n\\nBanking & Finance\\n\\nTelecommunication\\n\\nLeisure\\n\\nManufacturing\\n\\nConglomerates\\n\\nCREATING STRATEGIC Industrial Case Studies\\n\\nHUTCH completes implementation of advanced Oracle …\\n\\nHUTCH accomplished yet another major milestone in its rapid transformation journey, successfully implementing the latest Oracle…\\n\\n[LEARN MORE]\\n\\nLOLC Technologies Boosts Efficiency Through Innovation\\n\\nFor LOLC Technologies, their ground-breaking approach to innovation-driven business process reengineering (BPR) has not only changed…\\n\\n[LEARN MORE]'),\n",
              " Document(metadata={'source': './data/20.md'}, page_content='LOLC Technologies unveils SL’s first LLM-based chatbot for banking and financial services\\n\\nJul 30, 2024\\n\\nLOLC Technologies has launched an AI-driven chatbot powered by a Large Language Model (LLM). This innovative…\\n\\nRead More\\n\\nRECENT ARTICLES\\n\\nRead Our Latest Articles & Knowledge\\n\\nCategories\\n\\nCase Studies\\n\\nTags\\n\\nEvent Bussiness Startups Technology'),\n",
              " Document(metadata={'source': './data/21.md'}, page_content='LOLC Technologies Boosts Efficiency Through Innovation Within the LOLC Group and Beyond\\n\\nFor LOLC Technologies, their ground-breaking approach to innovation-driven business process reengineering (BPR) has not only changed how the LOLC Group executes core functions. It has also uplifted efficiency both locally and globally with the implementation of its paperless document management system and the integration of robotic process automation into the overarching group workflow. The brilliance of LOLC Technologies shines through in its commitment to innovation to drive greater efficiency. A deep commitment to long-term strategic thinking, prioritizing data-driven decision-making and embracing automation in the push for group-encompassing adoption.'),\n",
              " Document(metadata={'source': './data/22.md'}, page_content='Hutch completes successful implementation of advanced Oracle Cloud ERP system\\n\\nHutch, Sri Lanka’s fastest-growing mobile broadband operator, accomplished yet another major milestone in its rapid transformation journey, successfully implementing the latest Oracle Fusion Cloud Enterprise Resource Planning (ERP) system in the middle of the COVID pandemic.\\n\\nMost legacy ERP systems, including Oracle, are fully deployed on-premises but now technology is moving toward the cloud and Hutch decided to leap forward and implement a future-proof Oracle Cloud ERP.\\n\\nThe project was facilitated by Hutch Sri Lanka’s parent CK Hutchison group, through its global innovations arm CKH-IOD and spearheaded by LOLC Technologies Limited partnered with EVOSYS Global, an International Platinum Partner for Oracle. Hutch also partnered with PWC-Sri Lanka in the process to acquire expert consultancy services on this programme.\\n\\nHutch Chief Financial Officer Lalith Fernando commented, “The implementation of the Oracle Fusion Cloud ERP system will allow us to transform the business to help achieve our goals while adhering to global best practices. The Oracle ERP system is a complete, modern, cloud ERP suite that offers us advanced capabilities, such as AI to automate the manual processes, analytics to react to market shifts in real-time and automatic updates to stay current and gain a competitive advantage.\\n\\nThe successful on-time implementation of this ERP system was all the more impressive, as it has been executed almost in its entirety during the COVID pandemic, which did not allow full on-premise project execution by vendors and project consultants.”'),\n",
              " Document(metadata={'source': './data/23.md'}, page_content='LOLC Technologies joins hands with Microsoft to enhance core-banking with Azure\\n\\nJan 30, 2025\\n\\n[Image of Prasanna Siriwardena, Deputy CEO of LOLC Technologies Ltd and CIO of LOLC Holdings PLC]\\n\\nFrom left: Prasanna Siriwardena, Deputy CEO of LOLC Technologies Ltd and CIO of LOLC Holdings PLC;…\\n\\nRead More\\n\\nRECENT ARTICLES\\n\\nRead Our Latest Articles & Knowledge\\n\\nCategories\\n\\nCase Studies\\n\\nTags\\n\\nEvent\\n\\nBussiness\\n\\nStartups\\n\\nTechnology'),\n",
              " Document(metadata={'source': './data/24.md'}, page_content='FusionX by LOLC Technology Services: A New Frontier of Banking Awaits\\n\\nAs technology evolves, organizations need to stay ahead of the curve. Entities such as LOLC Technologies are leading the march into the future, with novel technologies bringing about greater efficiencies. Amongst its latest innovations is FusionX, a core-banking platform developed in-house to help standardize and optimize the operations of the global LOLC Group.'),\n",
              " Document(metadata={'source': './data/25.md'}, page_content='LOLC Technologies joins hands with Microsoft to enhance core-banking with Azure\\n\\nLOLC Technologies Limited has entered into a collaborative agreement with Microsoft to integrate Azure cloud services into “FusionX”, its core banking platform designed to meet evolving customer needs.\\n\\nThis move aims to upscale their operational architecture, enabling LOLC Technologies to harness the power of data and AI to expedite growth and success.\\n\\nPrasanna Siriwardena, Deputy CEO, LOLC Technologies Ltd and CIO, LOLC Holdings PLC said, “This is not just a technological advancement, but a strategic transformation aimed at positioning LOLC Technologies at the forefront of digital banking solutions. By leveraging the unparallelled agility and resilience of Microsoft Azure, we are focused on redefining financial services. With this shift, we have empowered BFSIs to evolve rapidly while unlocking AI’s full potential through a real-time analytics platform.”\\n\\nHarsha Randeny, Country Manager for Microsoft Sri Lanka and Maldives added, “We are enthusiastic about supporting LOLC Technologies break ground on their undertaking to elevate operations through AI automation. Not only are we looking forward to guiding LOLC Technologies through this transition, but we’re also keen on optimizing the organization’s leveraging of Microsoft AI Solutions at every level. We trust that with these tools at their disposal, LOLC Technologies will forge ahead with inventive opportunities.”'),\n",
              " Document(metadata={'source': './data/26.md'}, page_content='Beyond Boundaries: LOLC Technologies’ Sports Day 2024\\n\\nJan 15, 2025\\n\\n“Talent wins games, but teamwork and intelligence win championships.” – Michael Jordan\\n\\nLOLC Technologies’ recreations club...\\n\\nRead More'),\n",
              " Document(metadata={'source': './data/27.md'}, page_content='Beyond Boundaries: LOLC Technologies\\' Sports Day 2024\\n\\n\"Talent wins games, but teamwork and intelligence win championships.\" – Michael Jordan\\n\\nLOLC Technologies\\' recreations club successfully organized its Mega Sports day on 28th September 2024 at MCA grounds Colombo 07. Under the theme of \"Beyond Boundaries\", the event brought together employees to cheer and celebrate the spirit of competitiveness and teamwork through an exciting series of Cricket, Basketball, and Badminton matches.\\n\\nThe Sports Day offered a break from work schedules, allowing staff to unwind and reconnect with colleagues. The excitement was evident as employees enjoyed a day filled with friendly competition and team spirit.\\n\\nChampions of the LOLCTECH Sports Day 2024:\\n\\nBasketball: Token Tuskers (Champions), Cyber Cheetahs (Runner-up)\\n\\nMen\\'s Badminton Doubles: Tech Turtles (Thisan Samarasinghe & Nileka Madurapperuma) (Winners), Data Dragons (Bhanuka Gunathilake & Abhishek Jayakody) (Runners-up)\\n\\nMixed Badminton Doubles: Data Dragons (Bhanuka Gunathilake & Imasha Udayangi) (Winners), Geek Gators (Nalan Perera & Jayani Botheju) (Runners-up)\\n\\nWomen\\'s Cricket: Data Dragons & Token Tuskers (Shared Championship)\\n\\nMen\\'s Cricket: Firewall Falcons (Champions), Python Pandas (Runners-up)\\n\\nIndividual Talents:\\n\\nBest Bowler: Sujeewa Premathilake (Firewall Falcons)\\n\\nBest Batsman: Nimesh Lakshitha (Pixel Penguin)\\n\\nStar Player (MEN): Dilantha Matharaarachchi (Python Pandas)\\n\\nStar Player (WOMEN): Ashirwada Methsarani (Data Dragon)\\n\\nThe LOLCTECH Sports Day 2024 was a memorable occasion that left a lasting impression, reminding everyone of the joy of connecting and the thrill of competition. Congratulations to all participants for their dedication and sportsmanship!'),\n",
              " Document(metadata={'source': './data/28.md'}, page_content='LOLC’S Global IT Conference unites over 20 nations\\n\\nLOLC Technologies, the technological arm of LOLC Group, Sri Lanka’s largest and most diversified conglomerate, reaffirmed its leadership in technological innovation with the successful conclusion of its second Global IT Conference.\\n\\nHeld virtually over two days, the event themed “AI and Digital for Business” participated over 100 technology leaders from more than 20 countries across Asia and Africa, highlighting the group’s commitment to leveraging technology for enhanced business efficiency and stakeholder value.\\n\\nSpeaking at the conference, LOLC Holdings PLC Group Managing Director/CEO Kapila Jayawardena emphasised the necessity of embracing artificial intelligence (AI) to optimise operations and sustain growth.\\n\\n“As organisations grow, maintaining efficiency becomes increasingly difficult, and productivity tends to diminish. However, at LOLC Group, we have successfully demonstrated that with the integration of modern technologies like AI, we can not only sustain growth but also enhance productivity. Embracing AI is not just an opportunity – it is a necessity for optimising operations and leading in today’s competitive business environment.”\\n\\nOn day one, participants explored AI’s potential to reshape business models, enhance customer experiences, and optimise operations across industries. The second day shifted focus to the strategic roles of CIOs and Heads of IT, addressing how leadership and strategy must evolve to effectively integrate AI and other emerging technologies. These discussions reinforced the Group’s emphasis on collaboration and innovation, providing a platform for its C-Suite executives to exchange insights and align on a unified technology strategy.\\n\\nThe event featured a distinguished line-up of speakers, including LOLC Technologies PLC Chairman Conrad Dias who delved into the transformative role of AI in revolutionising business operations.\\n\\nHe emphasised AI’s capacity to streamline processes, enhance decision-making, and unlock new revenue streams through smarter, more personalised customer experiences. Complementing this, LOLC Technologies Ltd. Deputy CEO and LOLC Holdings PLC CIO Prasanna Siriwardena, provided insights into the group’s next-generation core banking solution, FusionX, which is driving innovation and agility in the financial services sector.\\n\\nKey topics addressed during the conference included the critical importance of information security and privacy, emphasising the need to safeguard sensitive data in the face of accelerated digital transformation; the transformative potential of six sigma, highlighting how data-driven methodologies can enhance efficiency and quality in financial institutions; and the evolving role of CIOs, focusing on their responsibility to align IT strategies with business objectives, foster innovation, and navigate the opportunities and challenges of the AI era. The conference also featured engaging panel discussions\\n\\nWith a long-standing commitment to digital transformation, LOLC said through its subsidiary LOLC Technologies, continues to be a trailblazer in adopting cutting-edge solutions that keeps its businesses globally competitive. Looking ahead, LOLC said it aims to scale up the scope and impact of its Global ICT Conference, further underscoring its dedication to fostering technological advancements and shaping the future of AI and digital transformation in business.'),\n",
              " Document(metadata={'source': './data/29.md'}, page_content='LOLC Tech and Sanfer partners with OASYS^\\n\\nOASYS^, a game-changing innovation by LOLC Technologies, a fully owned subsidiary of LOLC Group, has entered into a strategic partnership with Sanfer Technologies Ltd, also a fully owned subsidiary of South Asian Technologies.\\n\\nThis partnership marks a significant advancement in its “Go-to-Market” (GTM) strategy. The Memorandum of Understanding (MoU) was officially signed recently at LOLC Holdings PLC’s Head office in Rajagiriya, paving the way for OASYS^ to expand its market presence both locally and internationally.\\n\\nOASYS^ offers comprehensive Business Orchestration Automation Technology (BOAT) to a wide range of industries. Key features include Process Orchestration, Do-it-Yourself APIs, e-Signature, Asset Lifecycle Management, AI-driven automation, and Document Intelligence, making it a versatile no-code platform that helps businesses streamline workflows and foster seamless interdepartmental collaboration.\\n\\nThe partnership with Sanfer Technologies is a key milestone in OASYS^’s GTM strategy. Sanfer’s extensive distribution network and market expertise will help broaden OASYS^’s reach to a wider audience. Through this collaboration, OASYS^ will provide product training, knowledge-sharing sessions, and regular feature updates via Sanfer’s partner network, ensuring customers fully benefit from the platform’s capabilities. The integration with Sanfer’s ecosystem will also enhance customer satisfaction by leveraging Sanfer’s trusted IT operations and security expertise.\\n\\nConrad Dias, Chairman of LOLC Technologies, said, “This partnership represents a pivotal moment in our journey towards modernising and automating operations on a global scale. With this collaboration, LOLC Technologies is well-positioned for long-term growth, delivering solutions that empower our clients to excel in the digital age.”\\n\\nSanjaya Padmaperuma, Group CEO of South Asian Technologies, expressed his enthusiasm for the partnership, “This partnership reflects our commitment to innovation and operational excellence.”\\n\\nWith over 50,000 corporate users across 20 enterprises globally, OASYS^ is already reshaping the digital transformation landscape.\\n\\nAgreement signing ceremony attended by Sanjaya Padmaperuma, Group CEO of South Asian Technologies and Conrad Dias, Chairman of LOLC Technologies Limited.'),\n",
              " Document(metadata={'source': './data/3.md'}, page_content=\"LOLC Technologies Limited Partnerships\\n\\nLOLC Technologies Limited has partnered with global IT industry leaders such as Oracle, Galvanize, OASYS, UI Path, Ipay, SOTI, and VM Ware to broaden our service offerings. These partnerships allow us to deliver optimal business solutions and exceptional value to our customers by leveraging state-of-the-art technologies and resources, providing comprehensive end-to-end solutions tailored to their unique business needs.\\n\\nKey Partners and Solutions\\n\\nGalvanize\\n\\nGalvanize provides leading governance, risk, and compliance (GRC) software. Our partnership ensures customers receive paramount services supported by Galvanize's extensive workforce. LOLC Technologies ensures transparency and accountability in all services provided through this partnership.\\n\\nGalvanize solutions offer a practical and cost-effective approach to managing GRC programs, saving time and preventing errors within a unified platform. Customers gain access to plug-and-play platforms, storyboards, integrations, advanced analytics, and workflow automation. Galvanize also provides professional services, support, and robust data security.\\n\\nLEARN MORE\\n\\nUI Path\\n\\nLOLC Technologies' services, powered by UI Path, help users save time by streamlining processes and uncovering efficiencies to drive digital transformation cost-effectively. UI Path's end-to-end automation platform is designed to innovate and evolve rapidly. It offers a flexible model infused with Machine Learning (ML) and Artificial Intelligence (AI), providing developers with both low-code and professional-grade experiences. We offer a flexible deployment model that eases the usage of the solutions we provide through UI Path.\\n\\nLEARN MORE\\n\\nHuawei\\n\\nAs a leading global provider of information and communication technology (ICT) infrastructure and smart devices, Huawei offers a wide range of services. LOLC Technologies provides customers with access to these services through our partnership. Huawei's products and services are delivered efficiently and dynamically, with a refined user experience enhanced by AI technology, offering a personalized and intelligent experience.\\n\\nWith Huawei, LOLC Technologies enables various industries to transform into the digital era. Huawei addresses cybersecurity and privacy protection challenges, enhancing the value and global recognition of services and solutions provided at LOLC Technologies.\\n\\nLEARN MORE\\n\\nOracle\\n\\nLOLC Technologies has partnered with Oracle since 2009, providing our customer base with ERP implementation, cloud services, and on-premise services. As a leading EPM implementation partner in Sri Lanka, Oracle helps LOLC Technologies' customers efficiently connect next-generation ICT solutions with their business services. We have extensive experience across multi-industries such as BFSI, manufacturing, telecommunications, and services.\\n\\nLEARN MORE\"),\n",
              " Document(metadata={'source': './data/30.md'}, page_content='LOLC Technologies unveils SL’s first LLM-based chatbot for banking and financial services\\n\\nLOLC Technologies has launched an AI-driven chatbot powered by a Large Language Model (LLM).\\n\\nThis innovative development marks the first use of such cutting-edge technology in the local financial sector, setting a new benchmark for customer service and engagement.\\n\\nThe newly introduced chatbot leverages the latest advancements in artificial intelligence to deliver seamless and natural conversations with customers. Unlike traditional chatbots that rely on pre-programmed scripts or menu base, these advanced chatbots use transformers, a deep learning architecture, to understand and respond to customersquestions with exceptional context awareness.\\n\\nGenerative AI chatbots with LLM generates natural responses based on their vast knowledge base. They excel at Semantic Text Search, identifying relevant information even when it is not explicitly mentioned.\\n\\nBy integrating with Cognitive Search, these chatbots can draw from diverse knowledge bases, significantly enhancing the user experience. They continuously learn from interactions, allowing them to manage complex conversations with impressive fluency and accuracy.\\n\\nThe LLM-powered chatbot offers a variety of services to an end-user, including natural language queries, making interactions more intuitive and efficient. Beyond basic queries, this chatbot assists with more complex banking and financial inquiries, guiding customers through various services offered. Customers can also make service requests, receiving support without the wait times often associated with traditional customer service channels.\\n\\nConrad Dias, Chairman of LOLC Technologies said, “This cutting-edge technology enables us to provide highly personalized and efficient services, significantly improving customer engagement and satisfaction.”\\n\\nPrasanna Siriwardena, Deputy CEO of LOLC Technologies, emphasized the technological foundation of the new chatbot: “Our AI Chatbot leverages the latest OpenAI and Azure technologies, ensuring it operates at the highest level of efficiency and reliability. Through our strategic partnership with Microsoft and Yenasys, we have integrated state-of-the-art Generative AI solutions into our operations, making the chatbot a cutting-edge tool for customer service.”\\n\\nFurther, he stated that this innovation is the result of the sheer commitment of the AI team of LOLC Tech. Continuous R&D; extensive testing and knowledge base creation has made this a success.'),\n",
              " Document(metadata={'source': './data/31.md'}, page_content='Fusion X\\n\\nThe Next Generation Core Banking Solution\\n\\nFusionX is the next generation core banking solution conceptualized with the vision of delivering business agility to financial institutes that operate in constantly changing markets through technology. The ideology of FusionX is to be a catalyst to develop businesses. As a result, FusionX was designed on composable architecture to enable the banks and financial institutions to be agile and adopt a fast go-to market approach in a heavily competitive industry.\\n\\nKey Features:\\n\\nVision to deliver business agility to Financial institutes through state-of- the-art Technology\\n\\nDesigned with Digital First, Cloud Native, Data Driven design with Mobile first approach.\\n\\nThe solution has been designed by adhering to first principles while encompassing security requirements at the very beginning\\n\\nMicro Services based solution architecture\\n\\nPlatform is designed to open banking standards with API first concept integration\\n\\nLower Servicing costs and improved customer satisfaction\\n\\nContact:\\n\\n+94 011 500 1121 (076 884 0426)'),\n",
              " Document(metadata={'source': './data/32.md'}, page_content='OASYS\\n\\nPowering Service Management\\n\\nOASYS is a Cloud based service management solution, built with state-of-the-art integration technology. This provides distinct advantage to the end user by automating all admin, IT and HR requests through the system. OASYS Service Transformation Solution supports in transforming organizations to overcome challenges of maintaining a healthy end user satisfaction.\\n\\nCloud based fully automated enterprise service management solution\\n\\nMinimizes micro management and it adds transparency & Visibility to all the business processes\\n\\nIntegration capabilities with third party systems\\n\\nIntegrates with social collaborative platforms (Teams, WhatsApp, Outlook etc)\\n\\nComplete asset life cycle management\\n\\nSimply Track user performance through Service level agreements\\n\\nAnalytics capabilities\\n\\nClient report builder and scheduling\\n\\nIncrease efficiency and improve customer satisfaction\\n\\nLowers the operational costs'),\n",
              " Document(metadata={'source': './data/33.md'}, page_content='iPay\\n\\nPay Simply live Simply payment platform\\n\\niPay is a global financial services super app that goes beyond simple payments and is an award-winning application.\\n\\nA revolutionary digital merchant platform “extending beyond payments” with its online, real-time cash handling and omnichannel payment facilitation\\n\\nA robust solution built on a highly scalable architecture using state-of- the-art technology.\\n\\nThe cost of joining the solution is low, as anyone with a bank account, or smartphone and an internet connection can experience frictionless transactions via iPay.\\n\\nComplete online banking facilities Merchant/ utility payments, & Other digital financial services right at your fingertips.\\n\\nAvailable on both IOS and Android Platforms for easy downloads.\\n\\nContact: +94 011 500 1121 (076 884 0426)\\n\\nWebsite: https://ipay.lk/'),\n",
              " Document(metadata={'source': './data/34.md'}, page_content='OYES\\n\\nOwn Your Earned Salary\\n\\nThe OYES (Own Your Earned Salary) platform offers a multifaceted strategy to address the daily financial challenges of employees with limited access to low-cost financing and the need for daily access to their earned wages. By reducing dependency on high-interest loan sources, OYES allows employees to access their daily earned salary at any time, ensuring sustainability and scalability while integrating seamlessly with employers’ HRIS systems. This solution is particularly vital as many employees face diverse financial needs, including managing household expenses, childcare costs, unexpected bills, and bridging paycheck gaps, making traditional loans and credit cards prohibitively expensive and leading to debt cycles. OYES promotes financial inclusion by providing access to formal financial services, especially for blue-collar workers, during urgent financial needs.\\n\\nPresentation: MAKE EVERYDAY A PAY DAY'),\n",
              " Document(metadata={'source': './data/35.md'}, page_content='+94 011 500 1121 (076 884 0426)\\n\\nGalvanize Home/ Partners/ Galvanize BACK\\n\\nGalvanize provides the leading governance, risk, and compliance software. LOLC Technologies has partnered with Galvanize ensuring its paramount services for its customers with the loyal work of the 1500-plus worker foundation at Galvanize. We at LOLC Technologies, ensures the transparency and accountability on all services provided through this partnership.\\n\\nSolutions through Galvanize provide a more practical and cost-effective approach to managing GRC programs within a business saving an immense amount of time while preventing errors within a unified platform. With the use of the technology at Galvanize the customers at LOLC technologies can access plug-and-play platforms, storyboards, integrations, advanced analytics, and workflow automation. Professional Services and Support along with best-offered data security are provided through Galvanize for the customers at LOLC technologies.'),\n",
              " Document(metadata={'source': './data/36.md'}, page_content=\"UI Path Services at LOLC Technologies\\n\\nContact: +94 011 500 1121 (076 884 0426)\\n\\nNavigation: Home / Partners / UI Path\\n\\nPartnered With: UI Path\\n\\nLOLC Technologies' UI Path services help users save time by streamlining processes, uncovering efficiencies, and providing insights for digital transformation in a cost-effective manner. UI Path innovates and evolves with speed through its end-to-end automation platform. It offers a flexible model infused with ML and AI, providing developers with an experience ranging from low code to professional grade. We provide our customers with a flexible deployment model that eases the usage of UI Path solutions at LOLC Technologies.\\n\\nE-Business Suite\\n\\nSed no nulla detracto adversarium. reque cotidieque comprehensam in. Vix an odio fastidii disputando, paulo mediocrem his ad. Labitur ceteros quaerendum eos ad. at vim assentior disputationi.\"),\n",
              " Document(metadata={'source': './data/37.md'}, page_content=\"Huawei Partnership with LOLC Technologies\\n\\nContact: +94 011 500 1121 (076 884 0426)\\n\\nOverview: LOLC Technologies partners with Huawei, a leading global provider of information and communication technology (ICT) infrastructure and smart devices, to offer a wide range of services to its customers.\\n\\nHuawei Services & Products: Customers gain access to Huawei's services and products through this partnership, delivered efficiently and dynamically. Huawei utilizes AI technology to offer users a personalized and intelligent experience.\\n\\nDigital Transformation: LOLC Technologies, in collaboration with Huawei, empowers various industries to transform into the digital era.\\n\\nCyber Security and Privacy: The partnership addresses challenges in cyber security and privacy protection, enhancing the value and global recognition of services and solutions provided by LOLC Technologies.\\n\\nE-Business Suite\\n\\nSed no nulla detracto adversarium. Reque cotidieque comprehensam in. Vix an odio fastidii disputando, paulo mediocrem his ad. Labitur ceteros quaerendum eos ad. at vim assentior disputationi.\"),\n",
              " Document(metadata={'source': './data/38.md'}, page_content=\"LOLC Technologies Oracle Partnership\\n\\nPartnered with Oracle\\n\\nWhy choose Oracle?\\n\\nLOLC Technologies has partnered with Oracle since 2009, providing customers with ERP implementation cloud services and on-premise services. As the leading EPM implementation partner in Sri Lanka, Oracle helps LOLC Technologies' customer base connect next-generation ICT solutions with their business services efficiently. LOLC Technologies has outstanding experience in multi-industries such as BFSI, manufacturing, telecommunication, and services.\\n\\nOracle cloud services provide a premium range of services in financials, SCM, EPM, and procurement cloud services. Oracle has been a recommended and reliable partner of LOLC Technologies over the years, being the first to implement Fusion Financials Cloud Service (FCCS) and Fusion ERP implementation with some of the leading telecommunication and international trading companies of Sri Lanka. The partnership with Oracle allows LOLC Technologies to offer a wide range of services and solutions for businesses.\\n\\nOracle E-Business Suite\\n\\nOracle E-Business Suite (EBS) is a comprehensive, integrated, and proven ERP solution that enables organizations to make better decisions at a reduced cost. LOLC Technologies provides implementation and consultancy services on Oracle EBS Financials and Oracle Supply Chain Management modules.\\n\\nOracle Financials\\n\\nOracle Financials, the core of Oracle E-Business Suite, provides a centralized architecture that standardizes accounting, inter-company operations, and taxation across the organization. Main modules include General Ledger, Accounts Receivable, Accounts Payable, Cash Management, and Fixed Assets.\\n\\nOracle Supply Chain Management\\n\\nOracle provides different solutions to manage the supply chain effectively. Oracle Inventory allows organizations to control inventory operations efficiently, reduce inventory levels, and improve overall inventory visibility. The system allows users to track all material in each line of business and each life cycle stage. Oracle Purchasing allows users to efficiently handle all purchasing-related work, including creating Purchase Orders, Request for Quotations (RFQs), and Quotations.\\n\\nOracle Human Resource Management\\n\\nOracle E-Business Suite Human Capital Management solution enables companies to manage HR-related data efficiently and effectively. The system provides HR-related functionality and allows users to manage all HR-related operations productively.\"),\n",
              " Document(metadata={'source': './data/39.md'}, page_content='LOLC Technologies - Board of Directors\\n\\nConrad Dias\\n\\nDirector – LOLC Holdings PLC, Director / CEO – LOLC Finance PLC, Chairman of LOLC Technology Limited.\\n\\nFCMA (UK), CGMA, MBCS (UK), MBA (University of Leicester)\\n\\nManaging Director/Chief Executive Officer LOLC Technologies Limited\\n\\nConrad Dias has over 25 years of experience in Trading, Banking and Finance, Assets Management and Manufacturing. He was awarded the CSSL CIO of the Year in 2016 and the Professional Excellence Award 2017 by the Institute of Certified Management Accountants of Sri Lanka. Previous roles include Group CIO of Hirdaramani Group of Companies, AVP of Vanik Incorporations Limited, and Systems Manager Eagle NDB Fund Management Company Limited. He holds an MBA from the University of Leicester and is a Fellow of the Chartered Institute of Management Accountants, a Chartered Global Management Accountant, a Fellow of British Computer Society, and a Fellow member of Certified Management Accountants of Sri Lanka. He is an inductee of the CIO hall of fame and CIO 100 honoree for year 2020 and the CIMA top 50 ICONS in the year 2021.\\n\\nPrasanna Siriwardena\\n\\nDEPUTY CEO - LOLC TECHNOLOGY SERVICES LTD CUM CHIEF INFORMATION OFFICER - LOLC HOLDINGS, GENERAL – IT .\\n\\nMSc., CISM, MCP, CISA, CoBIT Certified\\n\\nPrasanna Siriwardena serves as the Deputy CEO – LOLC Technology Services Ltd cum Chief Information Officer – LOLC Holdings, General – IT . He has over 18 years’ experience in Information Security and Information Technology Management, with skills in ISMS, IS Audit, Technical Audit, Security testing, IT contingency planning, Project management, Information system/security auditing and compliance.\\n\\nPrevious experience includes Unit Head, Information Security at International Banking Group of National Bank of Kuwait, Manager / National IT Security Officer at KMPG – Kuwait, Manager – Network Administration at KMPG, and Software Support Executive at East West Information Systems Ltd. He holds an MSc in Information Technology from Keele University – UK and certifications such as Certified Information Security Manager (CISM), Microsoft Certified Professional (MCP), City & Guilds Examinations in Telecommunication, Certified Information Systems Auditor (CISA), and CoBIT 5 Foundation Certified (CoBIT).\\n\\nJayantha Kelegama\\n\\nCHIEF CREDIT OFFICER - LOLC GROUP\\n\\nBA (Hons.) (University of Delhi)\\n\\nJoined in 2005. Counts over 18 years of experience in Leasing, Asset Financing, Credit Risk Management and Banking. Jayantha has been appointed as a Director of identified subsidiaries within the LOLC Group.'),\n",
              " Document(metadata={'source': './data/4.md'}, page_content='LOLC Technologies Limited\\n\\nAbout Us\\n\\nOVERVIEW\\n\\nLOLC Technologies Limited is a fully owned subsidiary of LOLC group with a renowned business history of 32 years which currently holds the ownership of over 100 direct and indirect subsidiary companies operating in diverse business sectors.\\n\\nThe company was initially incorporated as Lanka Orix Information Technology Services Limited in the year 2004 primarily to cater to the Information Technology needs of all the LOLC group of companies. With years of experience in the industry, we have extended ourselves as LOLC Technologies Limited extending our services and business solutions to external customers as well.\\n\\nWe have also developed a strong strategic partnership with the world’s renowned Information Technology solution providers which enabled us to provide high quality and reliable business solutions and technology related services to our clients.\\n\\nWith a strong customer base spread across the country, LOLC Technologies has achieved a reputation of a prominent Business Solutions Provider in Sri Lanka pioneering cutting-edge technology driven business solutions for business ventures in diverse industries on optimizing and automating their core business processes and operations.\\n\\nVISION & MISSION\\n\\nVision\\n\\nTo be the most preferred innovative business technology solution provider\\n\\nMission\\n\\nFacilitate reaching greater heights in business, through our innovative, collaborative, cutting edge and partnered business technology solutions\\n\\nOUR STRENGTHS\\n\\nMore Than 32+ Years: LOLC Technologies delivers high quality, reliable, and cost-effective IT services to customers globally.\\n\\nBacked by one the largest conglomerates with global presence - LOLC Holdings and its strength\\n\\nTeam Competency\\n\\nLeaders / Pioneers in implementing ERP & Cloud Tech solutions - Experience\\n\\nCutting edge tech Product & Strategic Partnership strength\\n\\nGlobal Reach\\n\\nOUR TEAM\\n\\nWork together for success.\\n\\nLOLC Technologies comprises a highly competent and dedicated team to provide the best support and consultancy services to our clients.\\n\\nOur people are our greatest asset. With our team of skilled, experienced, and qualified staff members, we expect to reach greater heights in the industry achieving both operational and service excellence. Our recruitment process ensures that the most suitable and highly skilled prospects are recruited which has enabled the company to maintain its high standards of delivering exceptional service to our clients ensuring the highest level of satisfaction.\\n\\nOur Leadership Team\\n\\nMr. Conrad Dias\\n\\nDirector – LOLC Holdings PLC, Director / CEO – LOLC Finance PLC, Chairman of LOLC Technology Limited\\n\\nCounts over 25 years of experience and possesses domain expertise in sectors such as Trading, Banking…\\n\\nPrasanna Siriwardena\\n\\nDeputy CEO - LOLC Technology Services Ltd cum Chief Information Officer - LOLC Holdings, General – IT .\\n\\nPrasanna Siriwardena serves as the Deputy CEO - LOLC Technology Services Ltd cum Chief Information Officer…\\n\\nChamini Attanayake\\n\\nChief Operating Officer\\n\\nLaying an astounding groundwork in education, Chamini Attanayake, the COO of LOLC Technology started her career…\\n\\nOur Partners'),\n",
              " Document(metadata={'source': './data/40.md'}, page_content='Senior DevOps/ DevOps Engineer\\n\\nRequirements\\n\\nA Bachelor’s degree in computer science, Information Technology, Engineering or related field with minimum 3 years of experience working in the DevOps area.\\n\\nMinimum 2 years of experience working with Kubernetes.\\n\\nCloud Certifications and Kubernetes certification will be an added advantage\\n\\nExperience in working with Service Meshes(Istio)\\n\\nA technical background on React, Java, Spring Boot, OAuth 2.0, Relational Databases(MySQL, Oracle) and Rest APIs\\n\\nHands on experience with Jenkins, ArgoCD and Spinnaker will be an added advantage\\n\\nKnowledge on Linux and bash scripting is required.\\n\\nFamiliar with source control systems(GitHub) and other DevOps tools(ex: SonarQube)\\n\\nResponsibilities\\n\\nImproving the existing CI/CD process and support development team.\\n\\nAttending to Daily SRE tasks\\n\\nOn Call support of production systems\\n\\nImplementing DevSecOps practices and Automation\\n\\nConfigure monitoring and alerting to improve the observability of existing production systems'),\n",
              " Document(metadata={'source': './data/41.md'}, page_content='Senior Software Engineer\\n\\nDEVELOPMENT\\n\\nSkills\\n\\nAbility to complete all phases of software development life cycle including analysis, design, functionality, testing and support\\n\\nAbility to develop large scale web/database applications\\n\\nAbility to work on multiple projects with multiple deadlines\\n\\nAbility to communicate clearly with business users and project manager\\n\\nAbility to innovate and provide functional applications with intuitive interfaces\\n\\nAbility to construct user guides and documentation\\n\\nProject Management skills\\n\\nExcellent knowledge of Transact SQL\\n\\nRequirements\\n\\nProven experience with Microsoft .NET technologies including, .NET, ADO.NET, WCF, WPF\\n\\nLanguages: C#, SQL, JavaScript, jQuery, HTML, CSS, XML\\n\\nExperience in Microsoft Azure / Azure DevOps preferred\\n\\nMinimum 2-4 years in backend software design\\n\\n3 – 5 years of actual experience in the workplace\\n\\nA bachelor degree or equivalent qualification in Computer Science or Software Engineering\\n\\nResponsibilities\\n\\nWorking with Project Managers / Architects / Tech Leads to determine needs and applying / customizing existing technology to meet those needs.\\n\\nDeveloping, maintaining and supporting multiple projects and deadlines\\n\\nRecording work progress on a weekly basis\\n\\nDocumentation\\n\\nClosing Date:\\n\\nAPPLY NOW\\n\\nRecent Vacancies\\n\\nSenior DevOps/ DevOps Engineer\\n\\nVIEW JOB'),\n",
              " Document(metadata={'source': './data/42.md'}, page_content='LOLC Technologies Limited\\n\\nContact: +94 011 500 1121 (076 884 0426)\\n\\nLOLC Technologies Limited is a fully owned subsidiary of LOLC group, incorporated in 2004, specializing in IT Systems integrations. The company holds ISO 9000, ISO 20000, and ISO 27001 certifications.\\n\\nWhat We Offer\\n\\nLOLC Technologies provides innovative and cutting-edge technology solutions to facilitate businesses in reaching greater heights.\\n\\nTailor-made solutions for your business.\\n\\nSolutions to clients across the globe.\\n\\nOur IT Solutions\\n\\nERP and EPM: Solutions to ease day-to-day financial and operational activities and increase business efficiency.\\n\\nMulti-Cloud Technology: Flexibility to optimize performance, control costs, and leverage the best cloud technologies available.\\n\\nService Transformation & Automation: Real-time solutions through service transformation and automation.\\n\\nGRC, Information Security & Consultancy: Maximize investments with best practices and desirable profits through GRC, Information Security, and consultancy solutions.\\n\\nFinTech: Latest technologies in AI (Artificial Intelligence), cloud computing, blockchain, and big data.\\n\\nMIS & Analytics: Custom-designed insightful dashboards with relevant business improvement information, converting raw data into valuable business analytics.\\n\\nManaged Services: Reducing expenses with improved service quality, delivering efficiency and convenience at every stage and scale.\\n\\nDatabase Services: [Learn More]\\n\\nIndustries We Serve\\n\\nBanking & Finance\\n\\nTelecommunication\\n\\nLeisure\\n\\nManufacturing\\n\\nConglomerates\\n\\nOur Impact\\n\\n500+ Happy Users\\n\\n850+ Projects Done\\n\\n350+ Business Partners\\n\\n12+ Awards Winning\\n\\nCase Studies\\n\\nLOLC Technologies creates exceptional solutions with an out-of-the-box approach to provide state-of-the-art solutions for business needs.\\n\\nLOLC Technologies Boosts Efficiency Through Innovation (Industrial)\\n\\nThe Pioneering Journey of LOLC Technologies\\n\\nHUTCH completes implementation of advanced Oracle (Industrial / Telecommunication)\\n\\nOur Team\\n\\nLeadership Team:\\n\\nMr. Conrad Dias: Director – LOLC Holdings PLC, Director / CEO – LOLC Finance PLC, Chairman of LOLC Technology Limited. 25+ years of experience in Trading, Banking.\\n\\nPrasanna Siriwardena: Deputy CEO - LOLC Technology Services Ltd cum Chief Information Officer - LOLC Holdings, General – IT .\\n\\nChamini Attanayake: Chief Operating Officer.\\n\\nWhat Our Clients Say\\n\\nLECO: Recommends LOLC Technologies for IT assistance and reliability.\\n\\nWindforce PLC (Rusiri Cooray, Financial Controller): Appreciates the ease of financial consolidation with Oracle FCCS.\\n\\nNTB: Highlights the efficiency and transparency brought by OASYS^, particularly the asset management module.\\n\\nLOLC Cambodia PLC: Using OASYS since 2020 for automated helpdesk, workflow management, incident management, and report builder modules.\\n\\nRecent Articles\\n\\nSep 21, 2022 STARTUPS: The Pioneering Journey of LOLC...\\n\\nJun 16, 2022 TECHNOLOGY: LOLC Technologies Boosts Ef...\\n\\nJun 14, 2021 STARTUPS TECHNOLOGY: Hutch completes successful ...\\n\\nApr 02, 2020 BUSSINESS STARTUPS: FusionX by LOLC Technology ...\\n\\nJan 30, 2025 BUSSINESS: LOLC Technologies joins han...\\n\\nJan 15, 2025 EVENT: Beyond Boundaries: LOLC Tec...\\n\\nJan 07, 2025 BUSSINESS: LOLC’S Global IT Conference...\\n\\nNov 03, 2024 BUSSINESS: LOLC Tech and Sanfer partne...\\n\\nJul 30, 2024 TECHNOLOGY: LOLC Technologies unveils S...'),\n",
              " Document(metadata={'source': './data/43.md'}, page_content='404 Page Not Found!\\n\\nIt looks like nothing was found at this location.\\n\\nContact Information\\n\\n+94 011 500 1121 (076 884 0426)\\n\\nNavigation\\n\\nServices & Solutions Partners About Join Us Contact\\n\\nHome/ 404'),\n",
              " Document(metadata={'source': './data/44.md'}, page_content='404\\n\\nPage Not Found!\\n\\nIt looks like nothing was found at this location.\\n\\nContact: +94 011 500 1121 (076 884 0426)\\n\\nServices & Solutions Partners About Join Us Contact'),\n",
              " Document(metadata={'source': './data/5.md'}, page_content='OUR PEOPLE\\n\\nOur people are our greatest asset. With our team of skilled, experienced and qualified staff members, we expect to reach greater heights in the industry achieving both operational and service excellence. Our recruitment process ensures that the most suitable and highly skilled prospects are recruited which has enabled the company to maintain its high standards of delivering exceptional service to our clients ensuring highest level of satisfaction.\\n\\nOur employees receive the opportunity to groom and progress themselves through the extensive on the job and off the job trainings offered which focus on their professional as well as personal development.\\n\\nLOLC Technologies is the best place for talented individuals with the right attitude and passion to continuously learn and develop their skills and competencies and reach the pinnacle of their careers. The culture and the friendly work environment at LOLC Technologies facilitates continuous learning and creates opportunities for the employees to grow their knowledge and enhance their potential.\\n\\nWhy join LOLC Technologies?\\n\\nThe team based culture which facilitates knowledge sharing\\n\\nOn the job learning and continuous training programs\\n\\nExposure to a network of well experienced IT and business professionals\\n\\nFriendly working atmosphere and organizational culture\\n\\nGroom yourself to become a successful professional\\n\\nVACANCIES\\n\\nSeeking Careers?\\n\\nDevelopment\\n\\nSenior DevOps/ DevOps Engineer\\n\\nClosing Date\\n\\nAPPLY NOW\\n\\nDevelopment\\n\\nSenior Software Engineer\\n\\nClosing Date\\n\\nAPPLY NOW'),\n",
              " Document(metadata={'source': './data/6.md'}, page_content='LOLC Technologies Contact Information\\n\\nContact\\n\\nTo request further information, contact us via our social channels or email us.\\n\\nGive us a call or drop by anytime. We attempt to answer all inquiries within 24 hours on business days. Connect with us at any time and get a free quote for your project.\\n\\nLOLC Technologies Limited No. 137, Rajagiriya Rd, Rajagiriya, Sri Lanka\\n\\nTel: 011-5-001121 Mobile: 077 812 668 / 076 884 0426 Fax: 011-2-865606 E-mail: sales@lolctech.com\\n\\nInquiry Form\\n\\nFirst Name:\\n\\nLast Name:\\n\\nPhone No:\\n\\nEmail:\\n\\nType of Inquiry:\\n\\nGeneral\\n\\nCareers\\n\\nTechnical Support\\n\\nMessage:\\n\\nFollow Us'),\n",
              " Document(metadata={'source': './data/7.md'}, page_content='ERP and EPM Solutions by LOLC Technologies\\n\\nWe provide cloud, ERP, and EPM solutions at LOLC Technologies to ease your day-to-day financial and operational activities and increase your business efficiency. Our cloud services provide you with the latest IT solutions such as dynamic workflow development, through digitalized documentation and \"Go Green\" strategy, automating your custom workflows. We also provide you with an \"all-inclusive\" solution in asset management that helps you manage your software and your tangibles. We also provide you with the technology to self-develop your customized report requirements. Additionally, LOLC Technologies’ close cooperation with Oracle E-Business Suite (EBS) for solutions in financials, procurement, asset lifecycle management, logistics, and services is used to deliver ERP and EPM solutions.\\n\\nWhy choose ERP and EPM solutions of LOLC?\\n\\nSimplicity\\n\\nTransparency\\n\\nEfficient collaboration\\n\\nLimitless accessibility\\n\\nPerformance and service indicators\\n\\nBusiness beyond IT\\n\\nBenefits for your company\\n\\nUsers resolve operational issues conveniently and efficiently\\n\\nPerformance is measured against Service Level Agreements (SLA) to ensure quality\\n\\nIdentifies root causes to eliminate through data analysis\\n\\nStreamlines/ Integrates people, processes and technology with ISO standards'),\n",
              " Document(metadata={'source': './data/8.md'}, page_content='Multi-Cloud Technology\\n\\n+94 011 500 1121 (076 884 0426)\\n\\nServices & Solutions Partners About Join Us Contact\\n\\nHome/ Services & Solutions/ Multi-Cloud Technology\\n\\nBACK\\n\\nMulticloud – the use of cloud services from two or more vendors – gives organizations more flexibility to optimize performance, control costs, and leverage the best cloud technologies available'),\n",
              " Document(metadata={'source': './data/9.md'}, page_content='Service Transformation & Automation\\n\\nWe provide solutions at your fingertips through the latest real-time systems through service transformation and automation at LOLC technologies. Our services give you the ability to manage and monitor your progress over SLA tracking systems, transforming your company into one with higher efficiency. We ensure that all automation processes are completely transparent. Our service transformation also provides enhancements to existing applications that allow you to complete your tasks with speed and at a low cost.')]"
            ]
          },
          "execution_count": 28,
          "metadata": {},
          "output_type": "execute_result"
        }
      ],
      "source": [
        "raw_documents"
      ]
    },
    {
      "cell_type": "code",
      "execution_count": 29,
      "metadata": {
        "id": "5ChZ008I6paW"
      },
      "outputs": [],
      "source": [
        "from langchain.text_splitter import TokenTextSplitter\n",
        "text_splitter = TokenTextSplitter(chunk_size=512, chunk_overlap=24)\n",
        "documents = text_splitter.split_documents(raw_documents)"
      ]
    },
    {
      "cell_type": "code",
      "execution_count": 30,
      "metadata": {
        "id": "IMh_IpRb78rs"
      },
      "outputs": [],
      "source": [
        "from langchain_core.rate_limiters import InMemoryRateLimiter\n",
        "\n",
        "rate_limiter = InMemoryRateLimiter(\n",
        "    requests_per_second=0.2, \n",
        "    check_every_n_seconds=1,\n",
        ")"
      ]
    },
    {
      "cell_type": "code",
      "execution_count": 31,
      "metadata": {},
      "outputs": [],
      "source": [
        "from langchain_google_genai import ChatGoogleGenerativeAI\n",
        "\n",
        "llm = ChatGoogleGenerativeAI(model=\"gemini-2.0-flash-lite\", rate_limiter=rate_limiter, verbose=True)"
      ]
    },
    {
      "cell_type": "code",
      "execution_count": 32,
      "metadata": {
        "id": "Mer51fZA9pa1"
      },
      "outputs": [],
      "source": [
        "from langchain_experimental.graph_transformers import LLMGraphTransformer\n",
        "llm_transformer = LLMGraphTransformer(llm=llm)"
      ]
    },
    {
      "cell_type": "code",
      "execution_count": 33,
      "metadata": {
        "id": "pZP64uFM9vLk"
      },
      "outputs": [
        {
          "name": "stderr",
          "output_type": "stream",
          "text": [
            "100%|██████████| 53/53 [05:07<00:00,  5.80s/it]\n"
          ]
        }
      ],
      "source": [
        "import time\n",
        "from tqdm import tqdm\n",
        "\n",
        "graph_documents = []\n",
        "for i, doc in enumerate(tqdm(documents)):\n",
        "\tgraph_documents.extend(llm_transformer.convert_to_graph_documents([doc]))\n",
        "\t# time.sleep(1)"
      ]
    },
    {
      "cell_type": "code",
      "execution_count": 34,
      "metadata": {
        "colab": {
          "base_uri": "https://localhost:8080/"
        },
        "id": "3Nwjd5yR92VE",
        "outputId": "1c707732-3f56-4228-be36-5e376a481aac"
      },
      "outputs": [
        {
          "data": {
            "text/plain": [
              "[GraphDocument(nodes=[], relationships=[], source=Document(metadata={'source': './data/0.md'}, page_content='LOLC Technologies Knowledge Base\\n\\nContact: +94 011 500 1121 (076 884 0426)\\n\\nAbout LOLC Technologies\\n\\nLOLC Technologies Limited, a fully owned subsidiary of LOLC Group, incorporated in 2004, is an expert in IT Systems integrations. The company holds ISO 9000, ISO 20000, and ISO 27001 certifications.\\n\\nMission: Facilitating businesses to reach greater heights through innovative and cutting-edge technology solutions. Powering impossibilities by providing tailor-made solutions to clients across the globe.\\n\\nWhat We Are\\n\\nBringing you tomorrows technology today.\\n\\nWhat We Do\\n\\nOur IT Solutions:\\n\\nERP and EPM: Solutions to ease your day-to-day financial and operational activities and increase your business efficiency. [Learn More]\\n\\nMulti-Cloud Technology: Gives organizations more flexibility to optimize performance, control costs, and leverage the best cloud technologies available. [Learn More]\\n\\nService Transformation & Automation: Solutions at your fingertips through the latest real-time systems. [Learn More]\\n\\nGRC, Information Security & Consultancy: Maximize your investments, delivering envisioned benefits with best practices. [Learn More]\\n\\nFinTech: Latest technologies in AI (Artificial Intelligence), cloud computing, block chain, and big data. [Learn More]\\n\\nMIS & Analytics: Custom designed insightful dashboards with relevant business improvement information. [Learn More]\\n\\nManaged Services: Reducing your expenses with improved service quality. [Learn More]\\n\\nDatabase Services: [Learn More]\\n\\nSolutions for Business\\n\\nBanking & Finance\\n\\nTelecommunication\\n\\nLeisure\\n\\nManufacturing\\n\\nConglomerates\\n\\nKey Metrics:\\n\\n500+ Happy Users\\n\\n850+ Projects Done\\n\\n350+ Business Partners\\n\\n12+ Awards Winning\\n\\nCase Studies\\n\\nOur Work Speaks\\n\\nLOLC Technologies Boosts Efficiency Through Innovation (Industrial)\\n\\nThe Pioneering Journey of LOLC Technologies …\\n\\nHUTCH completes implementation of advanced Oracle … (Industrial / Telecommunication)\\n\\nOur Team\\n\\nOur Leadership Team\\n\\nMr. Conrad Dias: Director – LOLC Holdings PLC, Director / CEO – LOLC Finance PLC, Chairman of LOLC Technology Limited. Counts over 25 years of experience in sectors such as Trading, Banking.\\n\\nPrasanna Siriwardena')),\n",
              " GraphDocument(nodes=[], relationships=[], source=Document(metadata={'source': './data/0.md'}, page_content='. Counts over 25 years of experience in sectors such as Trading, Banking.\\n\\nPrasanna Siriwardena: Deputy CEO - LOLC Technology Services Ltd cum Chief Information Officer - LOLC Holdings, General – IT .\\n\\nChamini Attanayake: Chief Operating Officer. Laying an astounding groundwork in education.\\n\\nOur Clients\\n\\nWhat Our Clients Say\\n\\nLECO: \"It is a pleasure we are writing to recommend LOLC technologies. We have worked with LOLC Technologies hand in hand, to accomplish our daily operations pertaining to IT assistance. In our Journey with them LOLC Tech had always been a reliable partner to us.\"\\n\\nWindforce PLC, Rusiri Cooray, Financial Controller: \"The Financial consolidation has never been so easy. With Oracle FCCS in place, the monthly consolidation has become much easy for us. Thank you LOLC Tech for helping us to get onboard with Oracle FCCS within such a short period.\"\\n\\nNTB: \"The OASYS^ has brought efficeincy in a way to assist our staff to interact with the system easily while maintaining the transpaerncy in all levels. We would like to highlight the asset management module as it adds distinct value addition to the overall solution.\"\\n\\nLOLC Cambodia PLC: \"LOLC Cambodia is using OASYS since 2020 and we are using the automated helpdesk system, workflow management system, incident management system and report builder modules.\"\\n\\nRecent Articles\\n\\nRead Our Latest Articles & Knowledge\\n\\nSep 21, 2022 - STARTUPS: The Pioneering Journey of L...\\n\\nJun 16, 2022 - TECHNOLOGY: LOLC Technologies Boosts Ef...\\n\\nJun 14, 2021 - STARTUPS TECHNOLOGY: Hutch completes successful ...\\n\\nApr 02, 2020 - BUSSINESS STARTUPS: FusionX by LOLC Technology ...\\n\\nJan 30, 2025 - BUSSINESS: LOLC Technologies joins han...\\n\\nJan 15, 2025 - EVENT: Beyond Boundaries: LOLC Tec...\\n\\nJan 07, 2025 - BUSSINESS: LOLC’S Global IT Conference...\\n\\nNov 03, 2024 - BUSSINESS: LOLC Tech and Sanfer partne...\\n\\nJul 30, 2024 - TECHNOLOGY: LOLC Technologies unveils S...')),\n",
              " GraphDocument(nodes=[Node(id='Lolc Technologies Limited', type='Company', properties={}), Node(id='Lolc Group', type='Company', properties={}), Node(id='Conrad Dias', type='Person', properties={})], relationships=[Relationship(source=Node(id='Lolc Technologies Limited', type='Company', properties={}), target=Node(id='Lolc Group', type='Company', properties={}), type='SUBSIDIARY_OF', properties={}), Relationship(source=Node(id='Conrad Dias', type='Person', properties={}), target=Node(id='Lolc Technologies Limited', type='Company', properties={}), type='CHAIRMAN', properties={})], source=Document(metadata={'source': './data/1.md'}, page_content=\"LOLC Technologies Overview\\n\\nContact: +94 011 500 1121 (076 884 0426)\\n\\nLOLC Technologies Limited, a fully owned subsidiary of LOLC Group, incorporated in 2004, specializes in IT Systems integrations. The company holds ISO 9000, ISO 20000, and ISO 27001 certifications.\\n\\nWhat We Offer\\n\\nLOLC Technologies aims to facilitate reaching greater heights in business through innovative and cutting-edge technology solutions, powering impossibilities with tailor-made solutions for businesses and providing solutions to clients across the globe.\\n\\nCore Values\\n\\nBringing you tomorrow's technology today.\\n\\nIT Solutions\\n\\nERP and EPM: Solutions to ease day-to-day financial and operational activities and increase business efficiency. [LEARN MORE]\\n\\nMulti-Cloud Technology: Flexibility to optimize performance, control costs, and leverage the best cloud technologies available. [LEARN MORE]\\n\\nService Transformation & Automation: Real-time solutions at your fingertips. [LEARN MORE]\\n\\nGRC, Information Security & Consultancy: Maximize investments with best practices and desirable profits. [LEARN MORE]\\n\\nFinTech: Latest technologies in AI (Artificial Intelligence), cloud computing, blockchain, and big data. [LEARN MORE]\\n\\nMIS & Analytics: Custom-designed insightful dashboards with relevant business improvement information. [LEARN MORE]\\n\\nManaged Services: Reducing expenses with improved service quality. [LEARN MORE]\\n\\nDatabase Services: [LEARN MORE]\\n\\nIndustries Served\\n\\nBanking & Finance\\n\\nTelecommunication\\n\\nLeisure\\n\\nManufacturing\\n\\nConglomerates\\n\\nStatistics\\n\\n500+ Happy Users\\n\\n850+ Projects Done\\n\\n350+ Business Partners\\n\\n12+ Awards Winning\\n\\nCase Studies\\n\\nLOLC Technologies creates exceptional solutions with expertise and out-of-the-box approaches.\\n\\nLOLC Technologies Boosts Efficiency Through Innovation (Industrial)\\n\\nThe Pioneering Journey of LOLC Technologies …\\n\\nHUTCH completes implementation of advanced Oracle … (Industrial / Telecommunication)\\n\\nLeadership Team\\n\\nMr. Conrad Dias: Director – LOLC Holdings PLC, Director / CEO – LOLC Finance PLC, Chairman of LOLC Technology Limited. Over 25 years of experience in sectors such as Trading, Banking…\\n\\nPrasanna\")),\n",
              " GraphDocument(nodes=[Node(id='Lolc Technology Limited', type='Organization', properties={}), Node(id='Prasanna Siriwardena', type='Person', properties={}), Node(id='Deputy Ceo', type='Position', properties={}), Node(id='Lolc Technology Services Ltd', type='Organization', properties={}), Node(id='Chief Information Officer', type='Position', properties={}), Node(id='Lolc Holdings', type='Organization', properties={}), Node(id='Chamini Attanayake', type='Person', properties={}), Node(id='Chief Operating Officer', type='Position', properties={}), Node(id='Leco', type='Organization', properties={}), Node(id='Windforce Plc', type='Organization', properties={}), Node(id='Rusiri Cooray', type='Person', properties={}), Node(id='Financial Controller', type='Position', properties={}), Node(id='Ntb', type='Organization', properties={}), Node(id='Lolc Cambodia Plc', type='Organization', properties={})], relationships=[Relationship(source=Node(id='Prasanna Siriwardena', type='Person', properties={}), target=Node(id='Lolc Technology Services Ltd', type='Organization', properties={}), type='WORKS_AT', properties={}), Relationship(source=Node(id='Prasanna Siriwardena', type='Person', properties={}), target=Node(id='Deputy Ceo', type='Position', properties={}), type='HOLDS_POSITION', properties={}), Relationship(source=Node(id='Prasanna Siriwardena', type='Person', properties={}), target=Node(id='Lolc Holdings', type='Organization', properties={}), type='WORKS_AT', properties={}), Relationship(source=Node(id='Prasanna Siriwardena', type='Person', properties={}), target=Node(id='Chief Information Officer', type='Position', properties={}), type='HOLDS_POSITION', properties={}), Relationship(source=Node(id='Chamini Attanayake', type='Person', properties={}), target=Node(id='Chief Operating Officer', type='Position', properties={}), type='HOLDS_POSITION', properties={}), Relationship(source=Node(id='Leco', type='Organization', properties={}), target=Node(id='Lolc Technology Limited', type='Organization', properties={}), type='WORKED_WITH', properties={}), Relationship(source=Node(id='Windforce Plc', type='Organization', properties={}), target=Node(id='Lolc Technology Limited', type='Organization', properties={}), type='WORKED_WITH', properties={}), Relationship(source=Node(id='Rusiri Cooray', type='Person', properties={}), target=Node(id='Windforce Plc', type='Organization', properties={}), type='WORKS_AT', properties={}), Relationship(source=Node(id='Rusiri Cooray', type='Person', properties={}), target=Node(id='Financial Controller', type='Position', properties={}), type='HOLDS_POSITION', properties={}), Relationship(source=Node(id='Ntb', type='Organization', properties={}), target=Node(id='Lolc Technology Limited', type='Organization', properties={}), type='WORKED_WITH', properties={}), Relationship(source=Node(id='Lolc Cambodia Plc', type='Organization', properties={}), target=Node(id='Lolc Technology Limited', type='Organization', properties={}), type='WORKED_WITH', properties={})], source=Document(metadata={'source': './data/1.md'}, page_content=' of LOLC Technology Limited. Over 25 years of experience in sectors such as Trading, Banking…\\n\\nPrasanna Siriwardena: Deputy CEO - LOLC Technology Services Ltd cum Chief Information Officer - LOLC Holdings, General – IT .\\n\\nChamini Attanayake: Chief Operating Officer. An astounding groundwork in education.\\n\\nClients\\n\\nLECO: \"It is a pleasure we are writing to recommend LOLC technologies. We have worked with LOLC Technologies hand in hand, to accomplish our daily operations pertaining to IT assistance. In our Journey with them LOLC Tech had always been a reliable partner to us.\"\\n\\nWindforce PLC (Rusiri Cooray, Financial Controller): \"The Financial consolidation has never been so easy. With Oracle FCCS in place, the monthly consolidation has become much easy for us. Thank you LOLC Tech for helping us to get onboard with Oracle FCCS within such a short period.\"\\n\\nNTB: \"The OASYS^ has brought efficiency in a way to assist our staff to interact with the system easily while maintaining the transparency in all levels. We would like to highlight the asset management module as it adds distinct value addition to the overall solution.\"\\n\\nLOLC Cambodia PLC: \"LOLC Cambodia is using OASYS since 2020 and we are using the automated helpdesk system, workflow management system, incident management system and report builder modules.\"\\n\\nRecent Articles\\n\\nSep 21, 2022 - STARTUPS: The Pioneering Journey of LOLC... (There are very few companies on the island whose name rings almost synonymous with scale, reliability…) [LEARN MORE]\\n\\nJun 16, 2022 - TECHNOLOGY: LOLC Technologies Boosts Ef... (For LOLC Technologies, their ground-breaking approach to innovation-driven business process reengineering (BPR) has not only changed…) [LEARN MORE]\\n\\nJun 14, 2021 - STARTUPS TECHNOLOGY: Hutch completes successful ... (Hutch, Sri Lanka’s fastest-growing mobile broadband operator, accomplished yet another major milestone in its rapid transformation…) [LEARN MORE]\\n\\nApr 02, 2020 - BUSSINESS STARTUPS: FusionX by LOLC Technology ... (As technology evolves, organizations need to stay ahead of the curve. Entities such as LOLC Technologies…) [LEARN MORE]\\n\\nJan 30, 2025 - BUSSINESS: LOLC Technologies joins han... (')),\n",
              " GraphDocument(nodes=[], relationships=[], source=Document(metadata={'source': './data/1.md'}, page_content='LEARN MORE]\\n\\nJan 30, 2025 - BUSSINESS: LOLC Technologies joins han... (From left: Prasanna Siriwardena, Deputy CEO of LOLC Technologies Ltd and CIO of LOLC Holdings PLC;…) [LEARN MORE]\\n\\nJan 15, 2025 - EVENT: Beyond Boundaries: LOLC Tec... (“Talent wins games, but teamwork and intelligence win championships.” – Michael Jordan LOLC Technologies’ recreations club…) [LEARN MORE]\\n\\nJan 07, 2025 - BUSSINESS: LOLC’S Global IT Conference... (Panellists on day 2 discussed the role changes required for CIOs and Heads of IT in…) [LEARN MORE]\\n\\nNov 03, 2024 - BUSSINESS: LOLC Tech and Sanfer partne... (OASYS^, a game-changing innovation by LOLC Technologies, a fully owned subsidiary of LOLC Group, has entered…) [LEARN MORE]\\n\\nJul 30, 2024 - TECHNOLOGY: LOLC Technologies unveils S... (LOLC Technologies has launched an AI-driven chatbot powered by a Large Language Model (LLM). This innovative…) [LEARN MORE]')),\n",
              " GraphDocument(nodes=[], relationships=[], source=Document(metadata={'source': './data/10.md'}, page_content='GRC, Information Security & Consultancy\\n\\nMaximize your investments, delivering envisioned benefits with best practices and desirable profits through our GRC, Information Security, and consultancy solutions.\\n\\nThrough GRC solutions, we at LOLC Technologies provide your company with the capability to manage IT and security risks of your company while reducing costs and meeting company compliance requirements helping you address uncertainties and act with integrity.\\n\\nContact: +94 011 500 1121 (076 884 0426)')),\n",
              " GraphDocument(nodes=[], relationships=[], source=Document(metadata={'source': './data/11.md'}, page_content='LOLC Technologies FinTech Solutions\\n\\nContact\\n\\n+94 011 500 1121 (076 884 0426)\\n\\nOverview\\n\\nLOLC Technologies provides FinTech services and solutions, leveraging the latest technologies in AI (Artificial Intelligence), cloud computing, blockchain, and big data. We guide you through a journey that surpasses traditional financial methods, offering the financial solutions of the future.')),\n",
              " GraphDocument(nodes=[], relationships=[], source=Document(metadata={'source': './data/12.md'}, page_content='LOLC Technologies MIS & Analytics\\n\\nLOLC Technologies designs insightful dashboards with relevant business improvement information. These dashboards facilitate weekly updates and serve as essential business trackers, converting raw data into valuable business analytics.\\n\\nAlgorithms are used to analyze data patterns, providing detailed, reliable, and insightful reports to customers.\\n\\nOur services in MIS and analytics offer:\\n\\nFinancial performance reporting\\n\\nData mining\\n\\nOperational performance reporting\\n\\nTechnical performance reporting\\n\\nMany other options')),\n",
              " GraphDocument(nodes=[], relationships=[], source=Document(metadata={'source': './data/13.md'}, page_content='LOLC Technologies Managed Services\\n\\nContact Information\\n\\n+94 011 500 1121 (076 884 0426)\\n\\nManaged Services Overview\\n\\nAt LOLC Technologies, our managed services aim to reduce your expenses while improving service quality. We provide committed service, delivering efficiency and convenience at every stage and scale. Our solutions and services help you manage the cost of IT infrastructure, especially during uncertain and critical times, with ease and high efficiency.\\n\\nWe guarantee the stability and security of database systems and other technologies handled through our services. This is ensured by the qualified abilities and expertise of our certified engineers, who are experienced in installing and supporting large system installations.')),\n",
              " GraphDocument(nodes=[], relationships=[], source=Document(metadata={'source': './data/14.md'}, page_content='LOLC Technologies Database Services\\n\\n+94 011 500 1121 (076 884 0426)\\n\\nDatabase Services\\n\\nHome/ Services & Solutions/ Database Services\\n\\n[BACK]\\n\\nOur database and cloud services are spread across sectors such as leisure, banking and finance, information technology, and services.')),\n",
              " GraphDocument(nodes=[], relationships=[], source=Document(metadata={'source': './data/15.md'}, page_content='LOLC Technologies Boosts Efficiency Through Innovation\\n\\nFor LOLC Technologies, their ground-breaking approach to innovation-driven business process reengineering (BPR) has not only changed how the LOLC Group executes core functions. It has also uplifted efficiency both locally and globally with the implementation of its paperless document management system and the integration of robotic process automation into the overarching group workflow. The brilliance of LOLC Technologies shines through in its commitment to innovation to drive greater efficiency. A deep commitment to long-term strategic thinking, prioritizing data-driven decision-making and embracing automation in the push for group-encompassing adoption.')),\n",
              " GraphDocument(nodes=[], relationships=[], source=Document(metadata={'source': './data/16.md'}, page_content='The Pioneering Journey of LOLC Technologies …\\n\\nThere are very few companies on the island whose name rings almost synonymous with scale, reliability and diversity. However, the LOLC Group and its assortment of subsidiaries have developed a conglomerate that is truly magnificent to behold, not only for its sheer scale but also in how they have, over time, altered the fabric of how businesses are run in Sri Lanka.\\n\\nContact: +94 011 500 1121 (076 884 0426)')),\n",
              " GraphDocument(nodes=[], relationships=[], source=Document(metadata={'source': './data/17.md'}, page_content='HUTCH completes implementation of advanced Oracle …\\n\\nHUTCH accomplished a major milestone by successfully implementing the latest Oracle Fusion Cloud Enterprise Resource Planning (ERP) system during the COVID pandemic.\\n\\nMost legacy ERP systems are deployed on-premises, but Hutch decided to implement a future-proof Oracle Cloud ERP.\\n\\nThe project was facilitated by CK Hutchison group through CKH-IOD, and spearheaded by LOLC Technologies Limited partnered with EVOSYS Global. Hutch also partnered with PWC-Sri Lanka for expert consultancy services.\\n\\nLalith Fernando, Chief Financial Officer of Hutch, commented, “The implementation of the Oracle Fusion Cloud ERP system will allow us to transform the business to help achieve our goals while adhering to global best practices. The Oracle ERP system offers advanced capabilities, such as AI to automate manual processes, analytics to react to market shifts in real-time, and automatic updates to stay current and gain a competitive advantage.\\n\\nThe successful on-time implementation of this ERP system was impressive as it was executed almost entirely during the COVID pandemic.\\n\\nThe Oracle Fusion modules comprise Oracle Fusion Supply Chain, Oracle Fusion Finance, and Oracle Integration Cloud (OIC). It offers a unified experience allowing best practices, modernized key operations, and automated Finance & Supply Chain business functions integrating core operations and business support systems (OSS/BSS) in a dynamic Telco environment to provide improved decision making and operational efficiencies.\\n\\nThis ERP project is part of Hutch’s merger with Etisalat Lanka, initiated in 2019, and has led to the modernisation of the entire operation from the deployment of an advanced 4G network and the complete digitalisation of its back-office operations. This will enable Hutch to continue to offer the best mobile broadband experience to its customers at the most affordable rates.')),\n",
              " GraphDocument(nodes=[], relationships=[], source=Document(metadata={'source': './data/18.md'}, page_content='LOLC Technologies Startups News\\n\\n+94 011 500 1121 (076 884 0426)\\n\\nServices & Solutions Partners About Join Us Contact\\n\\nHome/ Blog/ Startups\\n\\nLATEST NEWS\\n\\nThe Pioneering Journey of LOLC Technologies\\n\\nSep 21, 2022\\n\\nThere are very few companies on the island whose name rings almost synonymous with scale, reliability…\\n\\nRead More\\n\\nRECENT ARTICLES\\n\\nRead Our Latest Articles & Knowledge\\n\\nSearch for:\\n\\nCategories\\n\\nCase Studies\\n\\nTags\\n\\nEvent Bussiness Startups Technology')),\n",
              " GraphDocument(nodes=[], relationships=[], source=Document(metadata={'source': './data/19.md'}, page_content='The Pioneering Journey of LOLC Technologies\\n\\nThere are very few companies on the island whose name rings almost synonymous with scale, reliability and diversity. However, the LOLC Group and its assortment of subsidiaries have developed a conglomerate that is truly magnificent to behold, not only for its sheer scale but also in how they have, over time, altered the fabric of how businesses are run in Sri Lanka.\\n\\nContact: +94 011 500 1121 (076 884 0426)\\n\\nServices & Solutions Partners About Join Us Contact NEWS Home/ Blog/ The Pioneering Journey of LOLC Technologies BACK NEWS')),\n",
              " GraphDocument(nodes=[], relationships=[], source=Document(metadata={'source': './data/2.md'}, page_content='LOLC Technologies Services & Solutions\\n\\nOUR SKILLS: We Make Things Possible\\n\\nWe provide high-quality and reliable business solutions and technology-related services with strong strategic partnerships developed with some of the world’s most renowned information technology solution providers, such as Oracle, Microsoft, and AirWatch. Our global reach has extended to around 20 countries around the world, of which Myanmar, Dubai, Philippines, Malawi, Kazakhstan, Nepal, and Cambodia act as our channel partners.\\n\\nWe have pioneered cutting-edge technology-driven business solutions for business ventures in diverse industries by optimizing and automating their core business processes and operations. We have attained significant reputation on a global basis within the industry by bringing you the products and services of future today.\\n\\nWHAT WE DO: Our IT Solutions\\n\\nfusion X\\n\\nA next generation exponential cloud financial suite.\\n\\n[LEARN MORE]\\n\\nOASYS^\\n\\nService Transformation and Automation solution\\n\\n[LEARN MORE]\\n\\niPay\\n\\nPay Simply live Simply payment platform\\n\\n[LEARN MORE]\\n\\nOYES\\n\\nMaking everyday is a payday\\n\\n[LEARN MORE]\\n\\nWHAT WE DO: We Provide Solutions for business\\n\\nBanking & Finance\\n\\nTelecommunication\\n\\nLeisure\\n\\nManufacturing\\n\\nConglomerates\\n\\nCREATING STRATEGIC Industrial Case Studies\\n\\nHUTCH completes implementation of advanced Oracle …\\n\\nHUTCH accomplished yet another major milestone in its rapid transformation journey, successfully implementing the latest Oracle…\\n\\n[LEARN MORE]\\n\\nLOLC Technologies Boosts Efficiency Through Innovation\\n\\nFor LOLC Technologies, their ground-breaking approach to innovation-driven business process reengineering (BPR) has not only changed…\\n\\n[LEARN MORE]')),\n",
              " GraphDocument(nodes=[], relationships=[], source=Document(metadata={'source': './data/20.md'}, page_content='LOLC Technologies unveils SL’s first LLM-based chatbot for banking and financial services\\n\\nJul 30, 2024\\n\\nLOLC Technologies has launched an AI-driven chatbot powered by a Large Language Model (LLM). This innovative…\\n\\nRead More\\n\\nRECENT ARTICLES\\n\\nRead Our Latest Articles & Knowledge\\n\\nCategories\\n\\nCase Studies\\n\\nTags\\n\\nEvent Bussiness Startups Technology')),\n",
              " GraphDocument(nodes=[], relationships=[], source=Document(metadata={'source': './data/21.md'}, page_content='LOLC Technologies Boosts Efficiency Through Innovation Within the LOLC Group and Beyond\\n\\nFor LOLC Technologies, their ground-breaking approach to innovation-driven business process reengineering (BPR) has not only changed how the LOLC Group executes core functions. It has also uplifted efficiency both locally and globally with the implementation of its paperless document management system and the integration of robotic process automation into the overarching group workflow. The brilliance of LOLC Technologies shines through in its commitment to innovation to drive greater efficiency. A deep commitment to long-term strategic thinking, prioritizing data-driven decision-making and embracing automation in the push for group-encompassing adoption.')),\n",
              " GraphDocument(nodes=[Node(id='Hutch', type='Organization', properties={}), Node(id='Oracle Fusion Cloud Enterprise Resource Planning (Erp) System', type='System', properties={}), Node(id='Covid Pandemic', type='Event', properties={}), Node(id='Lalith Fernando', type='Person', properties={})], relationships=[Relationship(source=Node(id='Hutch', type='Organization', properties={}), target=Node(id='Oracle Fusion Cloud Enterprise Resource Planning (Erp) System', type='System', properties={}), type='IMPLEMENTED', properties={}), Relationship(source=Node(id='Lalith Fernando', type='Person', properties={}), target=Node(id='Oracle Fusion Cloud Enterprise Resource Planning (Erp) System', type='System', properties={}), type='COMMENTED_ON', properties={})], source=Document(metadata={'source': './data/22.md'}, page_content='Hutch completes successful implementation of advanced Oracle Cloud ERP system\\n\\nHutch, Sri Lanka’s fastest-growing mobile broadband operator, accomplished yet another major milestone in its rapid transformation journey, successfully implementing the latest Oracle Fusion Cloud Enterprise Resource Planning (ERP) system in the middle of the COVID pandemic.\\n\\nMost legacy ERP systems, including Oracle, are fully deployed on-premises but now technology is moving toward the cloud and Hutch decided to leap forward and implement a future-proof Oracle Cloud ERP.\\n\\nThe project was facilitated by Hutch Sri Lanka’s parent CK Hutchison group, through its global innovations arm CKH-IOD and spearheaded by LOLC Technologies Limited partnered with EVOSYS Global, an International Platinum Partner for Oracle. Hutch also partnered with PWC-Sri Lanka in the process to acquire expert consultancy services on this programme.\\n\\nHutch Chief Financial Officer Lalith Fernando commented, “The implementation of the Oracle Fusion Cloud ERP system will allow us to transform the business to help achieve our goals while adhering to global best practices. The Oracle ERP system is a complete, modern, cloud ERP suite that offers us advanced capabilities, such as AI to automate the manual processes, analytics to react to market shifts in real-time and automatic updates to stay current and gain a competitive advantage.\\n\\nThe successful on-time implementation of this ERP system was all the more impressive, as it has been executed almost in its entirety during the COVID pandemic, which did not allow full on-premise project execution by vendors and project consultants.”')),\n",
              " GraphDocument(nodes=[Node(id='Lolc Technologies', type='Bussiness', properties={}), Node(id='Microsoft', type='Bussiness', properties={}), Node(id='Azure', type='Technology', properties={})], relationships=[Relationship(source=Node(id='Lolc Technologies', type='Bussiness', properties={}), target=Node(id='Microsoft', type='Bussiness', properties={}), type='JOINS_HANDS_WITH', properties={}), Relationship(source=Node(id='Lolc Technologies', type='Bussiness', properties={}), target=Node(id='Azure', type='Technology', properties={}), type='ENHANCE_WITH', properties={})], source=Document(metadata={'source': './data/23.md'}, page_content='LOLC Technologies joins hands with Microsoft to enhance core-banking with Azure\\n\\nJan 30, 2025\\n\\n[Image of Prasanna Siriwardena, Deputy CEO of LOLC Technologies Ltd and CIO of LOLC Holdings PLC]\\n\\nFrom left: Prasanna Siriwardena, Deputy CEO of LOLC Technologies Ltd and CIO of LOLC Holdings PLC;…\\n\\nRead More\\n\\nRECENT ARTICLES\\n\\nRead Our Latest Articles & Knowledge\\n\\nCategories\\n\\nCase Studies\\n\\nTags\\n\\nEvent\\n\\nBussiness\\n\\nStartups\\n\\nTechnology')),\n",
              " GraphDocument(nodes=[], relationships=[], source=Document(metadata={'source': './data/24.md'}, page_content='FusionX by LOLC Technology Services: A New Frontier of Banking Awaits\\n\\nAs technology evolves, organizations need to stay ahead of the curve. Entities such as LOLC Technologies are leading the march into the future, with novel technologies bringing about greater efficiencies. Amongst its latest innovations is FusionX, a core-banking platform developed in-house to help standardize and optimize the operations of the global LOLC Group.')),\n",
              " GraphDocument(nodes=[], relationships=[], source=Document(metadata={'source': './data/25.md'}, page_content='LOLC Technologies joins hands with Microsoft to enhance core-banking with Azure\\n\\nLOLC Technologies Limited has entered into a collaborative agreement with Microsoft to integrate Azure cloud services into “FusionX”, its core banking platform designed to meet evolving customer needs.\\n\\nThis move aims to upscale their operational architecture, enabling LOLC Technologies to harness the power of data and AI to expedite growth and success.\\n\\nPrasanna Siriwardena, Deputy CEO, LOLC Technologies Ltd and CIO, LOLC Holdings PLC said, “This is not just a technological advancement, but a strategic transformation aimed at positioning LOLC Technologies at the forefront of digital banking solutions. By leveraging the unparallelled agility and resilience of Microsoft Azure, we are focused on redefining financial services. With this shift, we have empowered BFSIs to evolve rapidly while unlocking AI’s full potential through a real-time analytics platform.”\\n\\nHarsha Randeny, Country Manager for Microsoft Sri Lanka and Maldives added, “We are enthusiastic about supporting LOLC Technologies break ground on their undertaking to elevate operations through AI automation. Not only are we looking forward to guiding LOLC Technologies through this transition, but we’re also keen on optimizing the organization’s leveraging of Microsoft AI Solutions at every level. We trust that with these tools at their disposal, LOLC Technologies will forge ahead with inventive opportunities.”')),\n",
              " GraphDocument(nodes=[Node(id='Lolc Technologies', type='Organization', properties={}), Node(id='Michael Jordan', type='Person', properties={})], relationships=[], source=Document(metadata={'source': './data/26.md'}, page_content='Beyond Boundaries: LOLC Technologies’ Sports Day 2024\\n\\nJan 15, 2025\\n\\n“Talent wins games, but teamwork and intelligence win championships.” – Michael Jordan\\n\\nLOLC Technologies’ recreations club...\\n\\nRead More')),\n",
              " GraphDocument(nodes=[Node(id='Lolc Technologies', type='Organization', properties={}), Node(id='Sports Day 2024', type='Event', properties={}), Node(id='Cricket', type='Sport', properties={}), Node(id='Basketball', type='Sport', properties={}), Node(id='Badminton', type='Sport', properties={}), Node(id='Token Tuskers', type='Team', properties={}), Node(id='Cyber Cheetahs', type='Team', properties={}), Node(id='Tech Turtles', type='Team', properties={}), Node(id='Thisan Samarasinghe', type='Person', properties={}), Node(id='Nileka Madurapperuma', type='Person', properties={}), Node(id='Data Dragons', type='Team', properties={}), Node(id='Bhanuka Gunathilake', type='Person', properties={}), Node(id='Abhishek Jayakody', type='Person', properties={}), Node(id='Imasha Udayangi', type='Person', properties={}), Node(id='Geek Gators', type='Team', properties={}), Node(id='Nalan Perera', type='Person', properties={}), Node(id='Jayani Botheju', type='Person', properties={}), Node(id='Firewall Falcons', type='Team', properties={}), Node(id='Python Pandas', type='Team', properties={}), Node(id='Sujeewa Premathilake', type='Person', properties={}), Node(id='Pixel Penguin', type='Team', properties={}), Node(id='Nimesh Lakshitha', type='Person', properties={}), Node(id='Dilantha Matharaarachchi', type='Person', properties={}), Node(id='Ashirwada Methsarani', type='Person', properties={})], relationships=[Relationship(source=Node(id='Lolc Technologies', type='Organization', properties={}), target=Node(id='Sports Day 2024', type='Event', properties={}), type='ORGANIZED', properties={}), Relationship(source=Node(id='Sports Day 2024', type='Event', properties={}), target=Node(id='Cricket', type='Sport', properties={}), type='INCLUDED', properties={}), Relationship(source=Node(id='Sports Day 2024', type='Event', properties={}), target=Node(id='Basketball', type='Sport', properties={}), type='INCLUDED', properties={}), Relationship(source=Node(id='Sports Day 2024', type='Event', properties={}), target=Node(id='Badminton', type='Sport', properties={}), type='INCLUDED', properties={}), Relationship(source=Node(id='Token Tuskers', type='Team', properties={}), target=Node(id='Basketball', type='Sport', properties={}), type='WON', properties={}), Relationship(source=Node(id='Cyber Cheetahs', type='Team', properties={}), target=Node(id='Basketball', type='Sport', properties={}), type='RUNNER_UP', properties={}), Relationship(source=Node(id='Tech Turtles', type='Team', properties={}), target=Node(id='Badminton', type='Sport', properties={}), type='WON', properties={}), Relationship(source=Node(id='Thisan Samarasinghe', type='Person', properties={}), target=Node(id='Tech Turtles', type='Team', properties={}), type='MEMBER', properties={}), Relationship(source=Node(id='Nileka Madurapperuma', type='Person', properties={}), target=Node(id='Tech Turtles', type='Team', properties={}), type='MEMBER', properties={}), Relationship(source=Node(id='Data Dragons', type='Team', properties={}), target=Node(id='Badminton', type='Sport', properties={}), type='RUNNER_UP', properties={}), Relationship(source=Node(id='Bhanuka Gunathilake', type='Person', properties={}), target=Node(id='Data Dragons', type='Team', properties={}), type='MEMBER', properties={}), Relationship(source=Node(id='Abhishek Jayakody', type='Person', properties={}), target=Node(id='Data Dragons', type='Team', properties={}), type='MEMBER', properties={}), Relationship(source=Node(id='Data Dragons', type='Team', properties={}), target=Node(id='Badminton', type='Sport', properties={}), type='WON', properties={}), Relationship(source=Node(id='Bhanuka Gunathilake', type='Person', properties={}), target=Node(id='Data Dragons', type='Team', properties={}), type='MEMBER', properties={}), Relationship(source=Node(id='Imasha Udayangi', type='Person', properties={}), target=Node(id='Data Dragons', type='Team', properties={}), type='MEMBER', properties={}), Relationship(source=Node(id='Geek Gators', type='Team', properties={}), target=Node(id='Badminton', type='Sport', properties={}), type='RUNNER_UP', properties={}), Relationship(source=Node(id='Nalan Perera', type='Person', properties={}), target=Node(id='Geek Gators', type='Team', properties={}), type='MEMBER', properties={}), Relationship(source=Node(id='Jayani Botheju', type='Person', properties={}), target=Node(id='Geek Gators', type='Team', properties={}), type='MEMBER', properties={}), Relationship(source=Node(id='Data Dragons', type='Team', properties={}), target=Node(id='Cricket', type='Sport', properties={}), type='WON', properties={}), Relationship(source=Node(id='Token Tuskers', type='Team', properties={}), target=Node(id='Cricket', type='Sport', properties={}), type='WON', properties={}), Relationship(source=Node(id='Firewall Falcons', type='Team', properties={}), target=Node(id='Cricket', type='Sport', properties={}), type='WON', properties={}), Relationship(source=Node(id='Python Pandas', type='Team', properties={}), target=Node(id='Cricket', type='Sport', properties={}), type='RUNNER_UP', properties={}), Relationship(source=Node(id='Sujeewa Premathilake', type='Person', properties={}), target=Node(id='Cricket', type='Sport', properties={}), type='BEST_BOWLER', properties={}), Relationship(source=Node(id='Nimesh Lakshitha', type='Person', properties={}), target=Node(id='Cricket', type='Sport', properties={}), type='BEST_BATSMAN', properties={}), Relationship(source=Node(id='Dilantha Matharaarachchi', type='Person', properties={}), target=Node(id='Cricket', type='Sport', properties={}), type='STAR_PLAYER', properties={}), Relationship(source=Node(id='Ashirwada Methsarani', type='Person', properties={}), target=Node(id='Cricket', type='Sport', properties={}), type='STAR_PLAYER', properties={})], source=Document(metadata={'source': './data/27.md'}, page_content='Beyond Boundaries: LOLC Technologies\\' Sports Day 2024\\n\\n\"Talent wins games, but teamwork and intelligence win championships.\" – Michael Jordan\\n\\nLOLC Technologies\\' recreations club successfully organized its Mega Sports day on 28th September 2024 at MCA grounds Colombo 07. Under the theme of \"Beyond Boundaries\", the event brought together employees to cheer and celebrate the spirit of competitiveness and teamwork through an exciting series of Cricket, Basketball, and Badminton matches.\\n\\nThe Sports Day offered a break from work schedules, allowing staff to unwind and reconnect with colleagues. The excitement was evident as employees enjoyed a day filled with friendly competition and team spirit.\\n\\nChampions of the LOLCTECH Sports Day 2024:\\n\\nBasketball: Token Tuskers (Champions), Cyber Cheetahs (Runner-up)\\n\\nMen\\'s Badminton Doubles: Tech Turtles (Thisan Samarasinghe & Nileka Madurapperuma) (Winners), Data Dragons (Bhanuka Gunathilake & Abhishek Jayakody) (Runners-up)\\n\\nMixed Badminton Doubles: Data Dragons (Bhanuka Gunathilake & Imasha Udayangi) (Winners), Geek Gators (Nalan Perera & Jayani Botheju) (Runners-up)\\n\\nWomen\\'s Cricket: Data Dragons & Token Tuskers (Shared Championship)\\n\\nMen\\'s Cricket: Firewall Falcons (Champions), Python Pandas (Runners-up)\\n\\nIndividual Talents:\\n\\nBest Bowler: Sujeewa Premathilake (Firewall Falcons)\\n\\nBest Batsman: Nimesh Lakshitha (Pixel Penguin)\\n\\nStar Player (MEN): Dilantha Matharaarachchi (Python Pandas)\\n\\nStar Player (WOMEN): Ashirwada Methsarani (Data Dragon)\\n\\nThe LOLCTECH Sports Day 2024 was a memorable occasion that left a lasting impression, reminding everyone of the joy of connecting and the thrill of competition. Congratulations to all participants for their dedication and sportsmanship!')),\n",
              " GraphDocument(nodes=[], relationships=[], source=Document(metadata={'source': './data/28.md'}, page_content='LOLC’S Global IT Conference unites over 20 nations\\n\\nLOLC Technologies, the technological arm of LOLC Group, Sri Lanka’s largest and most diversified conglomerate, reaffirmed its leadership in technological innovation with the successful conclusion of its second Global IT Conference.\\n\\nHeld virtually over two days, the event themed “AI and Digital for Business” participated over 100 technology leaders from more than 20 countries across Asia and Africa, highlighting the group’s commitment to leveraging technology for enhanced business efficiency and stakeholder value.\\n\\nSpeaking at the conference, LOLC Holdings PLC Group Managing Director/CEO Kapila Jayawardena emphasised the necessity of embracing artificial intelligence (AI) to optimise operations and sustain growth.\\n\\n“As organisations grow, maintaining efficiency becomes increasingly difficult, and productivity tends to diminish. However, at LOLC Group, we have successfully demonstrated that with the integration of modern technologies like AI, we can not only sustain growth but also enhance productivity. Embracing AI is not just an opportunity – it is a necessity for optimising operations and leading in today’s competitive business environment.”\\n\\nOn day one, participants explored AI’s potential to reshape business models, enhance customer experiences, and optimise operations across industries. The second day shifted focus to the strategic roles of CIOs and Heads of IT, addressing how leadership and strategy must evolve to effectively integrate AI and other emerging technologies. These discussions reinforced the Group’s emphasis on collaboration and innovation, providing a platform for its C-Suite executives to exchange insights and align on a unified technology strategy.\\n\\nThe event featured a distinguished line-up of speakers, including LOLC Technologies PLC Chairman Conrad Dias who delved into the transformative role of AI in revolutionising business operations.\\n\\nHe emphasised AI’s capacity to streamline processes, enhance decision-making, and unlock new revenue streams through smarter, more personalised customer experiences. Complementing this, LOLC Technologies Ltd. Deputy CEO and LOLC Holdings PLC CIO Prasanna Siriwardena, provided insights into the group’s next-generation core banking solution, FusionX, which is driving innovation and agility in the financial services sector.\\n\\nKey topics addressed during the conference included the critical importance of information security and privacy, emphasising the need to safeguard sensitive data in the face of accelerated digital transformation; the transformative potential of six sigma, highlighting how data')),\n",
              " GraphDocument(nodes=[], relationships=[], source=Document(metadata={'source': './data/28.md'}, page_content=' need to safeguard sensitive data in the face of accelerated digital transformation; the transformative potential of six sigma, highlighting how data-driven methodologies can enhance efficiency and quality in financial institutions; and the evolving role of CIOs, focusing on their responsibility to align IT strategies with business objectives, foster innovation, and navigate the opportunities and challenges of the AI era. The conference also featured engaging panel discussions\\n\\nWith a long-standing commitment to digital transformation, LOLC said through its subsidiary LOLC Technologies, continues to be a trailblazer in adopting cutting-edge solutions that keeps its businesses globally competitive. Looking ahead, LOLC said it aims to scale up the scope and impact of its Global ICT Conference, further underscoring its dedication to fostering technological advancements and shaping the future of AI and digital transformation in business.')),\n",
              " GraphDocument(nodes=[], relationships=[], source=Document(metadata={'source': './data/29.md'}, page_content='LOLC Tech and Sanfer partners with OASYS^\\n\\nOASYS^, a game-changing innovation by LOLC Technologies, a fully owned subsidiary of LOLC Group, has entered into a strategic partnership with Sanfer Technologies Ltd, also a fully owned subsidiary of South Asian Technologies.\\n\\nThis partnership marks a significant advancement in its “Go-to-Market” (GTM) strategy. The Memorandum of Understanding (MoU) was officially signed recently at LOLC Holdings PLC’s Head office in Rajagiriya, paving the way for OASYS^ to expand its market presence both locally and internationally.\\n\\nOASYS^ offers comprehensive Business Orchestration Automation Technology (BOAT) to a wide range of industries. Key features include Process Orchestration, Do-it-Yourself APIs, e-Signature, Asset Lifecycle Management, AI-driven automation, and Document Intelligence, making it a versatile no-code platform that helps businesses streamline workflows and foster seamless interdepartmental collaboration.\\n\\nThe partnership with Sanfer Technologies is a key milestone in OASYS^’s GTM strategy. Sanfer’s extensive distribution network and market expertise will help broaden OASYS^’s reach to a wider audience. Through this collaboration, OASYS^ will provide product training, knowledge-sharing sessions, and regular feature updates via Sanfer’s partner network, ensuring customers fully benefit from the platform’s capabilities. The integration with Sanfer’s ecosystem will also enhance customer satisfaction by leveraging Sanfer’s trusted IT operations and security expertise.\\n\\nConrad Dias, Chairman of LOLC Technologies, said, “This partnership represents a pivotal moment in our journey towards modernising and automating operations on a global scale. With this collaboration, LOLC Technologies is well-positioned for long-term growth, delivering solutions that empower our clients to excel in the digital age.”\\n\\nSanjaya Padmaperuma, Group CEO of South Asian Technologies, expressed his enthusiasm for the partnership, “This partnership reflects our commitment to innovation and operational excellence.”\\n\\nWith over 50,000 corporate users across 20 enterprises globally, OASYS^ is already reshaping the digital transformation landscape.\\n\\nAgreement signing ceremony attended by Sanjaya Padmaperuma, Group CEO of South Asian Technologies and Conrad Dias, Chairman of LOLC Technologies Limited.')),\n",
              " GraphDocument(nodes=[], relationships=[], source=Document(metadata={'source': './data/3.md'}, page_content=\"LOLC Technologies Limited Partnerships\\n\\nLOLC Technologies Limited has partnered with global IT industry leaders such as Oracle, Galvanize, OASYS, UI Path, Ipay, SOTI, and VM Ware to broaden our service offerings. These partnerships allow us to deliver optimal business solutions and exceptional value to our customers by leveraging state-of-the-art technologies and resources, providing comprehensive end-to-end solutions tailored to their unique business needs.\\n\\nKey Partners and Solutions\\n\\nGalvanize\\n\\nGalvanize provides leading governance, risk, and compliance (GRC) software. Our partnership ensures customers receive paramount services supported by Galvanize's extensive workforce. LOLC Technologies ensures transparency and accountability in all services provided through this partnership.\\n\\nGalvanize solutions offer a practical and cost-effective approach to managing GRC programs, saving time and preventing errors within a unified platform. Customers gain access to plug-and-play platforms, storyboards, integrations, advanced analytics, and workflow automation. Galvanize also provides professional services, support, and robust data security.\\n\\nLEARN MORE\\n\\nUI Path\\n\\nLOLC Technologies' services, powered by UI Path, help users save time by streamlining processes and uncovering efficiencies to drive digital transformation cost-effectively. UI Path's end-to-end automation platform is designed to innovate and evolve rapidly. It offers a flexible model infused with Machine Learning (ML) and Artificial Intelligence (AI), providing developers with both low-code and professional-grade experiences. We offer a flexible deployment model that eases the usage of the solutions we provide through UI Path.\\n\\nLEARN MORE\\n\\nHuawei\\n\\nAs a leading global provider of information and communication technology (ICT) infrastructure and smart devices, Huawei offers a wide range of services. LOLC Technologies provides customers with access to these services through our partnership. Huawei's products and services are delivered efficiently and dynamically, with a refined user experience enhanced by AI technology, offering a personalized and intelligent experience.\\n\\nWith Huawei, LOLC Technologies enables various industries to transform into the digital era. Huawei addresses cybersecurity and privacy protection challenges, enhancing the value and global recognition of services and solutions provided at LOLC Technologies.\\n\\nLEARN MORE\\n\\nOracle\\n\\nLOLC Technologies has partnered with Oracle since 2009, providing our customer base with ERP implementation, cloud services, and on-premise services. As a leading EPM implementation partner in Sri\")),\n",
              " GraphDocument(nodes=[], relationships=[], source=Document(metadata={'source': './data/3.md'}, page_content=\" with ERP implementation, cloud services, and on-premise services. As a leading EPM implementation partner in Sri Lanka, Oracle helps LOLC Technologies' customers efficiently connect next-generation ICT solutions with their business services. We have extensive experience across multi-industries such as BFSI, manufacturing, telecommunications, and services.\\n\\nLEARN MORE\")),\n",
              " GraphDocument(nodes=[Node(id='Lolc Technologies', type='Company', properties={}), Node(id='Chatbot', type='Product', properties={}), Node(id='Banking And Financial Services', type='Service', properties={}), Node(id='Customer', type='Person', properties={}), Node(id='Conrad Dias', type='Person', properties={}), Node(id='Prasanna Siriwardena', type='Person', properties={}), Node(id='Microsoft', type='Company', properties={}), Node(id='Yenasys', type='Company', properties={}), Node(id='Openai', type='Company', properties={}), Node(id='Azure', type='Product', properties={})], relationships=[Relationship(source=Node(id='Lolc Technologies', type='Company', properties={}), target=Node(id='Chatbot', type='Product', properties={}), type='DEVELOPS', properties={}), Relationship(source=Node(id='Chatbot', type='Product', properties={}), target=Node(id='Banking And Financial Services', type='Service', properties={}), type='PROVIDES_SERVICE_FOR', properties={}), Relationship(source=Node(id='Conrad Dias', type='Person', properties={}), target=Node(id='Lolc Technologies', type='Company', properties={}), type='CHAIRMAN_OF', properties={}), Relationship(source=Node(id='Prasanna Siriwardena', type='Person', properties={}), target=Node(id='Lolc Technologies', type='Company', properties={}), type='DEPUTY_CEO_OF', properties={}), Relationship(source=Node(id='Lolc Technologies', type='Company', properties={}), target=Node(id='Microsoft', type='Company', properties={}), type='PARTNER_WITH', properties={}), Relationship(source=Node(id='Lolc Technologies', type='Company', properties={}), target=Node(id='Yenasys', type='Company', properties={}), type='PARTNER_WITH', properties={})], source=Document(metadata={'source': './data/30.md'}, page_content='LOLC Technologies unveils SL’s first LLM-based chatbot for banking and financial services\\n\\nLOLC Technologies has launched an AI-driven chatbot powered by a Large Language Model (LLM).\\n\\nThis innovative development marks the first use of such cutting-edge technology in the local financial sector, setting a new benchmark for customer service and engagement.\\n\\nThe newly introduced chatbot leverages the latest advancements in artificial intelligence to deliver seamless and natural conversations with customers. Unlike traditional chatbots that rely on pre-programmed scripts or menu base, these advanced chatbots use transformers, a deep learning architecture, to understand and respond to customersquestions with exceptional context awareness.\\n\\nGenerative AI chatbots with LLM generates natural responses based on their vast knowledge base. They excel at Semantic Text Search, identifying relevant information even when it is not explicitly mentioned.\\n\\nBy integrating with Cognitive Search, these chatbots can draw from diverse knowledge bases, significantly enhancing the user experience. They continuously learn from interactions, allowing them to manage complex conversations with impressive fluency and accuracy.\\n\\nThe LLM-powered chatbot offers a variety of services to an end-user, including natural language queries, making interactions more intuitive and efficient. Beyond basic queries, this chatbot assists with more complex banking and financial inquiries, guiding customers through various services offered. Customers can also make service requests, receiving support without the wait times often associated with traditional customer service channels.\\n\\nConrad Dias, Chairman of LOLC Technologies said, “This cutting-edge technology enables us to provide highly personalized and efficient services, significantly improving customer engagement and satisfaction.”\\n\\nPrasanna Siriwardena, Deputy CEO of LOLC Technologies, emphasized the technological foundation of the new chatbot: “Our AI Chatbot leverages the latest OpenAI and Azure technologies, ensuring it operates at the highest level of efficiency and reliability. Through our strategic partnership with Microsoft and Yenasys, we have integrated state-of-the-art Generative AI solutions into our operations, making the chatbot a cutting-edge tool for customer service.”\\n\\nFurther, he stated that this innovation is the result of the sheer commitment of the AI team of LOLC Tech. Continuous R&D; extensive testing and knowledge base creation has made this a success.')),\n",
              " GraphDocument(nodes=[], relationships=[], source=Document(metadata={'source': './data/31.md'}, page_content='Fusion X\\n\\nThe Next Generation Core Banking Solution\\n\\nFusionX is the next generation core banking solution conceptualized with the vision of delivering business agility to financial institutes that operate in constantly changing markets through technology. The ideology of FusionX is to be a catalyst to develop businesses. As a result, FusionX was designed on composable architecture to enable the banks and financial institutions to be agile and adopt a fast go-to market approach in a heavily competitive industry.\\n\\nKey Features:\\n\\nVision to deliver business agility to Financial institutes through state-of- the-art Technology\\n\\nDesigned with Digital First, Cloud Native, Data Driven design with Mobile first approach.\\n\\nThe solution has been designed by adhering to first principles while encompassing security requirements at the very beginning\\n\\nMicro Services based solution architecture\\n\\nPlatform is designed to open banking standards with API first concept integration\\n\\nLower Servicing costs and improved customer satisfaction\\n\\nContact:\\n\\n+94 011 500 1121 (076 884 0426)')),\n",
              " GraphDocument(nodes=[], relationships=[], source=Document(metadata={'source': './data/32.md'}, page_content='OASYS\\n\\nPowering Service Management\\n\\nOASYS is a Cloud based service management solution, built with state-of-the-art integration technology. This provides distinct advantage to the end user by automating all admin, IT and HR requests through the system. OASYS Service Transformation Solution supports in transforming organizations to overcome challenges of maintaining a healthy end user satisfaction.\\n\\nCloud based fully automated enterprise service management solution\\n\\nMinimizes micro management and it adds transparency & Visibility to all the business processes\\n\\nIntegration capabilities with third party systems\\n\\nIntegrates with social collaborative platforms (Teams, WhatsApp, Outlook etc)\\n\\nComplete asset life cycle management\\n\\nSimply Track user performance through Service level agreements\\n\\nAnalytics capabilities\\n\\nClient report builder and scheduling\\n\\nIncrease efficiency and improve customer satisfaction\\n\\nLowers the operational costs')),\n",
              " GraphDocument(nodes=[], relationships=[], source=Document(metadata={'source': './data/33.md'}, page_content='iPay\\n\\nPay Simply live Simply payment platform\\n\\niPay is a global financial services super app that goes beyond simple payments and is an award-winning application.\\n\\nA revolutionary digital merchant platform “extending beyond payments” with its online, real-time cash handling and omnichannel payment facilitation\\n\\nA robust solution built on a highly scalable architecture using state-of- the-art technology.\\n\\nThe cost of joining the solution is low, as anyone with a bank account, or smartphone and an internet connection can experience frictionless transactions via iPay.\\n\\nComplete online banking facilities Merchant/ utility payments, & Other digital financial services right at your fingertips.\\n\\nAvailable on both IOS and Android Platforms for easy downloads.\\n\\nContact: +94 011 500 1121 (076 884 0426)\\n\\nWebsite: https://ipay.lk/')),\n",
              " GraphDocument(nodes=[], relationships=[], source=Document(metadata={'source': './data/34.md'}, page_content='OYES\\n\\nOwn Your Earned Salary\\n\\nThe OYES (Own Your Earned Salary) platform offers a multifaceted strategy to address the daily financial challenges of employees with limited access to low-cost financing and the need for daily access to their earned wages. By reducing dependency on high-interest loan sources, OYES allows employees to access their daily earned salary at any time, ensuring sustainability and scalability while integrating seamlessly with employers’ HRIS systems. This solution is particularly vital as many employees face diverse financial needs, including managing household expenses, childcare costs, unexpected bills, and bridging paycheck gaps, making traditional loans and credit cards prohibitively expensive and leading to debt cycles. OYES promotes financial inclusion by providing access to formal financial services, especially for blue-collar workers, during urgent financial needs.\\n\\nPresentation: MAKE EVERYDAY A PAY DAY')),\n",
              " GraphDocument(nodes=[], relationships=[], source=Document(metadata={'source': './data/35.md'}, page_content='+94 011 500 1121 (076 884 0426)\\n\\nGalvanize Home/ Partners/ Galvanize BACK\\n\\nGalvanize provides the leading governance, risk, and compliance software. LOLC Technologies has partnered with Galvanize ensuring its paramount services for its customers with the loyal work of the 1500-plus worker foundation at Galvanize. We at LOLC Technologies, ensures the transparency and accountability on all services provided through this partnership.\\n\\nSolutions through Galvanize provide a more practical and cost-effective approach to managing GRC programs within a business saving an immense amount of time while preventing errors within a unified platform. With the use of the technology at Galvanize the customers at LOLC technologies can access plug-and-play platforms, storyboards, integrations, advanced analytics, and workflow automation. Professional Services and Support along with best-offered data security are provided through Galvanize for the customers at LOLC technologies.')),\n",
              " GraphDocument(nodes=[], relationships=[], source=Document(metadata={'source': './data/36.md'}, page_content=\"UI Path Services at LOLC Technologies\\n\\nContact: +94 011 500 1121 (076 884 0426)\\n\\nNavigation: Home / Partners / UI Path\\n\\nPartnered With: UI Path\\n\\nLOLC Technologies' UI Path services help users save time by streamlining processes, uncovering efficiencies, and providing insights for digital transformation in a cost-effective manner. UI Path innovates and evolves with speed through its end-to-end automation platform. It offers a flexible model infused with ML and AI, providing developers with an experience ranging from low code to professional grade. We provide our customers with a flexible deployment model that eases the usage of UI Path solutions at LOLC Technologies.\\n\\nE-Business Suite\\n\\nSed no nulla detracto adversarium. reque cotidieque comprehensam in. Vix an odio fastidii disputando, paulo mediocrem his ad. Labitur ceteros quaerendum eos ad. at vim assentior disputationi.\")),\n",
              " GraphDocument(nodes=[Node(id='Huawei', type='Organization', properties={}), Node(id='Lolc Technologies', type='Organization', properties={})], relationships=[Relationship(source=Node(id='Lolc Technologies', type='Organization', properties={}), target=Node(id='Huawei', type='Organization', properties={}), type='PARTNERS_WITH', properties={})], source=Document(metadata={'source': './data/37.md'}, page_content=\"Huawei Partnership with LOLC Technologies\\n\\nContact: +94 011 500 1121 (076 884 0426)\\n\\nOverview: LOLC Technologies partners with Huawei, a leading global provider of information and communication technology (ICT) infrastructure and smart devices, to offer a wide range of services to its customers.\\n\\nHuawei Services & Products: Customers gain access to Huawei's services and products through this partnership, delivered efficiently and dynamically. Huawei utilizes AI technology to offer users a personalized and intelligent experience.\\n\\nDigital Transformation: LOLC Technologies, in collaboration with Huawei, empowers various industries to transform into the digital era.\\n\\nCyber Security and Privacy: The partnership addresses challenges in cyber security and privacy protection, enhancing the value and global recognition of services and solutions provided by LOLC Technologies.\\n\\nE-Business Suite\\n\\nSed no nulla detracto adversarium. Reque cotidieque comprehensam in. Vix an odio fastidii disputando, paulo mediocrem his ad. Labitur ceteros quaerendum eos ad. at vim assentior disputationi.\")),\n",
              " GraphDocument(nodes=[Node(id='Lolc Technologies', type='Organization', properties={}), Node(id='Oracle', type='Organization', properties={}), Node(id='Erp Implementation', type='Service', properties={}), Node(id='Cloud Services', type='Service', properties={}), Node(id='On-Premise Services', type='Service', properties={}), Node(id='Epm Implementation', type='Service', properties={}), Node(id='Ict Solutions', type='Solution', properties={}), Node(id='Bfsi', type='Industry', properties={}), Node(id='Manufacturing', type='Industry', properties={}), Node(id='Telecommunication', type='Industry', properties={}), Node(id='Services', type='Industry', properties={}), Node(id='Financials', type='Service', properties={}), Node(id='Scm', type='Service', properties={}), Node(id='Procurement Cloud Services', type='Service', properties={}), Node(id='Fusion Financials Cloud Service (Fccs)', type='Service', properties={}), Node(id='Fusion Erp Implementation', type='Service', properties={}), Node(id='Oracle E-Business Suite', type='Solution', properties={}), Node(id='Oracle Ebs Financials', type='Service', properties={}), Node(id='Oracle Supply Chain Management', type='Service', properties={}), Node(id='General Ledger', type='Service', properties={}), Node(id='Accounts Receivable', type='Service', properties={}), Node(id='Accounts Payable', type='Service', properties={}), Node(id='Cash Management', type='Service', properties={}), Node(id='Fixed Assets', type='Service', properties={}), Node(id='Oracle Inventory', type='Service', properties={}), Node(id='Oracle Purchasing', type='Service', properties={}), Node(id='Oracle Human Resource Management', type='Service', properties={})], relationships=[Relationship(source=Node(id='Lolc Technologies', type='Organization', properties={}), target=Node(id='Oracle', type='Organization', properties={}), type='PARTNER', properties={}), Relationship(source=Node(id='Lolc Technologies', type='Organization', properties={}), target=Node(id='Erp Implementation', type='Service', properties={}), type='PROVIDE', properties={}), Relationship(source=Node(id='Lolc Technologies', type='Organization', properties={}), target=Node(id='Cloud Services', type='Service', properties={}), type='PROVIDE', properties={}), Relationship(source=Node(id='Lolc Technologies', type='Organization', properties={}), target=Node(id='On-Premise Services', type='Service', properties={}), type='PROVIDE', properties={}), Relationship(source=Node(id='Lolc Technologies', type='Organization', properties={}), target=Node(id='Epm Implementation', type='Service', properties={}), type='PROVIDE', properties={}), Relationship(source=Node(id='Oracle', type='Organization', properties={}), target=Node(id='Ict Solutions', type='Solution', properties={}), type='HELPS', properties={}), Relationship(source=Node(id='Lolc Technologies', type='Organization', properties={}), target=Node(id='Bfsi', type='Industry', properties={}), type='EXPERIENCE', properties={}), Relationship(source=Node(id='Lolc Technologies', type='Organization', properties={}), target=Node(id='Manufacturing', type='Industry', properties={}), type='EXPERIENCE', properties={}), Relationship(source=Node(id='Lolc Technologies', type='Organization', properties={}), target=Node(id='Telecommunication', type='Industry', properties={}), type='EXPERIENCE', properties={}), Relationship(source=Node(id='Lolc Technologies', type='Organization', properties={}), target=Node(id='Services', type='Industry', properties={}), type='EXPERIENCE', properties={}), Relationship(source=Node(id='Oracle', type='Organization', properties={}), target=Node(id='Financials', type='Service', properties={}), type='PROVIDE', properties={}), Relationship(source=Node(id='Oracle', type='Organization', properties={}), target=Node(id='Scm', type='Service', properties={}), type='PROVIDE', properties={}), Relationship(source=Node(id='Oracle', type='Organization', properties={}), target=Node(id='Procurement Cloud Services', type='Service', properties={}), type='PROVIDE', properties={}), Relationship(source=Node(id='Oracle', type='Organization', properties={}), target=Node(id='Fusion Financials Cloud Service (Fccs)', type='Service', properties={}), type='IMPLEMENT', properties={}), Relationship(source=Node(id='Oracle', type='Organization', properties={}), target=Node(id='Fusion Erp Implementation', type='Service', properties={}), type='IMPLEMENT', properties={}), Relationship(source=Node(id='Lolc Technologies', type='Organization', properties={}), target=Node(id='Oracle E-Business Suite', type='Solution', properties={}), type='PROVIDE', properties={}), Relationship(source=Node(id='Lolc Technologies', type='Organization', properties={}), target=Node(id='Oracle Ebs Financials', type='Service', properties={}), type='PROVIDE', properties={}), Relationship(source=Node(id='Lolc Technologies', type='Organization', properties={}), target=Node(id='Oracle Supply Chain Management', type='Service', properties={}), type='PROVIDE', properties={}), Relationship(source=Node(id='Oracle E-Business Suite', type='Solution', properties={}), target=Node(id='General Ledger', type='Service', properties={}), type='INCLUDE', properties={}), Relationship(source=Node(id='Oracle E-Business Suite', type='Solution', properties={}), target=Node(id='Accounts Receivable', type='Service', properties={}), type='INCLUDE', properties={}), Relationship(source=Node(id='Oracle E-Business Suite', type='Solution', properties={}), target=Node(id='Accounts Payable', type='Service', properties={}), type='INCLUDE', properties={}), Relationship(source=Node(id='Oracle E-Business Suite', type='Solution', properties={}), target=Node(id='Cash Management', type='Service', properties={}), type='INCLUDE', properties={}), Relationship(source=Node(id='Oracle E-Business Suite', type='Solution', properties={}), target=Node(id='Fixed Assets', type='Service', properties={}), type='INCLUDE', properties={}), Relationship(source=Node(id='Oracle Supply Chain Management', type='Service', properties={}), target=Node(id='Oracle Inventory', type='Service', properties={}), type='PROVIDE', properties={}), Relationship(source=Node(id='Oracle Supply Chain Management', type='Service', properties={}), target=Node(id='Oracle Purchasing', type='Service', properties={}), type='PROVIDE', properties={}), Relationship(source=Node(id='Oracle E-Business Suite', type='Solution', properties={}), target=Node(id='Oracle Human Resource Management', type='Service', properties={}), type='INCLUDE', properties={})], source=Document(metadata={'source': './data/38.md'}, page_content=\"LOLC Technologies Oracle Partnership\\n\\nPartnered with Oracle\\n\\nWhy choose Oracle?\\n\\nLOLC Technologies has partnered with Oracle since 2009, providing customers with ERP implementation cloud services and on-premise services. As the leading EPM implementation partner in Sri Lanka, Oracle helps LOLC Technologies' customer base connect next-generation ICT solutions with their business services efficiently. LOLC Technologies has outstanding experience in multi-industries such as BFSI, manufacturing, telecommunication, and services.\\n\\nOracle cloud services provide a premium range of services in financials, SCM, EPM, and procurement cloud services. Oracle has been a recommended and reliable partner of LOLC Technologies over the years, being the first to implement Fusion Financials Cloud Service (FCCS) and Fusion ERP implementation with some of the leading telecommunication and international trading companies of Sri Lanka. The partnership with Oracle allows LOLC Technologies to offer a wide range of services and solutions for businesses.\\n\\nOracle E-Business Suite\\n\\nOracle E-Business Suite (EBS) is a comprehensive, integrated, and proven ERP solution that enables organizations to make better decisions at a reduced cost. LOLC Technologies provides implementation and consultancy services on Oracle EBS Financials and Oracle Supply Chain Management modules.\\n\\nOracle Financials\\n\\nOracle Financials, the core of Oracle E-Business Suite, provides a centralized architecture that standardizes accounting, inter-company operations, and taxation across the organization. Main modules include General Ledger, Accounts Receivable, Accounts Payable, Cash Management, and Fixed Assets.\\n\\nOracle Supply Chain Management\\n\\nOracle provides different solutions to manage the supply chain effectively. Oracle Inventory allows organizations to control inventory operations efficiently, reduce inventory levels, and improve overall inventory visibility. The system allows users to track all material in each line of business and each life cycle stage. Oracle Purchasing allows users to efficiently handle all purchasing-related work, including creating Purchase Orders, Request for Quotations (RFQs), and Quotations.\\n\\nOracle Human Resource Management\\n\\nOracle E-Business Suite Human Capital Management solution enables companies to manage HR-related data efficiently and effectively. The system provides HR-related functionality and allows users to manage all HR-related operations productively.\")),\n",
              " GraphDocument(nodes=[Node(id='Conrad Dias', type='Person', properties={}), Node(id='Lolc Holdings Plc', type='Organization', properties={}), Node(id='Lolc Finance Plc', type='Organization', properties={}), Node(id='Lolc Technology Limited', type='Organization', properties={}), Node(id='Lolc Technologies Limited', type='Organization', properties={}), Node(id='Hirdaramani Group Of Companies', type='Organization', properties={}), Node(id='Vanik Incorporations Limited', type='Organization', properties={}), Node(id='Eagle Ndb Fund Management Company Limited', type='Organization', properties={}), Node(id='Prasanna Siriwardena', type='Person', properties={}), Node(id='Lolc Technology Services Ltd', type='Organization', properties={}), Node(id='National Bank Of Kuwait', type='Organization', properties={}), Node(id='Kmpg', type='Organization', properties={}), Node(id='East West Information Systems Ltd', type='Organization', properties={}), Node(id='Jayantha Ke', type='Person', properties={})], relationships=[Relationship(source=Node(id='Conrad Dias', type='Person', properties={}), target=Node(id='Lolc Holdings Plc', type='Organization', properties={}), type='DIRECTOR', properties={}), Relationship(source=Node(id='Conrad Dias', type='Person', properties={}), target=Node(id='Lolc Finance Plc', type='Organization', properties={}), type='DIRECTOR', properties={}), Relationship(source=Node(id='Conrad Dias', type='Person', properties={}), target=Node(id='Lolc Technology Limited', type='Organization', properties={}), type='CHAIRMAN', properties={}), Relationship(source=Node(id='Conrad Dias', type='Person', properties={}), target=Node(id='Lolc Technologies Limited', type='Organization', properties={}), type='MANAGING_DIRECTOR/CHIEF_EXECUTIVE_OFFICER', properties={}), Relationship(source=Node(id='Prasanna Siriwardena', type='Person', properties={}), target=Node(id='Lolc Technology Services Ltd', type='Organization', properties={}), type='DEPUTY_CEO', properties={}), Relationship(source=Node(id='Prasanna Siriwardena', type='Person', properties={}), target=Node(id='Lolc Holdings', type='Organization', properties={}), type='CHIEF_INFORMATION_OFFICER', properties={})], source=Document(metadata={'source': './data/39.md'}, page_content='LOLC Technologies - Board of Directors\\n\\nConrad Dias\\n\\nDirector – LOLC Holdings PLC, Director / CEO – LOLC Finance PLC, Chairman of LOLC Technology Limited.\\n\\nFCMA (UK), CGMA, MBCS (UK), MBA (University of Leicester)\\n\\nManaging Director/Chief Executive Officer LOLC Technologies Limited\\n\\nConrad Dias has over 25 years of experience in Trading, Banking and Finance, Assets Management and Manufacturing. He was awarded the CSSL CIO of the Year in 2016 and the Professional Excellence Award 2017 by the Institute of Certified Management Accountants of Sri Lanka. Previous roles include Group CIO of Hirdaramani Group of Companies, AVP of Vanik Incorporations Limited, and Systems Manager Eagle NDB Fund Management Company Limited. He holds an MBA from the University of Leicester and is a Fellow of the Chartered Institute of Management Accountants, a Chartered Global Management Accountant, a Fellow of British Computer Society, and a Fellow member of Certified Management Accountants of Sri Lanka. He is an inductee of the CIO hall of fame and CIO 100 honoree for year 2020 and the CIMA top 50 ICONS in the year 2021.\\n\\nPrasanna Siriwardena\\n\\nDEPUTY CEO - LOLC TECHNOLOGY SERVICES LTD CUM CHIEF INFORMATION OFFICER - LOLC HOLDINGS, GENERAL – IT .\\n\\nMSc., CISM, MCP, CISA, CoBIT Certified\\n\\nPrasanna Siriwardena serves as the Deputy CEO – LOLC Technology Services Ltd cum Chief Information Officer – LOLC Holdings, General – IT . He has over 18 years’ experience in Information Security and Information Technology Management, with skills in ISMS, IS Audit, Technical Audit, Security testing, IT contingency planning, Project management, Information system/security auditing and compliance.\\n\\nPrevious experience includes Unit Head, Information Security at International Banking Group of National Bank of Kuwait, Manager / National IT Security Officer at KMPG – Kuwait, Manager – Network Administration at KMPG, and Software Support Executive at East West Information Systems Ltd. He holds an MSc in Information Technology from Keele University – UK and certifications such as Certified Information Security Manager (CISM), Microsoft Certified Professional (MCP), City & Guilds Examinations in Telecommunication, Certified Information Systems Auditor (CISA), and CoBIT 5 Foundation Certified (CoBIT).\\n\\nJayantha Ke')),\n",
              " GraphDocument(nodes=[Node(id='Jayantha Kelegama', type='Person', properties={})], relationships=[], source=Document(metadata={'source': './data/39.md'}, page_content=' Certified Information Systems Auditor (CISA), and CoBIT 5 Foundation Certified (CoBIT).\\n\\nJayantha Kelegama\\n\\nCHIEF CREDIT OFFICER - LOLC GROUP\\n\\nBA (Hons.) (University of Delhi)\\n\\nJoined in 2005. Counts over 18 years of experience in Leasing, Asset Financing, Credit Risk Management and Banking. Jayantha has been appointed as a Director of identified subsidiaries within the LOLC Group.')),\n",
              " GraphDocument(nodes=[], relationships=[], source=Document(metadata={'source': './data/4.md'}, page_content='LOLC Technologies Limited\\n\\nAbout Us\\n\\nOVERVIEW\\n\\nLOLC Technologies Limited is a fully owned subsidiary of LOLC group with a renowned business history of 32 years which currently holds the ownership of over 100 direct and indirect subsidiary companies operating in diverse business sectors.\\n\\nThe company was initially incorporated as Lanka Orix Information Technology Services Limited in the year 2004 primarily to cater to the Information Technology needs of all the LOLC group of companies. With years of experience in the industry, we have extended ourselves as LOLC Technologies Limited extending our services and business solutions to external customers as well.\\n\\nWe have also developed a strong strategic partnership with the world’s renowned Information Technology solution providers which enabled us to provide high quality and reliable business solutions and technology related services to our clients.\\n\\nWith a strong customer base spread across the country, LOLC Technologies has achieved a reputation of a prominent Business Solutions Provider in Sri Lanka pioneering cutting-edge technology driven business solutions for business ventures in diverse industries on optimizing and automating their core business processes and operations.\\n\\nVISION & MISSION\\n\\nVision\\n\\nTo be the most preferred innovative business technology solution provider\\n\\nMission\\n\\nFacilitate reaching greater heights in business, through our innovative, collaborative, cutting edge and partnered business technology solutions\\n\\nOUR STRENGTHS\\n\\nMore Than 32+ Years: LOLC Technologies delivers high quality, reliable, and cost-effective IT services to customers globally.\\n\\nBacked by one the largest conglomerates with global presence - LOLC Holdings and its strength\\n\\nTeam Competency\\n\\nLeaders / Pioneers in implementing ERP & Cloud Tech solutions - Experience\\n\\nCutting edge tech Product & Strategic Partnership strength\\n\\nGlobal Reach\\n\\nOUR TEAM\\n\\nWork together for success.\\n\\nLOLC Technologies comprises a highly competent and dedicated team to provide the best support and consultancy services to our clients.\\n\\nOur people are our greatest asset. With our team of skilled, experienced, and qualified staff members, we expect to reach greater heights in the industry achieving both operational and service excellence. Our recruitment process ensures that the most suitable and highly skilled prospects are recruited which has enabled the company to maintain its high standards of delivering exceptional service to our clients ensuring the highest level of satisfaction.\\n\\nOur Leadership Team\\n\\nMr. Conrad Dias\\n\\nDirector – LOLC Holdings PLC, Director / CEO – LOLC Finance PLC, Chairman of LOLC Technology Limited\\n\\nCounts over 25 years of')),\n",
              " GraphDocument(nodes=[], relationships=[], source=Document(metadata={'source': './data/4.md'}, page_content=' Director / CEO – LOLC Finance PLC, Chairman of LOLC Technology Limited\\n\\nCounts over 25 years of experience and possesses domain expertise in sectors such as Trading, Banking…\\n\\nPrasanna Siriwardena\\n\\nDeputy CEO - LOLC Technology Services Ltd cum Chief Information Officer - LOLC Holdings, General – IT .\\n\\nPrasanna Siriwardena serves as the Deputy CEO - LOLC Technology Services Ltd cum Chief Information Officer…\\n\\nChamini Attanayake\\n\\nChief Operating Officer\\n\\nLaying an astounding groundwork in education, Chamini Attanayake, the COO of LOLC Technology started her career…\\n\\nOur Partners')),\n",
              " GraphDocument(nodes=[], relationships=[], source=Document(metadata={'source': './data/40.md'}, page_content='Senior DevOps/ DevOps Engineer\\n\\nRequirements\\n\\nA Bachelor’s degree in computer science, Information Technology, Engineering or related field with minimum 3 years of experience working in the DevOps area.\\n\\nMinimum 2 years of experience working with Kubernetes.\\n\\nCloud Certifications and Kubernetes certification will be an added advantage\\n\\nExperience in working with Service Meshes(Istio)\\n\\nA technical background on React, Java, Spring Boot, OAuth 2.0, Relational Databases(MySQL, Oracle) and Rest APIs\\n\\nHands on experience with Jenkins, ArgoCD and Spinnaker will be an added advantage\\n\\nKnowledge on Linux and bash scripting is required.\\n\\nFamiliar with source control systems(GitHub) and other DevOps tools(ex: SonarQube)\\n\\nResponsibilities\\n\\nImproving the existing CI/CD process and support development team.\\n\\nAttending to Daily SRE tasks\\n\\nOn Call support of production systems\\n\\nImplementing DevSecOps practices and Automation\\n\\nConfigure monitoring and alerting to improve the observability of existing production systems')),\n",
              " GraphDocument(nodes=[], relationships=[], source=Document(metadata={'source': './data/41.md'}, page_content='Senior Software Engineer\\n\\nDEVELOPMENT\\n\\nSkills\\n\\nAbility to complete all phases of software development life cycle including analysis, design, functionality, testing and support\\n\\nAbility to develop large scale web/database applications\\n\\nAbility to work on multiple projects with multiple deadlines\\n\\nAbility to communicate clearly with business users and project manager\\n\\nAbility to innovate and provide functional applications with intuitive interfaces\\n\\nAbility to construct user guides and documentation\\n\\nProject Management skills\\n\\nExcellent knowledge of Transact SQL\\n\\nRequirements\\n\\nProven experience with Microsoft .NET technologies including, .NET, ADO.NET, WCF, WPF\\n\\nLanguages: C#, SQL, JavaScript, jQuery, HTML, CSS, XML\\n\\nExperience in Microsoft Azure / Azure DevOps preferred\\n\\nMinimum 2-4 years in backend software design\\n\\n3 – 5 years of actual experience in the workplace\\n\\nA bachelor degree or equivalent qualification in Computer Science or Software Engineering\\n\\nResponsibilities\\n\\nWorking with Project Managers / Architects / Tech Leads to determine needs and applying / customizing existing technology to meet those needs.\\n\\nDeveloping, maintaining and supporting multiple projects and deadlines\\n\\nRecording work progress on a weekly basis\\n\\nDocumentation\\n\\nClosing Date:\\n\\nAPPLY NOW\\n\\nRecent Vacancies\\n\\nSenior DevOps/ DevOps Engineer\\n\\nVIEW JOB')),\n",
              " GraphDocument(nodes=[], relationships=[], source=Document(metadata={'source': './data/42.md'}, page_content='LOLC Technologies Limited\\n\\nContact: +94 011 500 1121 (076 884 0426)\\n\\nLOLC Technologies Limited is a fully owned subsidiary of LOLC group, incorporated in 2004, specializing in IT Systems integrations. The company holds ISO 9000, ISO 20000, and ISO 27001 certifications.\\n\\nWhat We Offer\\n\\nLOLC Technologies provides innovative and cutting-edge technology solutions to facilitate businesses in reaching greater heights.\\n\\nTailor-made solutions for your business.\\n\\nSolutions to clients across the globe.\\n\\nOur IT Solutions\\n\\nERP and EPM: Solutions to ease day-to-day financial and operational activities and increase business efficiency.\\n\\nMulti-Cloud Technology: Flexibility to optimize performance, control costs, and leverage the best cloud technologies available.\\n\\nService Transformation & Automation: Real-time solutions through service transformation and automation.\\n\\nGRC, Information Security & Consultancy: Maximize investments with best practices and desirable profits through GRC, Information Security, and consultancy solutions.\\n\\nFinTech: Latest technologies in AI (Artificial Intelligence), cloud computing, blockchain, and big data.\\n\\nMIS & Analytics: Custom-designed insightful dashboards with relevant business improvement information, converting raw data into valuable business analytics.\\n\\nManaged Services: Reducing expenses with improved service quality, delivering efficiency and convenience at every stage and scale.\\n\\nDatabase Services: [Learn More]\\n\\nIndustries We Serve\\n\\nBanking & Finance\\n\\nTelecommunication\\n\\nLeisure\\n\\nManufacturing\\n\\nConglomerates\\n\\nOur Impact\\n\\n500+ Happy Users\\n\\n850+ Projects Done\\n\\n350+ Business Partners\\n\\n12+ Awards Winning\\n\\nCase Studies\\n\\nLOLC Technologies creates exceptional solutions with an out-of-the-box approach to provide state-of-the-art solutions for business needs.\\n\\nLOLC Technologies Boosts Efficiency Through Innovation (Industrial)\\n\\nThe Pioneering Journey of LOLC Technologies\\n\\nHUTCH completes implementation of advanced Oracle (Industrial / Telecommunication)\\n\\nOur Team\\n\\nLeadership Team:\\n\\nMr. Conrad Dias: Director – LOLC Holdings PLC, Director / CEO – LOLC Finance PLC, Chairman of LOLC Technology Limited. 25+ years of experience in Trading, Banking.\\n\\nPrasanna Siriwardena: Deputy CEO - LOLC Technology Services Ltd cum')),\n",
              " GraphDocument(nodes=[], relationships=[], source=Document(metadata={'source': './data/42.md'}, page_content=' experience in Trading, Banking.\\n\\nPrasanna Siriwardena: Deputy CEO - LOLC Technology Services Ltd cum Chief Information Officer - LOLC Holdings, General – IT .\\n\\nChamini Attanayake: Chief Operating Officer.\\n\\nWhat Our Clients Say\\n\\nLECO: Recommends LOLC Technologies for IT assistance and reliability.\\n\\nWindforce PLC (Rusiri Cooray, Financial Controller): Appreciates the ease of financial consolidation with Oracle FCCS.\\n\\nNTB: Highlights the efficiency and transparency brought by OASYS^, particularly the asset management module.\\n\\nLOLC Cambodia PLC: Using OASYS since 2020 for automated helpdesk, workflow management, incident management, and report builder modules.\\n\\nRecent Articles\\n\\nSep 21, 2022 STARTUPS: The Pioneering Journey of LOLC...\\n\\nJun 16, 2022 TECHNOLOGY: LOLC Technologies Boosts Ef...\\n\\nJun 14, 2021 STARTUPS TECHNOLOGY: Hutch completes successful ...\\n\\nApr 02, 2020 BUSSINESS STARTUPS: FusionX by LOLC Technology ...\\n\\nJan 30, 2025 BUSSINESS: LOLC Technologies joins han...\\n\\nJan 15, 2025 EVENT: Beyond Boundaries: LOLC Tec...\\n\\nJan 07, 2025 BUSSINESS: LOLC’S Global IT Conference...\\n\\nNov 03, 2024 BUSSINESS: LOLC Tech and Sanfer partne...\\n\\nJul 30, 2024 TECHNOLOGY: LOLC Technologies unveils S...')),\n",
              " GraphDocument(nodes=[], relationships=[], source=Document(metadata={'source': './data/43.md'}, page_content='404 Page Not Found!\\n\\nIt looks like nothing was found at this location.\\n\\nContact Information\\n\\n+94 011 500 1121 (076 884 0426)\\n\\nNavigation\\n\\nServices & Solutions Partners About Join Us Contact\\n\\nHome/ 404')),\n",
              " GraphDocument(nodes=[], relationships=[], source=Document(metadata={'source': './data/44.md'}, page_content='404\\n\\nPage Not Found!\\n\\nIt looks like nothing was found at this location.\\n\\nContact: +94 011 500 1121 (076 884 0426)\\n\\nServices & Solutions Partners About Join Us Contact')),\n",
              " GraphDocument(nodes=[], relationships=[], source=Document(metadata={'source': './data/5.md'}, page_content='OUR PEOPLE\\n\\nOur people are our greatest asset. With our team of skilled, experienced and qualified staff members, we expect to reach greater heights in the industry achieving both operational and service excellence. Our recruitment process ensures that the most suitable and highly skilled prospects are recruited which has enabled the company to maintain its high standards of delivering exceptional service to our clients ensuring highest level of satisfaction.\\n\\nOur employees receive the opportunity to groom and progress themselves through the extensive on the job and off the job trainings offered which focus on their professional as well as personal development.\\n\\nLOLC Technologies is the best place for talented individuals with the right attitude and passion to continuously learn and develop their skills and competencies and reach the pinnacle of their careers. The culture and the friendly work environment at LOLC Technologies facilitates continuous learning and creates opportunities for the employees to grow their knowledge and enhance their potential.\\n\\nWhy join LOLC Technologies?\\n\\nThe team based culture which facilitates knowledge sharing\\n\\nOn the job learning and continuous training programs\\n\\nExposure to a network of well experienced IT and business professionals\\n\\nFriendly working atmosphere and organizational culture\\n\\nGroom yourself to become a successful professional\\n\\nVACANCIES\\n\\nSeeking Careers?\\n\\nDevelopment\\n\\nSenior DevOps/ DevOps Engineer\\n\\nClosing Date\\n\\nAPPLY NOW\\n\\nDevelopment\\n\\nSenior Software Engineer\\n\\nClosing Date\\n\\nAPPLY NOW')),\n",
              " GraphDocument(nodes=[], relationships=[], source=Document(metadata={'source': './data/6.md'}, page_content='LOLC Technologies Contact Information\\n\\nContact\\n\\nTo request further information, contact us via our social channels or email us.\\n\\nGive us a call or drop by anytime. We attempt to answer all inquiries within 24 hours on business days. Connect with us at any time and get a free quote for your project.\\n\\nLOLC Technologies Limited No. 137, Rajagiriya Rd, Rajagiriya, Sri Lanka\\n\\nTel: 011-5-001121 Mobile: 077 812 668 / 076 884 0426 Fax: 011-2-865606 E-mail: sales@lolctech.com\\n\\nInquiry Form\\n\\nFirst Name:\\n\\nLast Name:\\n\\nPhone No:\\n\\nEmail:\\n\\nType of Inquiry:\\n\\nGeneral\\n\\nCareers\\n\\nTechnical Support\\n\\nMessage:\\n\\nFollow Us')),\n",
              " GraphDocument(nodes=[], relationships=[], source=Document(metadata={'source': './data/7.md'}, page_content='ERP and EPM Solutions by LOLC Technologies\\n\\nWe provide cloud, ERP, and EPM solutions at LOLC Technologies to ease your day-to-day financial and operational activities and increase your business efficiency. Our cloud services provide you with the latest IT solutions such as dynamic workflow development, through digitalized documentation and \"Go Green\" strategy, automating your custom workflows. We also provide you with an \"all-inclusive\" solution in asset management that helps you manage your software and your tangibles. We also provide you with the technology to self-develop your customized report requirements. Additionally, LOLC Technologies’ close cooperation with Oracle E-Business Suite (EBS) for solutions in financials, procurement, asset lifecycle management, logistics, and services is used to deliver ERP and EPM solutions.\\n\\nWhy choose ERP and EPM solutions of LOLC?\\n\\nSimplicity\\n\\nTransparency\\n\\nEfficient collaboration\\n\\nLimitless accessibility\\n\\nPerformance and service indicators\\n\\nBusiness beyond IT\\n\\nBenefits for your company\\n\\nUsers resolve operational issues conveniently and efficiently\\n\\nPerformance is measured against Service Level Agreements (SLA) to ensure quality\\n\\nIdentifies root causes to eliminate through data analysis\\n\\nStreamlines/ Integrates people, processes and technology with ISO standards')),\n",
              " GraphDocument(nodes=[], relationships=[], source=Document(metadata={'source': './data/8.md'}, page_content='Multi-Cloud Technology\\n\\n+94 011 500 1121 (076 884 0426)\\n\\nServices & Solutions Partners About Join Us Contact\\n\\nHome/ Services & Solutions/ Multi-Cloud Technology\\n\\nBACK\\n\\nMulticloud – the use of cloud services from two or more vendors – gives organizations more flexibility to optimize performance, control costs, and leverage the best cloud technologies available')),\n",
              " GraphDocument(nodes=[], relationships=[], source=Document(metadata={'source': './data/9.md'}, page_content='Service Transformation & Automation\\n\\nWe provide solutions at your fingertips through the latest real-time systems through service transformation and automation at LOLC technologies. Our services give you the ability to manage and monitor your progress over SLA tracking systems, transforming your company into one with higher efficiency. We ensure that all automation processes are completely transparent. Our service transformation also provides enhancements to existing applications that allow you to complete your tasks with speed and at a low cost.'))]"
            ]
          },
          "execution_count": 34,
          "metadata": {},
          "output_type": "execute_result"
        }
      ],
      "source": [
        "graph_documents"
      ]
    },
    {
      "cell_type": "code",
      "execution_count": 35,
      "metadata": {
        "id": "ib_g3U1d97th"
      },
      "outputs": [],
      "source": [
        "graph.add_graph_documents(\n",
        "    graph_documents,\n",
        "    baseEntityLabel=True,\n",
        "    include_source=True\n",
        ")"
      ]
    },
    {
      "cell_type": "code",
      "execution_count": 36,
      "metadata": {
        "id": "rC-4O5FQ99yH"
      },
      "outputs": [],
      "source": [
        "# directly show the graph resulting from the given Cypher query\n",
        "default_cypher = \"MATCH (s)-[r:!MENTIONS]->(t) RETURN s,r,t LIMIT 50\""
      ]
    },
    {
      "cell_type": "code",
      "execution_count": 37,
      "metadata": {
        "id": "K-91BluK_62t"
      },
      "outputs": [],
      "source": [
        "from yfiles_jupyter_graphs import GraphWidget\n",
        "from neo4j import GraphDatabase"
      ]
    },
    {
      "cell_type": "code",
      "execution_count": 38,
      "metadata": {
        "id": "zHSkb7LeBghn"
      },
      "outputs": [],
      "source": [
        "from typing import Tuple, List, Optional"
      ]
    },
    {
      "cell_type": "code",
      "execution_count": 39,
      "metadata": {
        "id": "TuDVi4vHBjXP"
      },
      "outputs": [],
      "source": [
        "from langchain_community.vectorstores import Neo4jVector"
      ]
    },
    {
      "cell_type": "code",
      "execution_count": 40,
      "metadata": {
        "id": "M_JloAimBlcK"
      },
      "outputs": [],
      "source": [
        "from langchain_google_genai import GoogleGenerativeAIEmbeddings\n",
        "\n",
        "vector_index = Neo4jVector.from_existing_graph(\n",
        "    GoogleGenerativeAIEmbeddings(model=\"models/text-embedding-004\"),\n",
        "    search_type=\"hybrid\",\n",
        "    node_label=\"Document\",\n",
        "    text_node_properties=[\"text\"],\n",
        "    embedding_node_property=\"embedding\"\n",
        ")"
      ]
    },
    {
      "cell_type": "code",
      "execution_count": 41,
      "metadata": {
        "colab": {
          "base_uri": "https://localhost:8080/"
        },
        "id": "e0EXdSStG-Oe",
        "outputId": "d8c21f17-913c-4af0-acdb-1a9eb49dbba7"
      },
      "outputs": [
        {
          "data": {
            "text/plain": [
              "[]"
            ]
          },
          "execution_count": 41,
          "metadata": {},
          "output_type": "execute_result"
        }
      ],
      "source": [
        "graph.query(\"CREATE FULLTEXT INDEX entity IF NOT EXISTS FOR (e:__Entity__) ON EACH [e.id]\")"
      ]
    },
    {
      "cell_type": "code",
      "execution_count": 42,
      "metadata": {
        "id": "qksArGKrAvie"
      },
      "outputs": [
        {
          "name": "stderr",
          "output_type": "stream",
          "text": [
            "c:\\Users\\nawee\\AppData\\Local\\anaconda3\\envs\\graphRag\\lib\\site-packages\\IPython\\core\\interactiveshell.py:3579: LangChainDeprecationWarning: As of langchain-core 0.3.0, LangChain uses pydantic v2 internally. The langchain_core.pydantic_v1 module was a compatibility shim for pydantic v1, and should no longer be used. Please update the code to import from Pydantic directly.\n",
            "\n",
            "For example, replace imports like: `from langchain_core.pydantic_v1 import BaseModel`\n",
            "with: `from pydantic import BaseModel`\n",
            "or the v1 compatibility namespace if you are working in a code base that has not been fully upgraded to pydantic 2 yet. \tfrom pydantic.v1 import BaseModel\n",
            "\n",
            "  exec(code_obj, self.user_global_ns, self.user_ns)\n"
          ]
        }
      ],
      "source": [
        "from langchain_core.pydantic_v1 import BaseModel, Field\n",
        "\n",
        "\n",
        "class Entities(BaseModel):\n",
        "    \"\"\"Identifying information about entities.\"\"\"\n",
        "\n",
        "    names: List[str] = Field(\n",
        "        ...,\n",
        "        description=\"All the person, organization, or business entities that \"\n",
        "        \"appear in the text\",\n",
        "    )\n"
      ]
    },
    {
      "cell_type": "code",
      "execution_count": 43,
      "metadata": {
        "id": "Mx6sfpgRBrs-"
      },
      "outputs": [],
      "source": [
        "from langchain_core.prompts import ChatPromptTemplate\n",
        "from langchain_core.prompts.prompt import PromptTemplate"
      ]
    },
    {
      "cell_type": "code",
      "execution_count": 44,
      "metadata": {
        "id": "xUobRC1wAx-_"
      },
      "outputs": [],
      "source": [
        "prompt = ChatPromptTemplate.from_messages(\n",
        "    [\n",
        "        (\n",
        "            \"system\",\n",
        "            \"You are extracting organization and person entities from the text.\",\n",
        "        ),\n",
        "        (\n",
        "            \"human\",\n",
        "            \"Use the given format to extract information from the following \"\n",
        "            \"input: {question}\",\n",
        "        ),\n",
        "    ]\n",
        ")"
      ]
    },
    {
      "cell_type": "code",
      "execution_count": 45,
      "metadata": {
        "id": "KGR6ocjkA0I_"
      },
      "outputs": [],
      "source": [
        "entity_chain = prompt | llm.with_structured_output(Entities)"
      ]
    },
    {
      "cell_type": "code",
      "execution_count": 46,
      "metadata": {
        "colab": {
          "base_uri": "https://localhost:8080/"
        },
        "id": "xPLkIEmkA2R2",
        "outputId": "fecf9433-32c4-4203-ad94-ca1c56ee60ee"
      },
      "outputs": [
        {
          "data": {
            "text/plain": [
              "['Prasanna Siriwardane']"
            ]
          },
          "execution_count": 46,
          "metadata": {},
          "output_type": "execute_result"
        }
      ],
      "source": [
        "entity_chain.invoke({\"question\": \"Who is Prasanna Siriwardane\"}).names"
      ]
    },
    {
      "cell_type": "code",
      "execution_count": 47,
      "metadata": {
        "id": "RpbOzL5BA6hW"
      },
      "outputs": [],
      "source": [
        "from langchain_community.vectorstores.neo4j_vector import remove_lucene_chars"
      ]
    },
    {
      "cell_type": "code",
      "execution_count": 48,
      "metadata": {
        "id": "7gHCkvGKA86t"
      },
      "outputs": [],
      "source": [
        "def generate_full_text_query(input: str) -> str:\n",
        "    full_text_query = \"\"\n",
        "    words = [el for el in remove_lucene_chars(input).split() if el]\n",
        "    for word in words[:-1]:\n",
        "        full_text_query += f\" {word}~2 AND\"\n",
        "    full_text_query += f\" {words[-1]}~2\"\n",
        "    return full_text_query.strip()\n"
      ]
    },
    {
      "cell_type": "code",
      "execution_count": 49,
      "metadata": {},
      "outputs": [],
      "source": [
        "import time"
      ]
    },
    {
      "cell_type": "code",
      "execution_count": 50,
      "metadata": {
        "id": "kjPkmFJbA_lv"
      },
      "outputs": [],
      "source": [
        "# Fulltext index query\n",
        "def structured_retriever(question: str) -> str:\n",
        "    start_time = time.time()\n",
        "    result = \"\"\n",
        "    entities = entity_chain.invoke({\"question\": question})\n",
        "    entity_queries = [generate_full_text_query(entity) for entity in entities.names]\n",
        "\n",
        "    if entity_queries:\n",
        "        query = \"\"\"\n",
        "        UNWIND $queries AS query\n",
        "        CALL db.index.fulltext.queryNodes('entity', query, {limit:2})\n",
        "        YIELD node, score\n",
        "        CALL (node, score) {\n",
        "            MATCH (node)-[r:!MENTIONS]->(neighbor)\n",
        "            RETURN node.id + ' - ' + type(r) + ' -> ' + neighbor.id AS output\n",
        "            UNION ALL\n",
        "            MATCH (node)<-[r:!MENTIONS]-(neighbor)\n",
        "            RETURN neighbor.id + ' - ' + type(r) + ' -> ' + node.id AS output\n",
        "        }\n",
        "        RETURN output LIMIT 25\n",
        "        \"\"\"\n",
        "        response = graph.query(query, {\"queries\": entity_queries})\n",
        "        result = \"\\n\".join([el['output'] for el in response])\n",
        "\n",
        "    print(\"OPTIMIZED_STRUCTURED_RETRIEVER: --- %s seconds ---\" % (time.time() - start_time))\n",
        "    return result"
      ]
    },
    {
      "cell_type": "code",
      "execution_count": 51,
      "metadata": {
        "colab": {
          "base_uri": "https://localhost:8080/"
        },
        "id": "nIla9QpzBA8u",
        "outputId": "c521c295-5964-45bd-9ce3-29c65ad3f823"
      },
      "outputs": [
        {
          "name": "stdout",
          "output_type": "stream",
          "text": [
            "OPTIMIZED_STRUCTURED_RETRIEVER: --- 5.812939405441284 seconds ---\n",
            "Prasanna Siriwardena - DEPUTY_CEO -> Lolc Technology Services Ltd\n",
            "Prasanna Siriwardena - CHIEF_INFORMATION_OFFICER -> Lolc Holdings\n",
            "Prasanna Siriwardena - DEPUTY_CEO_OF -> Lolc Technologies\n",
            "Prasanna Siriwardena - HOLDS_POSITION -> Chief Information Officer\n",
            "Prasanna Siriwardena - WORKS_AT -> Lolc Holdings\n",
            "Prasanna Siriwardena - HOLDS_POSITION -> Deputy Ceo\n",
            "Prasanna Siriwardena - WORKS_AT -> Lolc Technology Services Ltd\n"
          ]
        },
        {
          "name": "stderr",
          "output_type": "stream",
          "text": [
            "C:\\Users\\nawee\\AppData\\Local\\Temp\\ipykernel_20612\\3894304667.py:3: LangChainDeprecationWarning: The function `remove_lucene_chars` was deprecated in LangChain 0.3.8 and will be removed in 1.0. An updated version of the function exists in the :meth:`~langchain-neo4j package and should be used instead. To use it run `pip install -U :meth:`~langchain-neo4j` and import as `from :meth:`~langchain_neo4j.vectorstores.neo4j_vector import remove_lucene_chars``.\n",
            "  words = [el for el in remove_lucene_chars(input).split() if el]\n"
          ]
        }
      ],
      "source": [
        "print(structured_retriever(\"Who is Prasanna Siriwardane?\"))"
      ]
    },
    {
      "cell_type": "code",
      "execution_count": null,
      "metadata": {},
      "outputs": [],
      "source": [
        "prompt = PromptTemplate(template=prompt_template, input_variables=[\"company_name\"])\n",
        "\n",
        "# Create an OpenAI LLM\n",
        "llm = OpenAI(temperature=0)\n",
        "\n",
        "# Create a LangChain LLMChain with the prompt template and LLM\n",
        "llm_chain = LLMChain(prompt=prompt, llm=llm)\n",
        "\n",
        "# Query the chain\n",
        "response = llm_chain.run(company_name=\"lolc tech\")"
      ]
    },
    {
      "cell_type": "code",
      "execution_count": 116,
      "metadata": {
        "id": "Zo1QoB_iBDfO"
      },
      "outputs": [],
      "source": [
        "def retriever(question: str):\n",
        "    print(f\"Search query: {question}\")\n",
        "    structured_data = structured_retriever(question)\n",
        "    print(\"STRUCTURED_DATA: \", structured_data)\n",
        "    # structured_data = \"\"\n",
        "    start_time = time.time()\n",
        "    unstructured_data = [el.page_content for el in vector_index.similarity_search(question)]\n",
        "    print(\"OPTIMIZED_NORMAL_RETRIEVER: --- %s seconds ---\" % (time.time() - start_time))\n",
        "    final_data = f\"\"\"Structured data:\n",
        "{structured_data}\n",
        "Unstructured data:\n",
        "{\"#Document \". join(unstructured_data)}\n",
        "    \"\"\"\n",
        "    return final_data"
      ]
    },
    {
      "cell_type": "code",
      "execution_count": 117,
      "metadata": {
        "id": "nDLnOXBTBFaf"
      },
      "outputs": [],
      "source": [
        "_template = \"\"\"Given the following conversation and a follow up question, rephrase the follow up question to be a standalone question,\n",
        "in its original language.\n",
        "Chat History:\n",
        "{chat_history}\n",
        "Follow Up Input: {question}\n",
        "Standalone question:\"\"\""
      ]
    },
    {
      "cell_type": "code",
      "execution_count": 118,
      "metadata": {
        "id": "hozfZicpBG2G"
      },
      "outputs": [],
      "source": [
        "CONDENSE_QUESTION_PROMPT = PromptTemplate.from_template(_template)"
      ]
    },
    {
      "cell_type": "code",
      "execution_count": 119,
      "metadata": {},
      "outputs": [
        {
          "data": {
            "text/plain": [
              "PromptTemplate(input_variables=['chat_history', 'question'], input_types={}, partial_variables={}, template='Given the following conversation and a follow up question, rephrase the follow up question to be a standalone question,\\nin its original language.\\nChat History:\\n{chat_history}\\nFollow Up Input: {question}\\nStandalone question:')"
            ]
          },
          "execution_count": 119,
          "metadata": {},
          "output_type": "execute_result"
        }
      ],
      "source": [
        "CONDENSE_QUESTION_PROMPT"
      ]
    },
    {
      "cell_type": "code",
      "execution_count": 120,
      "metadata": {
        "id": "A9Oi3AEeBIPf"
      },
      "outputs": [],
      "source": [
        "def _format_chat_history(chat_history: List[Tuple[str, str]]) -> List:\n",
        "    buffer = []\n",
        "    for human, ai in chat_history:\n",
        "        buffer.append(HumanMessage(content=human))\n",
        "        buffer.append(AIMessage(content=ai))\n",
        "    return buffer"
      ]
    },
    {
      "cell_type": "code",
      "execution_count": 121,
      "metadata": {
        "id": "vXV65bjDBJwO"
      },
      "outputs": [],
      "source": [
        "_search_query = RunnableBranch(\n",
        "    # If input includes chat_history, include it in the follow up question\n",
        "    (\n",
        "        RunnableLambda(lambda x: bool(x.get(\"chat_history\"))).with_config(\n",
        "            run_name=\"HasChatHistoryCheck\"\n",
        "        ),  # Condense follow-up question and chat into a standalone_question\n",
        "        RunnablePassthrough.assign(\n",
        "            chat_history=lambda x: _format_chat_history(x[\"chat_history\"])\n",
        "        )\n",
        "        | CONDENSE_QUESTION_PROMPT\n",
        "        | ChatGoogleGenerativeAI(temperature=0, model=\"gemini-2.0-flash\", rate_limiter=rate_limiter)\n",
        "        | StrOutputParser(),\n",
        "    ),\n",
        "    # Else, we have no chat history, so just pass through the question\n",
        "    RunnableLambda(lambda x : x[\"question\"]),\n",
        ")"
      ]
    },
    {
      "cell_type": "code",
      "execution_count": 122,
      "metadata": {
        "id": "zuVyoD1iBLgt"
      },
      "outputs": [],
      "source": [
        "template = \"\"\"You are a helpful front desk assistant for LOLC Technologies. Answer the question based only on the following context:\n",
        "{context}\n",
        "\n",
        "Question: {question}\n",
        "Use natural language and be concise.\n",
        "Answer:\"\"\""
      ]
    },
    {
      "cell_type": "code",
      "execution_count": 123,
      "metadata": {
        "id": "ehex9TRGBM4m"
      },
      "outputs": [],
      "source": [
        "prompt = ChatPromptTemplate.from_template(template)"
      ]
    },
    {
      "cell_type": "code",
      "execution_count": 124,
      "metadata": {
        "id": "UI6LVwkpBOOA"
      },
      "outputs": [],
      "source": [
        "chain = (\n",
        "    RunnableParallel(\n",
        "        {\n",
        "            \"context\": _search_query | retriever,\n",
        "            \"question\": RunnablePassthrough(),\n",
        "        }\n",
        "    )\n",
        "    | prompt\n",
        "    | llm\n",
        "    | StrOutputParser()\n",
        ")"
      ]
    },
    {
      "cell_type": "code",
      "execution_count": 127,
      "metadata": {},
      "outputs": [],
      "source": [
        "question = \"Who are the leadership team in your company? what are their details and backgrounds\""
      ]
    },
    {
      "cell_type": "code",
      "execution_count": 128,
      "metadata": {
        "colab": {
          "base_uri": "https://localhost:8080/",
          "height": 54
        },
        "id": "GZAq-jz3BOrn",
        "outputId": "d438df41-4a7e-437a-a022-902d8290e4cb"
      },
      "outputs": [
        {
          "name": "stdout",
          "output_type": "stream",
          "text": [
            "Search query: Who are the leadership team in your company? what are their details and backgrounds\n",
            "OPTIMIZED_STRUCTURED_RETRIEVER: --- 1.7180919647216797 seconds ---\n",
            "STRUCTURED_DATA:  \n"
          ]
        },
        {
          "name": "stderr",
          "output_type": "stream",
          "text": [
            "Received notification from DBMS server: {severity: WARNING} {code: Neo.ClientNotification.Statement.FeatureDeprecationWarning} {category: DEPRECATION} {title: This feature is deprecated and will be removed in future versions.} {description: CALL subquery without a variable scope clause is now deprecated. Use CALL () { ... }} {position: line: 1, column: 1, offset: 0} for query: \"CALL { CALL db.index.vector.queryNodes($index, $k, $embedding) YIELD node, score WITH collect({node:node, score:score}) AS nodes, max(score) AS max UNWIND nodes AS n RETURN n.node AS node, (n.score / max) AS score UNION CALL db.index.fulltext.queryNodes($keyword_index, $query, {limit: $k}) YIELD node, score WITH collect({node:node, score:score}) AS nodes, max(score) AS max UNWIND nodes AS n RETURN n.node AS node, (n.score / max) AS score } WITH node, max(score) AS score ORDER BY score DESC LIMIT $k RETURN reduce(str='', k IN ['text'] | str + '\\\\n' + k + ': ' + coalesce(node[k], '')) AS text, node {.*, `embedding`: Null, id: Null, `text`: Null} AS metadata, score\"\n"
          ]
        },
        {
          "name": "stdout",
          "output_type": "stream",
          "text": [
            "OPTIMIZED_NORMAL_RETRIEVER: --- 0.3914673328399658 seconds ---\n"
          ]
        },
        {
          "data": {
            "text/plain": [
              "'The leadership team includes:\\n\\n*   **Conrad Dias:** Director of LOLC Holdings PLC, Director/CEO of LOLC Finance PLC, and Chairman of LOLC Technology Limited. He has over 25 years of experience in Trading, Banking, Finance, Assets Management, and Manufacturing. He holds an MBA from the University of Leicester.\\n*   **Prasanna Siriwardena:** Deputy CEO of LOLC Technology Services Ltd, Chief Information Officer of LOLC Holdings, General – IT. He has over 18 years of experience in Information Security and Information Technology Management. He holds an MSc in Information Technology from Keele University – UK.\\n*   **Chamini Attanayake:** Chief Operating Officer.'"
            ]
          },
          "execution_count": 128,
          "metadata": {},
          "output_type": "execute_result"
        }
      ],
      "source": [
        "chain.invoke({\"question\": question})"
      ]
    },
    {
      "cell_type": "code",
      "execution_count": 107,
      "metadata": {},
      "outputs": [
        {
          "data": {
            "text/plain": [
              "ChatPromptTemplate(input_variables=['context', 'question'], input_types={}, partial_variables={}, messages=[HumanMessagePromptTemplate(prompt=PromptTemplate(input_variables=['context', 'question'], input_types={}, partial_variables={}, template='You are a helpful front desk assistant for LOLC Technologies. Answer the question based only on the following context:\\n{context}\\n\\nQuestion: {question}\\nUse natural language and be concise.\\nAnswer:'), additional_kwargs={})])"
            ]
          },
          "execution_count": 107,
          "metadata": {},
          "output_type": "execute_result"
        }
      ],
      "source": [
        "prompt"
      ]
    },
    {
      "cell_type": "code",
      "execution_count": 131,
      "metadata": {
        "colab": {
          "base_uri": "https://localhost:8080/",
          "height": 54
        },
        "id": "b8bO9V_MIBZ5",
        "outputId": "d5d3cfa2-c4ec-4089-e715-0233e688bf85"
      },
      "outputs": [
        {
          "name": "stdout",
          "output_type": "stream",
          "text": [
            "Search query: Who are the leadership team in LOLC Technologies? What are their details and backgrounds?\n",
            "OPTIMIZED_STRUCTURED_RETRIEVER: --- 5.736302852630615 seconds ---\n",
            "STRUCTURED_DATA:  Lolc Technologies - EXPERIENCE -> Services\n",
            "Lolc Technologies - EXPERIENCE -> Telecommunication\n",
            "Lolc Technologies - EXPERIENCE -> Manufacturing\n",
            "Lolc Technologies - PROVIDE -> Oracle Supply Chain Management\n",
            "Lolc Technologies - EXPERIENCE -> Bfsi\n",
            "Lolc Technologies - PROVIDE -> Erp Implementation\n",
            "Lolc Technologies - PROVIDE -> Oracle Ebs Financials\n",
            "Lolc Technologies - PARTNER -> Oracle\n",
            "Lolc Technologies - PROVIDE -> Oracle E-Business Suite\n",
            "Lolc Technologies - PROVIDE -> Epm Implementation\n",
            "Lolc Technologies - PROVIDE -> Cloud Services\n",
            "Lolc Technologies - PROVIDE -> On-Premise Services\n",
            "Lolc Technologies - PARTNERS_WITH -> Huawei\n",
            "Lolc Technologies - DEVELOPS -> Chatbot\n",
            "Lolc Technologies - PARTNER_WITH -> Microsoft\n",
            "Lolc Technologies - PARTNER_WITH -> Yenasys\n",
            "Lolc Technologies - ORGANIZED -> Sports Day 2024\n",
            "Lolc Technologies - JOINS_HANDS_WITH -> Microsoft\n",
            "Lolc Technologies - ENHANCE_WITH -> Azure\n",
            "Prasanna Siriwardena - DEPUTY_CEO_OF -> Lolc Technologies\n",
            "Conrad Dias - CHAIRMAN_OF -> Lolc Technologies\n",
            "Lolc Technologies Limited - SUBSIDIARY_OF -> Lolc Group\n",
            "Conrad Dias - MANAGING_DIRECTOR/CHIEF_EXECUTIVE_OFFICER -> Lolc Technologies Limited\n",
            "Conrad Dias - CHAIRMAN -> Lolc Technologies Limited\n"
          ]
        },
        {
          "name": "stderr",
          "output_type": "stream",
          "text": [
            "Received notification from DBMS server: {severity: WARNING} {code: Neo.ClientNotification.Statement.FeatureDeprecationWarning} {category: DEPRECATION} {title: This feature is deprecated and will be removed in future versions.} {description: CALL subquery without a variable scope clause is now deprecated. Use CALL () { ... }} {position: line: 1, column: 1, offset: 0} for query: \"CALL { CALL db.index.vector.queryNodes($index, $k, $embedding) YIELD node, score WITH collect({node:node, score:score}) AS nodes, max(score) AS max UNWIND nodes AS n RETURN n.node AS node, (n.score / max) AS score UNION CALL db.index.fulltext.queryNodes($keyword_index, $query, {limit: $k}) YIELD node, score WITH collect({node:node, score:score}) AS nodes, max(score) AS max UNWIND nodes AS n RETURN n.node AS node, (n.score / max) AS score } WITH node, max(score) AS score ORDER BY score DESC LIMIT $k RETURN reduce(str='', k IN ['text'] | str + '\\\\n' + k + ': ' + coalesce(node[k], '')) AS text, node {.*, `embedding`: Null, id: Null, `text`: Null} AS metadata, score\"\n"
          ]
        },
        {
          "name": "stdout",
          "output_type": "stream",
          "text": [
            "OPTIMIZED_NORMAL_RETRIEVER: --- 0.38660550117492676 seconds ---\n"
          ]
        },
        {
          "data": {
            "text/plain": [
              "'The leadership team includes:\\n\\n*   **Conrad Dias:** Chairman of LOLC Technology Limited. He has over 25 years of experience in sectors such as Trading and Banking.\\n*   **Prasanna Siriwardena:** Deputy CEO of LOLC Technologies.\\n*   **Chamini Attanayake:** Chief Operating Officer.'"
            ]
          },
          "execution_count": 131,
          "metadata": {},
          "output_type": "execute_result"
        }
      ],
      "source": [
        "chain.invoke(\n",
        "    {\n",
        "        \"question\": \"Who are the leadership team in your company? what are their details and backgrounds\",\n",
        "        \"chat_history\": [(\"Who are you?\", \"Im an assistant for LOLC Technologies\")],\n",
        "    }\n",
        ")"
      ]
    },
    {
      "cell_type": "code",
      "execution_count": null,
      "metadata": {
        "id": "qyIlAGROIUKC"
      },
      "outputs": [],
      "source": [
        "\"The leadership team includes:\\n\\n*   **Mr. Conrad Dias:** Director – LOLC Holdings PLC, Director / CEO – LOLC Finance PLC, Chairman of LOLC Technology Limited. He has over 25 years of experience in Trading and Banking.\\n*   **Prasanna Siriwardena:** Deputy CEO - LOLC Technology Services Ltd cum Chief Information Officer - LOLC Holdings, General – IT.\\n*   **Chamini Attanayake:** Chief Operating Officer\""
      ]
    },
    {
      "cell_type": "code",
      "execution_count": 204,
      "metadata": {},
      "outputs": [],
      "source": [
        "entities = [x['n']['id'] for x in graph.query(\"\"\"MATCH (n)\n",
        "WHERE n:Organization OR n:Person\n",
        "RETURN n\n",
        "\"\"\")]"
      ]
    },
    {
      "cell_type": "code",
      "execution_count": 205,
      "metadata": {},
      "outputs": [
        {
          "data": {
            "text/plain": [
              "['Lolc Technologies Limited',\n",
              " 'Conrad Dias',\n",
              " 'Lolc Technology Limited',\n",
              " 'Prasanna Siriwardena',\n",
              " 'Lolc Technology Services Ltd',\n",
              " 'Lolc Holdings',\n",
              " 'Chamini Attanayake',\n",
              " 'Leco',\n",
              " 'Windforce Plc',\n",
              " 'Rusiri Cooray',\n",
              " 'Ntb',\n",
              " 'Lolc Cambodia Plc',\n",
              " 'Hutch',\n",
              " 'Lalith Fernando',\n",
              " 'Lolc Technologies',\n",
              " 'Michael Jordan',\n",
              " 'Thisan Samarasinghe',\n",
              " 'Nileka Madurapperuma',\n",
              " 'Bhanuka Gunathilake',\n",
              " 'Abhishek Jayakody',\n",
              " 'Imasha Udayangi',\n",
              " 'Nalan Perera',\n",
              " 'Jayani Botheju',\n",
              " 'Sujeewa Premathilake',\n",
              " 'Nimesh Lakshitha',\n",
              " 'Dilantha Matharaarachchi',\n",
              " 'Ashirwada Methsarani',\n",
              " 'Customer',\n",
              " 'Huawei',\n",
              " 'Oracle',\n",
              " 'Lolc Holdings Plc',\n",
              " 'Lolc Finance Plc',\n",
              " 'Hirdaramani Group Of Companies',\n",
              " 'Vanik Incorporations Limited',\n",
              " 'Eagle Ndb Fund Management Company Limited',\n",
              " 'National Bank Of Kuwait',\n",
              " 'Kmpg',\n",
              " 'East West Information Systems Ltd',\n",
              " 'Jayantha Ke',\n",
              " 'Jayantha Kelegama']"
            ]
          },
          "execution_count": 205,
          "metadata": {},
          "output_type": "execute_result"
        }
      ],
      "source": [
        "entities"
      ]
    },
    {
      "cell_type": "code",
      "execution_count": null,
      "metadata": {},
      "outputs": [
        {
          "name": "stdout",
          "output_type": "stream",
          "text": [
            "Here's the analysis of interchangeable entities:\n",
            "\n",
            "{\n",
            "    1 : [\"Lolc Technologies Limited\", \"Lolc Technology Limited\", \"Lolc Technologies\"],\n",
            "    2 : [\"Lolc Holdings\", \"Lolc Holdings Plc\"],\n",
            "    3 : [\"Jayantha Ke\", \"Jayantha Kelegama\"]\n",
            "}\n"
          ]
        },
        {
          "ename": "",
          "evalue": "",
          "output_type": "error",
          "traceback": [
            "\u001b[1;31mThe Kernel crashed while executing code in the current cell or a previous cell. \n",
            "\u001b[1;31mPlease review the code in the cell(s) to identify a possible cause of the failure. \n",
            "\u001b[1;31mClick <a href='https://aka.ms/vscodeJupyterKernelCrash'>here</a> for more info. \n",
            "\u001b[1;31mView Jupyter <a href='command:jupyter.viewOutput'>log</a> for further details."
          ]
        }
      ],
      "source": [
        "\n",
        "from langchain.chains import LLMChain\n",
        "from langchain.prompts import PromptTemplate\n",
        "from langchain.chains import LLMChain\n",
        "from langchain.llms import OpenAI\n",
        "\n",
        "\n",
        "\n",
        "# Define the prompt template\n",
        "prompt_template = \"\"\"\n",
        "Identify only the interchangeable entities or persons in the following context:\n",
        "{companies}\n",
        "____________________\n",
        "\n",
        "For example: J.Smith interchangeable with John Smith\n",
        "If one doesnt relate to any other dont include them. Only include entities youre highly confident. Return the interchangeable entities in the following format:\n",
        "{{\n",
        "    1 : [\"entity1\", \"entity2\"],\n",
        "    2 : [\"entity3\", \"entity4\"]\n",
        "}}\n",
        "\"\"\"\n",
        "\n",
        "# Create the PromptTemplate and LLMChain\n",
        "prompt = PromptTemplate(template=prompt_template, input_variables=[\"companies\"])\n",
        "\n",
        "llm = ChatGoogleGenerativeAI(model=\"gemini-2.0-flash-lite\", rate_limiter=rate_limiter, verbose=True, temperature=0)\n",
        "\n",
        "# Create the LLMChain with the prompt and LLM\n",
        "llm_chain = LLMChain(prompt=prompt, llm=llm)\n",
        "\n",
        "# Run the chain with the input entities\n",
        "response = llm_chain.run(companies=entities)\n",
        "\n",
        "# Output the response\n",
        "print(response)\n"
      ]
    },
    {
      "cell_type": "code",
      "execution_count": null,
      "metadata": {},
      "outputs": [],
      "source": []
    }
  ],
  "metadata": {
    "accelerator": "GPU",
    "colab": {
      "authorship_tag": "ABX9TyMIuVjJKqR/9fsypmYd/Dng",
      "gpuType": "T4",
      "include_colab_link": true,
      "provenance": []
    },
    "kernelspec": {
      "display_name": "graphRag",
      "language": "python",
      "name": "python3"
    },
    "language_info": {
      "codemirror_mode": {
        "name": "ipython",
        "version": 3
      },
      "file_extension": ".py",
      "mimetype": "text/x-python",
      "name": "python",
      "nbconvert_exporter": "python",
      "pygments_lexer": "ipython3",
      "version": "3.10.16"
    },
    "widgets": {
      "application/vnd.jupyter.widget-state+json": {
        "5caa1675fb9b47e89ceeab4a5aabb705": {
          "model_module": "@jupyter-widgets/base",
          "model_module_version": "1.2.0",
          "model_name": "LayoutModel",
          "state": {
            "_model_module": "@jupyter-widgets/base",
            "_model_module_version": "1.2.0",
            "_model_name": "LayoutModel",
            "_view_count": null,
            "_view_module": "@jupyter-widgets/base",
            "_view_module_version": "1.2.0",
            "_view_name": "LayoutView",
            "align_content": null,
            "align_items": null,
            "align_self": null,
            "border": null,
            "bottom": null,
            "display": null,
            "flex": null,
            "flex_flow": null,
            "grid_area": null,
            "grid_auto_columns": null,
            "grid_auto_flow": null,
            "grid_auto_rows": null,
            "grid_column": null,
            "grid_gap": null,
            "grid_row": null,
            "grid_template_areas": null,
            "grid_template_columns": null,
            "grid_template_rows": null,
            "height": "800px",
            "justify_content": null,
            "justify_items": null,
            "left": null,
            "margin": null,
            "max_height": null,
            "max_width": null,
            "min_height": null,
            "min_width": null,
            "object_fit": null,
            "object_position": null,
            "order": null,
            "overflow": null,
            "overflow_x": null,
            "overflow_y": null,
            "padding": null,
            "right": null,
            "top": null,
            "visibility": null,
            "width": "100%"
          }
        },
        "e8b6acc77d8f4d208b74b4f1d05144e5": {
          "model_module": "yfiles-jupyter-graphs",
          "model_module_version": "^1.6.2",
          "model_name": "GraphModel",
          "state": {
            "_context_pane_mapping": [
              {
                "id": "Neighborhood",
                "title": "Neighborhood"
              },
              {
                "id": "Data",
                "title": "Data"
              },
              {
                "id": "Search",
                "title": "Search"
              },
              {
                "id": "About",
                "title": "About"
              }
            ],
            "_data_importer": "neo4j",
            "_directed": true,
            "_dom_classes": [],
            "_edges": [
              {
                "color": "#9C27B0",
                "directed": true,
                "end": 2,
                "id": 1152922604118474800,
                "label": "RULED",
                "properties": {
                  "label": "RULED"
                },
                "start": 1,
                "thickness_factor": 1
              },
              {
                "color": "#9C27B0",
                "directed": true,
                "end": 3,
                "id": 1155174403932160000,
                "label": "RULED",
                "properties": {
                  "label": "RULED"
                },
                "start": 1,
                "thickness_factor": 1
              },
              {
                "color": "#2196F3",
                "directed": true,
                "end": 4,
                "id": 1152923703630102500,
                "label": "BELONGS_TO",
                "properties": {
                  "label": "BELONGS_TO"
                },
                "start": 1,
                "thickness_factor": 1
              },
              {
                "color": "#4CAF50",
                "directed": true,
                "end": 5,
                "id": 1152924803141730300,
                "label": "CHILD_OF",
                "properties": {
                  "label": "CHILD_OF"
                },
                "start": 1,
                "thickness_factor": 1
              },
              {
                "color": "#4CAF50",
                "directed": true,
                "end": 6,
                "id": 1155176602955415600,
                "label": "CHILD_OF",
                "properties": {
                  "label": "CHILD_OF"
                },
                "start": 1,
                "thickness_factor": 1
              },
              {
                "color": "#F44336",
                "directed": true,
                "end": 7,
                "id": 1152925902653358000,
                "label": "HALF-SISTER_OF",
                "properties": {
                  "label": "HALF-SISTER_OF"
                },
                "start": 1,
                "thickness_factor": 1
              },
              {
                "color": "#F44336",
                "directed": true,
                "end": 9,
                "id": 1155177702467043300,
                "label": "HALF-SISTER_OF",
                "properties": {
                  "label": "HALF-SISTER_OF"
                },
                "start": 1,
                "thickness_factor": 1
              },
              {
                "color": "#607D8B",
                "directed": true,
                "end": 8,
                "id": 1152927002164985900,
                "label": "IGNORED_CLAIMS_OF",
                "properties": {
                  "label": "IGNORED_CLAIMS_OF"
                },
                "start": 1,
                "thickness_factor": 1
              },
              {
                "color": "#673AB7",
                "directed": true,
                "end": 10,
                "id": 1152928101676613600,
                "label": "DEPENDS_ON",
                "properties": {
                  "label": "DEPENDS_ON"
                },
                "start": 1,
                "thickness_factor": 1
              },
              {
                "color": "#673AB7",
                "directed": true,
                "end": 16,
                "id": 1155179901490299000,
                "label": "DEPENDS_ON",
                "properties": {
                  "label": "DEPENDS_ON"
                },
                "start": 1,
                "thickness_factor": 1
              },
              {
                "color": "#CDDC39",
                "directed": true,
                "end": 11,
                "id": 1152929201188241400,
                "label": "CREATED_TITLE",
                "properties": {
                  "label": "CREATED_TITLE"
                },
                "start": 1,
                "thickness_factor": 1
              },
              {
                "color": "#9E9E9E",
                "directed": true,
                "end": 12,
                "id": 1152930300699869200,
                "label": "SUCCEEDED_BY",
                "properties": {
                  "label": "SUCCEEDED_BY"
                },
                "start": 1,
                "thickness_factor": 1
              },
              {
                "color": "#9C27B0",
                "directed": true,
                "end": 13,
                "id": 1152931400211497000,
                "label": "MOTHER_OF",
                "properties": {
                  "label": "MOTHER_OF"
                },
                "start": 1,
                "thickness_factor": 1
              },
              {
                "color": "#2196F3",
                "directed": true,
                "end": 14,
                "id": 1152932499723124700,
                "label": "MANOEUVRING_BETWEEN",
                "properties": {
                  "label": "MANOEUVRING_BETWEEN"
                },
                "start": 1,
                "thickness_factor": 1
              },
              {
                "color": "#2196F3",
                "directed": true,
                "end": 15,
                "id": 1155184299536810000,
                "label": "MANOEUVRING_BETWEEN",
                "properties": {
                  "label": "MANOEUVRING_BETWEEN"
                },
                "start": 1,
                "thickness_factor": 1
              },
              {
                "color": "#4CAF50",
                "directed": true,
                "end": 12,
                "id": 6917560913478287000,
                "label": "SUCCESSOR",
                "properties": {
                  "label": "SUCCESSOR"
                },
                "start": 1,
                "thickness_factor": 1
              },
              {
                "color": "#4CAF50",
                "directed": true,
                "end": 1,
                "id": 1157456990071423000,
                "label": "SUCCESSOR",
                "properties": {
                  "label": "SUCCESSOR"
                },
                "start": 5,
                "thickness_factor": 1
              },
              {
                "color": "#4CAF50",
                "directed": true,
                "end": 7,
                "id": 1152953390444052500,
                "label": "SUCCESSOR",
                "properties": {
                  "label": "SUCCESSOR"
                },
                "start": 5,
                "thickness_factor": 1
              },
              {
                "color": "#4CAF50",
                "directed": true,
                "end": 54,
                "id": 1155205190257737700,
                "label": "SUCCESSOR",
                "properties": {
                  "label": "SUCCESSOR"
                },
                "start": 5,
                "thickness_factor": 1
              },
              {
                "color": "#4CAF50",
                "directed": true,
                "end": 55,
                "id": 1159708789885108200,
                "label": "SUCCESSOR",
                "properties": {
                  "label": "SUCCESSOR"
                },
                "start": 5,
                "thickness_factor": 1
              },
              {
                "color": "#4CAF50",
                "directed": true,
                "end": 56,
                "id": 1161960589698793500,
                "label": "SUCCESSOR",
                "properties": {
                  "label": "SUCCESSOR"
                },
                "start": 5,
                "thickness_factor": 1
              },
              {
                "color": "#4CAF50",
                "directed": true,
                "end": 57,
                "id": 1164212389512478700,
                "label": "SUCCESSOR",
                "properties": {
                  "label": "SUCCESSOR"
                },
                "start": 5,
                "thickness_factor": 1
              },
              {
                "color": "#4CAF50",
                "directed": true,
                "end": 58,
                "id": 1166464189326164000,
                "label": "SUCCESSOR",
                "properties": {
                  "label": "SUCCESSOR"
                },
                "start": 5,
                "thickness_factor": 1
              },
              {
                "color": "#F44336",
                "directed": true,
                "end": 63,
                "id": 1155197493676343300,
                "label": "PARENT",
                "properties": {
                  "label": "PARENT"
                },
                "start": 13,
                "thickness_factor": 1
              },
              {
                "color": "#F44336",
                "directed": true,
                "end": 65,
                "id": 1152945693862658000,
                "label": "PARENT",
                "properties": {
                  "label": "PARENT"
                },
                "start": 13,
                "thickness_factor": 1
              },
              {
                "color": "#4CAF50",
                "directed": true,
                "end": 18,
                "id": 1152953390444052500,
                "label": "SUCCESSOR",
                "properties": {
                  "label": "SUCCESSOR"
                },
                "start": 13,
                "thickness_factor": 1
              },
              {
                "color": "#607D8B",
                "directed": true,
                "end": 3,
                "id": 1159688998675808300,
                "label": "WAR",
                "properties": {
                  "label": "WAR"
                },
                "start": 18,
                "thickness_factor": 1
              },
              {
                "color": "#607D8B",
                "directed": true,
                "end": 14,
                "id": 1157437198862123000,
                "label": "WAR",
                "properties": {
                  "label": "WAR"
                },
                "start": 18,
                "thickness_factor": 1
              },
              {
                "color": "#607D8B",
                "directed": true,
                "end": 15,
                "id": 1152933599234752500,
                "label": "WAR",
                "properties": {
                  "label": "WAR"
                },
                "start": 18,
                "thickness_factor": 1
              },
              {
                "color": "#607D8B",
                "directed": true,
                "end": 19,
                "id": 1155185399048437800,
                "label": "WAR",
                "properties": {
                  "label": "WAR"
                },
                "start": 18,
                "thickness_factor": 1
              },
              {
                "color": "#673AB7",
                "directed": true,
                "end": 20,
                "id": 1152934698746380300,
                "label": "INFLUENCED",
                "properties": {
                  "label": "INFLUENCED"
                },
                "start": 18,
                "thickness_factor": 1
              },
              {
                "color": "#673AB7",
                "directed": true,
                "end": 21,
                "id": 1155186498560065500,
                "label": "INFLUENCED",
                "properties": {
                  "label": "INFLUENCED"
                },
                "start": 18,
                "thickness_factor": 1
              },
              {
                "color": "#673AB7",
                "directed": true,
                "end": 22,
                "id": 1157438298373750800,
                "label": "INFLUENCED",
                "properties": {
                  "label": "INFLUENCED"
                },
                "start": 18,
                "thickness_factor": 1
              },
              {
                "color": "#673AB7",
                "directed": true,
                "end": 23,
                "id": 1159690098187436000,
                "label": "INFLUENCED",
                "properties": {
                  "label": "INFLUENCED"
                },
                "start": 18,
                "thickness_factor": 1
              },
              {
                "color": "#CDDC39",
                "directed": true,
                "end": 24,
                "id": 1152935798258008000,
                "label": "DEFEATED",
                "properties": {
                  "label": "DEFEATED"
                },
                "start": 18,
                "thickness_factor": 1
              },
              {
                "color": "#F44336",
                "directed": true,
                "end": 43,
                "id": 1152945693862658000,
                "label": "PARENT",
                "properties": {
                  "label": "PARENT"
                },
                "start": 18,
                "thickness_factor": 1
              },
              {
                "color": "#F44336",
                "directed": true,
                "end": 44,
                "id": 1155197493676343300,
                "label": "PARENT",
                "properties": {
                  "label": "PARENT"
                },
                "start": 18,
                "thickness_factor": 1
              },
              {
                "color": "#9E9E9E",
                "directed": true,
                "end": 47,
                "id": 1152948992397541400,
                "label": "RECEIVED_TITLE",
                "properties": {
                  "label": "RECEIVED_TITLE"
                },
                "start": 18,
                "thickness_factor": 1
              },
              {
                "color": "#9C27B0",
                "directed": true,
                "end": 27,
                "id": 1152936897769635800,
                "label": "HELD_TITLE",
                "properties": {
                  "label": "HELD_TITLE"
                },
                "start": 26,
                "thickness_factor": 1
              },
              {
                "color": "#2196F3",
                "directed": true,
                "end": 28,
                "id": 1152937997281263600,
                "label": "DAUGHTER_OF",
                "properties": {
                  "label": "DAUGHTER_OF"
                },
                "start": 26,
                "thickness_factor": 1
              },
              {
                "color": "#2196F3",
                "directed": true,
                "end": 29,
                "id": 1155189797094948900,
                "label": "DAUGHTER_OF",
                "properties": {
                  "label": "DAUGHTER_OF"
                },
                "start": 26,
                "thickness_factor": 1
              },
              {
                "color": "#4CAF50",
                "directed": true,
                "end": 30,
                "id": 1152939096792891400,
                "label": "RELATED_TO",
                "properties": {
                  "label": "RELATED_TO"
                },
                "start": 26,
                "thickness_factor": 1
              },
              {
                "color": "#4CAF50",
                "directed": true,
                "end": 31,
                "id": 1155190896606576600,
                "label": "RELATED_TO",
                "properties": {
                  "label": "RELATED_TO"
                },
                "start": 26,
                "thickness_factor": 1
              },
              {
                "color": "#4CAF50",
                "directed": true,
                "end": 32,
                "id": 1157442696420262000,
                "label": "RELATED_TO",
                "properties": {
                  "label": "RELATED_TO"
                },
                "start": 26,
                "thickness_factor": 1
              },
              {
                "color": "#F44336",
                "directed": true,
                "end": 33,
                "id": 1152940196304519200,
                "label": "DECLARED_AS_HEIR",
                "properties": {
                  "label": "DECLARED_AS_HEIR"
                },
                "start": 26,
                "thickness_factor": 1
              },
              {
                "color": "#607D8B",
                "directed": true,
                "end": 34,
                "id": 1152941295816147000,
                "label": "SUPPORTED_FOUNDATION_OF_UNIVERSITY_OF_MOSCOW",
                "properties": {
                  "label": "SUPPORTED_FOUNDATION_OF_UNIVERSITY_OF_MOSCOW"
                },
                "start": 26,
                "thickness_factor": 1
              },
              {
                "color": "#673AB7",
                "directed": true,
                "end": 35,
                "id": 1152942395327774700,
                "label": "ENCOURAGED_FOUNDATION_OF_IMPERIAL_ACADEMY_OF_ARTS",
                "properties": {
                  "label": "ENCOURAGED_FOUNDATION_OF_IMPERIAL_ACADEMY_OF_ARTS"
                },
                "start": 26,
                "thickness_factor": 1
              },
              {
                "color": "#CDDC39",
                "directed": true,
                "end": 36,
                "id": 1152943494839402500,
                "label": "SUPPORTED_ARCHITECTURAL_PROJECTS_BY",
                "properties": {
                  "label": "SUPPORTED_ARCHITECTURAL_PROJECTS_BY"
                },
                "start": 26,
                "thickness_factor": 1
              },
              {
                "color": "#9E9E9E",
                "directed": true,
                "end": 37,
                "id": 1152944594351030300,
                "label": "SOLVED_EUROPEAN_CONFLICT_WITH",
                "properties": {
                  "label": "SOLVED_EUROPEAN_CONFLICT_WITH"
                },
                "start": 26,
                "thickness_factor": 1
              },
              {
                "color": "#F44336",
                "directed": true,
                "end": 43,
                "id": 6924308616337949000,
                "label": "PARENT",
                "properties": {
                  "label": "PARENT"
                },
                "start": 31,
                "thickness_factor": 1
              }
            ],
            "_graph_layout": {},
            "_highlight": [],
            "_license": {},
            "_model_module": "yfiles-jupyter-graphs",
            "_model_module_version": "^1.6.2",
            "_model_name": "GraphModel",
            "_neighborhood": {},
            "_nodes": [
              {
                "color": "#2196F3",
                "id": 1,
                "label": "Elizabeth I",
                "position": [
                  0,
                  0
                ],
                "properties": {
                  "id": "Elizabeth I",
                  "label": "Person:__Entity__"
                },
                "scale_factor": 1,
                "size": [
                  55,
                  55
                ],
                "styles": {},
                "type": "#2196F3"
              },
              {
                "color": "#4CAF50",
                "id": 2,
                "label": "England",
                "position": [
                  0,
                  0
                ],
                "properties": {
                  "id": "England",
                  "label": "Country:__Entity__"
                },
                "scale_factor": 1,
                "size": [
                  55,
                  55
                ],
                "styles": {},
                "type": "#4CAF50"
              },
              {
                "color": "#4CAF50",
                "id": 3,
                "label": "Ireland",
                "position": [
                  0,
                  0
                ],
                "properties": {
                  "id": "Ireland",
                  "label": "Country:__Entity__"
                },
                "scale_factor": 1,
                "size": [
                  55,
                  55
                ],
                "styles": {},
                "type": "#4CAF50"
              },
              {
                "color": "#F44336",
                "id": 4,
                "label": "House Of Tudor",
                "position": [
                  0,
                  0
                ],
                "properties": {
                  "id": "House Of Tudor",
                  "label": "Royal family:__Entity__"
                },
                "scale_factor": 1,
                "size": [
                  55,
                  55
                ],
                "styles": {},
                "type": "#F44336"
              },
              {
                "color": "#2196F3",
                "id": 5,
                "label": "Henry Viii",
                "position": [
                  0,
                  0
                ],
                "properties": {
                  "id": "Henry Viii",
                  "label": "Person:__Entity__"
                },
                "scale_factor": 1,
                "size": [
                  55,
                  55
                ],
                "styles": {},
                "type": "#2196F3"
              },
              {
                "color": "#2196F3",
                "id": 6,
                "label": "Anne Boleyn",
                "position": [
                  0,
                  0
                ],
                "properties": {
                  "id": "Anne Boleyn",
                  "label": "Person:__Entity__"
                },
                "scale_factor": 1,
                "size": [
                  55,
                  55
                ],
                "styles": {},
                "type": "#2196F3"
              },
              {
                "color": "#2196F3",
                "id": 7,
                "label": "Edward Vi",
                "position": [
                  0,
                  0
                ],
                "properties": {
                  "id": "Edward Vi",
                  "label": "Person:__Entity__"
                },
                "scale_factor": 1,
                "size": [
                  55,
                  55
                ],
                "styles": {},
                "type": "#2196F3"
              },
              {
                "color": "#2196F3",
                "id": 9,
                "label": "Mary",
                "position": [
                  0,
                  0
                ],
                "properties": {
                  "id": "Mary",
                  "label": "Person:__Entity__"
                },
                "scale_factor": 1,
                "size": [
                  55,
                  55
                ],
                "styles": {},
                "type": "#2196F3"
              },
              {
                "color": "#2196F3",
                "id": 8,
                "label": "Lady Jane Grey",
                "position": [
                  0,
                  0
                ],
                "properties": {
                  "id": "Lady Jane Grey",
                  "label": "Person:__Entity__"
                },
                "scale_factor": 1,
                "size": [
                  55,
                  55
                ],
                "styles": {},
                "type": "#2196F3"
              },
              {
                "color": "#2196F3",
                "id": 10,
                "label": "William Cecil",
                "position": [
                  0,
                  0
                ],
                "properties": {
                  "id": "William Cecil",
                  "label": "Person:__Entity__"
                },
                "scale_factor": 1,
                "size": [
                  55,
                  55
                ],
                "styles": {},
                "type": "#2196F3"
              },
              {
                "color": "#2196F3",
                "id": 16,
                "label": "Sir Francis Walsingham",
                "position": [
                  0,
                  0
                ],
                "properties": {
                  "id": "Sir Francis Walsingham",
                  "label": "Person:__Entity__"
                },
                "scale_factor": 1,
                "size": [
                  55,
                  55
                ],
                "styles": {},
                "type": "#2196F3"
              },
              {
                "color": "#607D8B",
                "id": 11,
                "label": "Baron Burghley",
                "position": [
                  0,
                  0
                ],
                "properties": {
                  "id": "Baron Burghley",
                  "label": "Title:__Entity__"
                },
                "scale_factor": 1,
                "size": [
                  55,
                  55
                ],
                "styles": {},
                "type": "#607D8B"
              },
              {
                "color": "#2196F3",
                "id": 12,
                "label": "James Vi Of Scotland",
                "position": [
                  0,
                  0
                ],
                "properties": {
                  "id": "James Vi Of Scotland",
                  "label": "Person:__Entity__"
                },
                "scale_factor": 1,
                "size": [
                  55,
                  55
                ],
                "styles": {},
                "type": "#2196F3"
              },
              {
                "color": "#2196F3",
                "id": 13,
                "label": "Mary, Queen Of Scots",
                "position": [
                  0,
                  0
                ],
                "properties": {
                  "id": "Mary, Queen Of Scots",
                  "label": "Person:__Entity__"
                },
                "scale_factor": 1,
                "size": [
                  55,
                  55
                ],
                "styles": {},
                "type": "#2196F3"
              },
              {
                "color": "#4CAF50",
                "id": 14,
                "label": "France",
                "position": [
                  0,
                  0
                ],
                "properties": {
                  "id": "France",
                  "label": "Country:__Entity__"
                },
                "scale_factor": 1,
                "size": [
                  55,
                  55
                ],
                "styles": {},
                "type": "#4CAF50"
              },
              {
                "color": "#4CAF50",
                "id": 15,
                "label": "Spain",
                "position": [
                  0,
                  0
                ],
                "properties": {
                  "id": "Spain",
                  "label": "Country:__Entity__"
                },
                "scale_factor": 1,
                "size": [
                  55,
                  55
                ],
                "styles": {},
                "type": "#4CAF50"
              },
              {
                "color": "#2196F3",
                "id": 54,
                "label": "Mary I",
                "position": [
                  0,
                  0
                ],
                "properties": {
                  "id": "Mary I",
                  "label": "Person:__Entity__"
                },
                "scale_factor": 1,
                "size": [
                  55,
                  55
                ],
                "styles": {},
                "type": "#2196F3"
              },
              {
                "color": "#2196F3",
                "id": 55,
                "label": "Jane Grey",
                "position": [
                  0,
                  0
                ],
                "properties": {
                  "id": "Jane Grey",
                  "label": "Person:__Entity__"
                },
                "scale_factor": 1,
                "size": [
                  55,
                  55
                ],
                "styles": {},
                "type": "#2196F3"
              },
              {
                "color": "#2196F3",
                "id": 56,
                "label": "Katherine Grey",
                "position": [
                  0,
                  0
                ],
                "properties": {
                  "id": "Katherine Grey",
                  "label": "Person:__Entity__"
                },
                "scale_factor": 1,
                "size": [
                  55,
                  55
                ],
                "styles": {},
                "type": "#2196F3"
              },
              {
                "color": "#2196F3",
                "id": 57,
                "label": "Mary Grey",
                "position": [
                  0,
                  0
                ],
                "properties": {
                  "id": "Mary Grey",
                  "label": "Person:__Entity__"
                },
                "scale_factor": 1,
                "size": [
                  55,
                  55
                ],
                "styles": {},
                "type": "#2196F3"
              },
              {
                "color": "#2196F3",
                "id": 58,
                "label": "Margaret Clifford",
                "position": [
                  0,
                  0
                ],
                "properties": {
                  "id": "Margaret Clifford",
                  "label": "Person:__Entity__"
                },
                "scale_factor": 1,
                "size": [
                  55,
                  55
                ],
                "styles": {},
                "type": "#2196F3"
              },
              {
                "color": "#2196F3",
                "id": 63,
                "label": "Arbella Stuart",
                "position": [
                  0,
                  0
                ],
                "properties": {
                  "id": "Arbella Stuart",
                  "label": "Person:__Entity__"
                },
                "scale_factor": 1,
                "size": [
                  55,
                  55
                ],
                "styles": {},
                "type": "#2196F3"
              },
              {
                "color": "#2196F3",
                "id": 65,
                "label": "James Vi",
                "position": [
                  0,
                  0
                ],
                "properties": {
                  "id": "James Vi",
                  "label": "Person:__Entity__"
                },
                "scale_factor": 1,
                "size": [
                  55,
                  55
                ],
                "styles": {},
                "type": "#2196F3"
              },
              {
                "color": "#2196F3",
                "id": 18,
                "label": "Elizabeth",
                "position": [
                  0,
                  0
                ],
                "properties": {
                  "id": "Elizabeth",
                  "label": "Person:__Entity__"
                },
                "scale_factor": 1,
                "size": [
                  55,
                  55
                ],
                "styles": {},
                "type": "#2196F3"
              },
              {
                "color": "#4CAF50",
                "id": 19,
                "label": "Netherlands",
                "position": [
                  0,
                  0
                ],
                "properties": {
                  "id": "Netherlands",
                  "label": "Country:__Entity__"
                },
                "scale_factor": 1,
                "size": [
                  55,
                  55
                ],
                "styles": {},
                "type": "#4CAF50"
              },
              {
                "color": "#673AB7",
                "id": 20,
                "label": "William Shakespeare",
                "position": [
                  0,
                  0
                ],
                "properties": {
                  "id": "William Shakespeare",
                  "label": "Playwright:__Entity__"
                },
                "scale_factor": 1,
                "size": [
                  55,
                  55
                ],
                "styles": {},
                "type": "#673AB7"
              },
              {
                "color": "#673AB7",
                "id": 21,
                "label": "Christopher Marlowe",
                "position": [
                  0,
                  0
                ],
                "properties": {
                  "id": "Christopher Marlowe",
                  "label": "Playwright:__Entity__"
                },
                "scale_factor": 1,
                "size": [
                  55,
                  55
                ],
                "styles": {},
                "type": "#673AB7"
              },
              {
                "color": "#CDDC39",
                "id": 22,
                "label": "Francis Drake",
                "position": [
                  0,
                  0
                ],
                "properties": {
                  "id": "Francis Drake",
                  "label": "Maritime adventurer:__Entity__"
                },
                "scale_factor": 1,
                "size": [
                  55,
                  55
                ],
                "styles": {},
                "type": "#CDDC39"
              },
              {
                "color": "#CDDC39",
                "id": 23,
                "label": "Walter Raleigh",
                "position": [
                  0,
                  0
                ],
                "properties": {
                  "id": "Walter Raleigh",
                  "label": "Maritime adventurer:__Entity__"
                },
                "scale_factor": 1,
                "size": [
                  55,
                  55
                ],
                "styles": {},
                "type": "#CDDC39"
              },
              {
                "color": "#9E9E9E",
                "id": 24,
                "label": "Spanish Armada",
                "position": [
                  0,
                  0
                ],
                "properties": {
                  "id": "Spanish Armada",
                  "label": "Event:__Entity__"
                },
                "scale_factor": 1,
                "size": [
                  55,
                  55
                ],
                "styles": {},
                "type": "#9E9E9E"
              },
              {
                "color": "#2196F3",
                "id": 43,
                "label": "Peter The Great",
                "position": [
                  0,
                  0
                ],
                "properties": {
                  "id": "Peter The Great",
                  "label": "Person:__Entity__"
                },
                "scale_factor": 1,
                "size": [
                  55,
                  55
                ],
                "styles": {},
                "type": "#2196F3"
              },
              {
                "color": "#2196F3",
                "id": 44,
                "label": "Catherine",
                "position": [
                  0,
                  0
                ],
                "properties": {
                  "id": "Catherine",
                  "label": "Person:__Entity__"
                },
                "scale_factor": 1,
                "size": [
                  55,
                  55
                ],
                "styles": {},
                "type": "#2196F3"
              },
              {
                "color": "#607D8B",
                "id": 47,
                "label": "Tsarevna",
                "position": [
                  0,
                  0
                ],
                "properties": {
                  "id": "Tsarevna",
                  "label": "Title:__Entity__"
                },
                "scale_factor": 1,
                "size": [
                  55,
                  55
                ],
                "styles": {},
                "type": "#607D8B"
              },
              {
                "color": "#2196F3",
                "id": 26,
                "label": "Elizabeth Petrovna",
                "position": [
                  0,
                  0
                ],
                "properties": {
                  "id": "Elizabeth Petrovna",
                  "label": "Person:__Entity__"
                },
                "scale_factor": 1,
                "size": [
                  55,
                  55
                ],
                "styles": {},
                "type": "#2196F3"
              },
              {
                "color": "#607D8B",
                "id": 27,
                "label": "Empress Of Russia",
                "position": [
                  0,
                  0
                ],
                "properties": {
                  "id": "Empress Of Russia",
                  "label": "Title:__Entity__"
                },
                "scale_factor": 1,
                "size": [
                  55,
                  55
                ],
                "styles": {},
                "type": "#607D8B"
              },
              {
                "color": "#2196F3",
                "id": 28,
                "label": "Tsar Peter The Great",
                "position": [
                  0,
                  0
                ],
                "properties": {
                  "id": "Tsar Peter The Great",
                  "label": "Person:__Entity__"
                },
                "scale_factor": 1,
                "size": [
                  55,
                  55
                ],
                "styles": {},
                "type": "#2196F3"
              },
              {
                "color": "#2196F3",
                "id": 29,
                "label": "Catherine I Of Russia",
                "position": [
                  0,
                  0
                ],
                "properties": {
                  "id": "Catherine I Of Russia",
                  "label": "Person:__Entity__"
                },
                "scale_factor": 1,
                "size": [
                  55,
                  55
                ],
                "styles": {},
                "type": "#2196F3"
              },
              {
                "color": "#2196F3",
                "id": 30,
                "label": "Peter Ii",
                "position": [
                  0,
                  0
                ],
                "properties": {
                  "id": "Peter Ii",
                  "label": "Person:__Entity__"
                },
                "scale_factor": 1,
                "size": [
                  55,
                  55
                ],
                "styles": {},
                "type": "#2196F3"
              },
              {
                "color": "#2196F3",
                "id": 31,
                "label": "Anna",
                "position": [
                  0,
                  0
                ],
                "properties": {
                  "id": "Anna",
                  "label": "Person:__Entity__"
                },
                "scale_factor": 1,
                "size": [
                  55,
                  55
                ],
                "styles": {},
                "type": "#2196F3"
              },
              {
                "color": "#2196F3",
                "id": 32,
                "label": "Ivan Vi",
                "position": [
                  0,
                  0
                ],
                "properties": {
                  "id": "Ivan Vi",
                  "label": "Person:__Entity__"
                },
                "scale_factor": 1,
                "size": [
                  55,
                  55
                ],
                "styles": {},
                "type": "#2196F3"
              },
              {
                "color": "#2196F3",
                "id": 33,
                "label": "Peter Iii",
                "position": [
                  0,
                  0
                ],
                "properties": {
                  "id": "Peter Iii",
                  "label": "Person:__Entity__"
                },
                "scale_factor": 1,
                "size": [
                  55,
                  55
                ],
                "styles": {},
                "type": "#2196F3"
              },
              {
                "color": "#2196F3",
                "id": 34,
                "label": "Mikhail Lomonosov",
                "position": [
                  0,
                  0
                ],
                "properties": {
                  "id": "Mikhail Lomonosov",
                  "label": "Person:__Entity__"
                },
                "scale_factor": 1,
                "size": [
                  55,
                  55
                ],
                "styles": {},
                "type": "#2196F3"
              },
              {
                "color": "#2196F3",
                "id": 35,
                "label": "Ivan Shuvalov",
                "position": [
                  0,
                  0
                ],
                "properties": {
                  "id": "Ivan Shuvalov",
                  "label": "Person:__Entity__"
                },
                "scale_factor": 1,
                "size": [
                  55,
                  55
                ],
                "styles": {},
                "type": "#2196F3"
              },
              {
                "color": "#2196F3",
                "id": 36,
                "label": "Bartolomeo Rastrelli",
                "position": [
                  0,
                  0
                ],
                "properties": {
                  "id": "Bartolomeo Rastrelli",
                  "label": "Person:__Entity__"
                },
                "scale_factor": 1,
                "size": [
                  55,
                  55
                ],
                "styles": {},
                "type": "#2196F3"
              },
              {
                "color": "#2196F3",
                "id": 37,
                "label": "Aleksey Bestuzhev-Ryumin",
                "position": [
                  0,
                  0
                ],
                "properties": {
                  "id": "Aleksey Bestuzhev-Ryumin",
                  "label": "Person:__Entity__"
                },
                "scale_factor": 1,
                "size": [
                  55,
                  55
                ],
                "styles": {},
                "type": "#2196F3"
              }
            ],
            "_overview": {
              "enabled": null,
              "overview_set": false
            },
            "_selected_graph": [
              [],
              []
            ],
            "_sidebar": {
              "enabled": true,
              "start_with": ""
            },
            "_view_count": null,
            "_view_module": "yfiles-jupyter-graphs",
            "_view_module_version": "^1.6.2",
            "_view_name": "GraphView",
            "layout": "IPY_MODEL_5caa1675fb9b47e89ceeab4a5aabb705"
          }
        }
      }
    }
  },
  "nbformat": 4,
  "nbformat_minor": 0
}
